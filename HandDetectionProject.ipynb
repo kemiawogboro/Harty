{
 "cells": [
  {
   "cell_type": "code",
   "execution_count": 1,
   "id": "f2c32903",
   "metadata": {},
   "outputs": [
    {
     "name": "stdout",
     "output_type": "stream",
     "text": [
      "Requirement already satisfied: mediapipe in c:\\programdata\\anaconda3\\lib\\site-packages (0.8.11)\n",
      "Requirement already satisfied: attrs>=19.1.0 in c:\\programdata\\anaconda3\\lib\\site-packages (from mediapipe) (20.3.0)\n",
      "Requirement already satisfied: matplotlib in c:\\programdata\\anaconda3\\lib\\site-packages (from mediapipe) (3.3.4)\n",
      "Requirement already satisfied: protobuf<4,>=3.11 in c:\\programdata\\anaconda3\\lib\\site-packages (from mediapipe) (3.17.2)\n",
      "Requirement already satisfied: absl-py in c:\\programdata\\anaconda3\\lib\\site-packages (from mediapipe) (0.13.0)\n",
      "Requirement already satisfied: opencv-contrib-python in c:\\programdata\\anaconda3\\lib\\site-packages (from mediapipe) (4.6.0.66)\n",
      "Requirement already satisfied: numpy in c:\\programdata\\anaconda3\\lib\\site-packages (from mediapipe) (1.20.1)\n",
      "Requirement already satisfied: six>=1.9 in c:\\programdata\\anaconda3\\lib\\site-packages (from protobuf<4,>=3.11->mediapipe) (1.15.0)\n",
      "Requirement already satisfied: pillow>=6.2.0 in c:\\programdata\\anaconda3\\lib\\site-packages (from matplotlib->mediapipe) (8.2.0)\n",
      "Requirement already satisfied: cycler>=0.10 in c:\\programdata\\anaconda3\\lib\\site-packages (from matplotlib->mediapipe) (0.10.0)\n",
      "Requirement already satisfied: pyparsing!=2.0.4,!=2.1.2,!=2.1.6,>=2.0.3 in c:\\programdata\\anaconda3\\lib\\site-packages (from matplotlib->mediapipe) (2.4.7)\n",
      "Requirement already satisfied: python-dateutil>=2.1 in c:\\programdata\\anaconda3\\lib\\site-packages (from matplotlib->mediapipe) (2.8.1)\n",
      "Requirement already satisfied: kiwisolver>=1.0.1 in c:\\programdata\\anaconda3\\lib\\site-packages (from matplotlib->mediapipe) (1.3.1)\n",
      "Note: you may need to restart the kernel to use updated packages.\n"
     ]
    }
   ],
   "source": [
    "pip install mediapipe\n"
   ]
  },
  {
   "cell_type": "code",
   "execution_count": 40,
   "id": "2bafb2c4",
   "metadata": {},
   "outputs": [],
   "source": [
    "#step 1 Import all necessary libraries\n",
    "import cv2\n",
    "import mediapipe as mp"
   ]
  },
  {
   "cell_type": "code",
   "execution_count": 41,
   "id": "0976261e",
   "metadata": {},
   "outputs": [],
   "source": [
    "#step 2: i Identify your webcam\n",
    "cap= cv2.VideoCapture(0) #cos I am using my local webcam"
   ]
  },
  {
   "cell_type": "code",
   "execution_count": 42,
   "id": "4060c5f1",
   "metadata": {},
   "outputs": [],
   "source": [
    "#step 4 : leveraging the mediapipe library used for hand dertection\n",
    "\n",
    "mpHands = mp.solutions.hands\n",
    "hands = mpHands.Hands()\n",
    "mpDraw = mp.solutions.drawing_utils"
   ]
  },
  {
   "cell_type": "code",
   "execution_count": 43,
   "id": "ee6457bf",
   "metadata": {},
   "outputs": [],
   "source": [
    "#step3: Switch on webcam\n",
    "while True:\n",
    "    _, img = cap.read()\n",
    "    \n",
    "     #convert Image FROM BG to RGB \n",
    "    imgRGB  = cv2.cvtColor(img, cv2.COLOR_BGR2RGB)\n",
    "    \n",
    "     #Apply mediapipe\n",
    "    results = hands.process(imgRGB)\n",
    "   \n",
    "    #print(results.multi_hand_landmarks)\n",
    "    \n",
    "    if results.multi_hand_landmarks:\n",
    "        for handLms in results.multi_hand_landmarks:\n",
    "            for id, ln in enumerate(handLms.landmark):\n",
    "                #print(id, ln)\n",
    "    \n",
    "                mpDraw.draw_landmarks(img, handLms, mpHands.HAND_CONNECTIONS)\n",
    "        \n",
    "    cv2.putText(img, 'KemiAwosco Hand Detection Projects', (10, 70), cv2.FONT_HERSHEY_PLAIN, 3,(255,0,0), 2)\n",
    "    cv2.imshow('KemiAwosco Hand Detection Projects', img)\n",
    "    if cv2.waitKey(0) & 0xFF == ord('q'):# this allows us to kill the while loop\n",
    "        break\n",
    "#Release the capture once all the processing is done.\n",
    "cap.release()\n",
    "cv2.destroyAllWindows()"
   ]
  },
  {
   "cell_type": "code",
   "execution_count": null,
   "id": "d404dbb0",
   "metadata": {},
   "outputs": [],
   "source": []
  }
 ],
 "metadata": {
  "kernelspec": {
   "display_name": "Python 3",
   "language": "python",
   "name": "python3"
  },
  "language_info": {
   "codemirror_mode": {
    "name": "ipython",
    "version": 3
   },
   "file_extension": ".py",
   "mimetype": "text/x-python",
   "name": "python",
   "nbconvert_exporter": "python",
   "pygments_lexer": "ipython3",
   "version": "3.8.8"
  }
 },
 "nbformat": 4,
 "nbformat_minor": 5
}
