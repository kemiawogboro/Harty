{
 "cells": [
  {
   "cell_type": "markdown",
   "id": "65a43d68",
   "metadata": {},
   "source": [
    "# Basic EDA on Lagos House Prices Data Set"
   ]
  },
  {
   "cell_type": "code",
   "execution_count": null,
   "id": "d13cd8da",
   "metadata": {},
   "outputs": [],
   "source": []
  },
  {
   "cell_type": "markdown",
   "id": "da468144",
   "metadata": {},
   "source": [
    "The dataset contains 5336 records of rental properties around 7 districts in lagos. The data was sourced from a Nigerian real estate company website.\n",
    "\n",
    "Follow the steps provided to explore the data"
   ]
  },
  {
   "cell_type": "code",
   "execution_count": null,
   "id": "c7d9874e",
   "metadata": {},
   "outputs": [],
   "source": [
    "#import pandas\n",
    "import pandas as pd\n",
    "lagos_houses= pd.read_csv('lagos_house_prices_raw.csv')"
   ]
  },
  {
   "cell_type": "markdown",
   "id": "94a3c52b",
   "metadata": {},
   "source": [
    "Load the dataset and save it in a dataframe called `lagos_houses`.\n",
    "\n",
    "```\n",
    "lagos_houses = pd.read_csv('path_to_file\\\\filename.csv')\n",
    "```\n",
    "\n",
    "If your file is located in the same folder as this notebook you are working with, your code will simply look like this:\n",
    "\n",
    "```\n",
    "lagos_houses = pd.read_csv('filename.csv')\n",
    "```"
   ]
  },
  {
   "cell_type": "code",
   "execution_count": 4,
   "id": "4eda5893",
   "metadata": {},
   "outputs": [],
   "source": [
    "#load data file\n",
    "lagos_houses = pd.read_csv(r'lagos_house_prices_raw.csv')"
   ]
  },
  {
   "cell_type": "markdown",
   "id": "06b9ae31",
   "metadata": {},
   "source": [
    "use the head() method to view the first few rows of the data in `lagos_houses`"
   ]
  },
  {
   "cell_type": "code",
   "execution_count": 5,
   "id": "62aac1fc",
   "metadata": {},
   "outputs": [
    {
     "data": {
      "text/html": [
       "<div>\n",
       "<style scoped>\n",
       "    .dataframe tbody tr th:only-of-type {\n",
       "        vertical-align: middle;\n",
       "    }\n",
       "\n",
       "    .dataframe tbody tr th {\n",
       "        vertical-align: top;\n",
       "    }\n",
       "\n",
       "    .dataframe thead th {\n",
       "        text-align: right;\n",
       "    }\n",
       "</style>\n",
       "<table border=\"1\" class=\"dataframe\">\n",
       "  <thead>\n",
       "    <tr style=\"text-align: right;\">\n",
       "      <th></th>\n",
       "      <th>location</th>\n",
       "      <th>bed</th>\n",
       "      <th>bath</th>\n",
       "      <th>toilet</th>\n",
       "      <th>price</th>\n",
       "      <th>Property_Type</th>\n",
       "      <th>Parking_Space</th>\n",
       "      <th>Security</th>\n",
       "      <th>Electricity</th>\n",
       "      <th>Furnished</th>\n",
       "      <th>Security_Doors</th>\n",
       "      <th>CCTV</th>\n",
       "      <th>Pool</th>\n",
       "      <th>Gym</th>\n",
       "      <th>BQ</th>\n",
       "    </tr>\n",
       "  </thead>\n",
       "  <tbody>\n",
       "    <tr>\n",
       "      <th>0</th>\n",
       "      <td>yaba</td>\n",
       "      <td>1</td>\n",
       "      <td>1</td>\n",
       "      <td>2</td>\n",
       "      <td>700000</td>\n",
       "      <td>Mini flat</td>\n",
       "      <td>0</td>\n",
       "      <td>0</td>\n",
       "      <td>0</td>\n",
       "      <td>0</td>\n",
       "      <td>0</td>\n",
       "      <td>0</td>\n",
       "      <td>0</td>\n",
       "      <td>0</td>\n",
       "      <td>0</td>\n",
       "    </tr>\n",
       "    <tr>\n",
       "      <th>1</th>\n",
       "      <td>yaba</td>\n",
       "      <td>1</td>\n",
       "      <td>1</td>\n",
       "      <td>2</td>\n",
       "      <td>700000</td>\n",
       "      <td>Mini flat</td>\n",
       "      <td>0</td>\n",
       "      <td>0</td>\n",
       "      <td>0</td>\n",
       "      <td>0</td>\n",
       "      <td>0</td>\n",
       "      <td>0</td>\n",
       "      <td>0</td>\n",
       "      <td>0</td>\n",
       "      <td>0</td>\n",
       "    </tr>\n",
       "    <tr>\n",
       "      <th>2</th>\n",
       "      <td>yaba</td>\n",
       "      <td>1</td>\n",
       "      <td>1</td>\n",
       "      <td>2</td>\n",
       "      <td>650000</td>\n",
       "      <td>Mini flat</td>\n",
       "      <td>0</td>\n",
       "      <td>0</td>\n",
       "      <td>0</td>\n",
       "      <td>0</td>\n",
       "      <td>0</td>\n",
       "      <td>0</td>\n",
       "      <td>0</td>\n",
       "      <td>0</td>\n",
       "      <td>0</td>\n",
       "    </tr>\n",
       "    <tr>\n",
       "      <th>3</th>\n",
       "      <td>yaba</td>\n",
       "      <td>1</td>\n",
       "      <td>1</td>\n",
       "      <td>1</td>\n",
       "      <td>450000</td>\n",
       "      <td>Mini flat</td>\n",
       "      <td>0</td>\n",
       "      <td>0</td>\n",
       "      <td>0</td>\n",
       "      <td>0</td>\n",
       "      <td>0</td>\n",
       "      <td>0</td>\n",
       "      <td>0</td>\n",
       "      <td>0</td>\n",
       "      <td>0</td>\n",
       "    </tr>\n",
       "    <tr>\n",
       "      <th>4</th>\n",
       "      <td>yaba</td>\n",
       "      <td>3</td>\n",
       "      <td>3</td>\n",
       "      <td>4</td>\n",
       "      <td>800000</td>\n",
       "      <td>Detached duplex</td>\n",
       "      <td>0</td>\n",
       "      <td>1</td>\n",
       "      <td>0</td>\n",
       "      <td>0</td>\n",
       "      <td>0</td>\n",
       "      <td>0</td>\n",
       "      <td>0</td>\n",
       "      <td>0</td>\n",
       "      <td>0</td>\n",
       "    </tr>\n",
       "  </tbody>\n",
       "</table>\n",
       "</div>"
      ],
      "text/plain": [
       "  location  bed  bath  toilet   price    Property_Type  Parking_Space  \\\n",
       "0     yaba    1     1       2  700000        Mini flat              0   \n",
       "1     yaba    1     1       2  700000        Mini flat              0   \n",
       "2     yaba    1     1       2  650000        Mini flat              0   \n",
       "3     yaba    1     1       1  450000        Mini flat              0   \n",
       "4     yaba    3     3       4  800000  Detached duplex              0   \n",
       "\n",
       "   Security  Electricity  Furnished  Security_Doors  CCTV  Pool  Gym  BQ  \n",
       "0         0            0          0               0     0     0    0   0  \n",
       "1         0            0          0               0     0     0    0   0  \n",
       "2         0            0          0               0     0     0    0   0  \n",
       "3         0            0          0               0     0     0    0   0  \n",
       "4         1            0          0               0     0     0    0   0  "
      ]
     },
     "execution_count": 5,
     "metadata": {},
     "output_type": "execute_result"
    }
   ],
   "source": [
    "#use the head() method to view the first few rows of the data in lagos_houses\n",
    "lagos_houses.head()"
   ]
  },
  {
   "cell_type": "markdown",
   "id": "eea293f1",
   "metadata": {},
   "source": [
    "use the tail() method to view the last few rows of the data in `lagos_houses`"
   ]
  },
  {
   "cell_type": "code",
   "execution_count": 6,
   "id": "20c4812d",
   "metadata": {},
   "outputs": [
    {
     "data": {
      "text/html": [
       "<div>\n",
       "<style scoped>\n",
       "    .dataframe tbody tr th:only-of-type {\n",
       "        vertical-align: middle;\n",
       "    }\n",
       "\n",
       "    .dataframe tbody tr th {\n",
       "        vertical-align: top;\n",
       "    }\n",
       "\n",
       "    .dataframe thead th {\n",
       "        text-align: right;\n",
       "    }\n",
       "</style>\n",
       "<table border=\"1\" class=\"dataframe\">\n",
       "  <thead>\n",
       "    <tr style=\"text-align: right;\">\n",
       "      <th></th>\n",
       "      <th>location</th>\n",
       "      <th>bed</th>\n",
       "      <th>bath</th>\n",
       "      <th>toilet</th>\n",
       "      <th>price</th>\n",
       "      <th>Property_Type</th>\n",
       "      <th>Parking_Space</th>\n",
       "      <th>Security</th>\n",
       "      <th>Electricity</th>\n",
       "      <th>Furnished</th>\n",
       "      <th>Security_Doors</th>\n",
       "      <th>CCTV</th>\n",
       "      <th>Pool</th>\n",
       "      <th>Gym</th>\n",
       "      <th>BQ</th>\n",
       "    </tr>\n",
       "  </thead>\n",
       "  <tbody>\n",
       "    <tr>\n",
       "      <th>5331</th>\n",
       "      <td>ajah</td>\n",
       "      <td>1</td>\n",
       "      <td>1</td>\n",
       "      <td>2</td>\n",
       "      <td>600000</td>\n",
       "      <td>Mini flat</td>\n",
       "      <td>1</td>\n",
       "      <td>0</td>\n",
       "      <td>0</td>\n",
       "      <td>0</td>\n",
       "      <td>0</td>\n",
       "      <td>0</td>\n",
       "      <td>0</td>\n",
       "      <td>0</td>\n",
       "      <td>0</td>\n",
       "    </tr>\n",
       "    <tr>\n",
       "      <th>5332</th>\n",
       "      <td>ajah</td>\n",
       "      <td>2</td>\n",
       "      <td>2</td>\n",
       "      <td>2</td>\n",
       "      <td>700000</td>\n",
       "      <td>Mini flat</td>\n",
       "      <td>1</td>\n",
       "      <td>0</td>\n",
       "      <td>0</td>\n",
       "      <td>0</td>\n",
       "      <td>0</td>\n",
       "      <td>0</td>\n",
       "      <td>0</td>\n",
       "      <td>0</td>\n",
       "      <td>0</td>\n",
       "    </tr>\n",
       "    <tr>\n",
       "      <th>5333</th>\n",
       "      <td>ajah</td>\n",
       "      <td>4</td>\n",
       "      <td>4</td>\n",
       "      <td>5</td>\n",
       "      <td>1700000</td>\n",
       "      <td>Semi detached duplex</td>\n",
       "      <td>1</td>\n",
       "      <td>0</td>\n",
       "      <td>0</td>\n",
       "      <td>0</td>\n",
       "      <td>0</td>\n",
       "      <td>0</td>\n",
       "      <td>0</td>\n",
       "      <td>0</td>\n",
       "      <td>0</td>\n",
       "    </tr>\n",
       "    <tr>\n",
       "      <th>5334</th>\n",
       "      <td>ajah</td>\n",
       "      <td>1</td>\n",
       "      <td>1</td>\n",
       "      <td>2</td>\n",
       "      <td>500000</td>\n",
       "      <td>Mini flat</td>\n",
       "      <td>0</td>\n",
       "      <td>0</td>\n",
       "      <td>0</td>\n",
       "      <td>0</td>\n",
       "      <td>0</td>\n",
       "      <td>0</td>\n",
       "      <td>0</td>\n",
       "      <td>0</td>\n",
       "      <td>0</td>\n",
       "    </tr>\n",
       "    <tr>\n",
       "      <th>5335</th>\n",
       "      <td>ajah</td>\n",
       "      <td>4</td>\n",
       "      <td>4</td>\n",
       "      <td>5</td>\n",
       "      <td>1800000</td>\n",
       "      <td>Semi detached duplex</td>\n",
       "      <td>1</td>\n",
       "      <td>1</td>\n",
       "      <td>0</td>\n",
       "      <td>1</td>\n",
       "      <td>0</td>\n",
       "      <td>0</td>\n",
       "      <td>0</td>\n",
       "      <td>0</td>\n",
       "      <td>0</td>\n",
       "    </tr>\n",
       "  </tbody>\n",
       "</table>\n",
       "</div>"
      ],
      "text/plain": [
       "     location  bed  bath  toilet    price         Property_Type  \\\n",
       "5331     ajah    1     1       2   600000             Mini flat   \n",
       "5332     ajah    2     2       2   700000             Mini flat   \n",
       "5333     ajah    4     4       5  1700000  Semi detached duplex   \n",
       "5334     ajah    1     1       2   500000             Mini flat   \n",
       "5335     ajah    4     4       5  1800000  Semi detached duplex   \n",
       "\n",
       "      Parking_Space  Security  Electricity  Furnished  Security_Doors  CCTV  \\\n",
       "5331              1         0            0          0               0     0   \n",
       "5332              1         0            0          0               0     0   \n",
       "5333              1         0            0          0               0     0   \n",
       "5334              0         0            0          0               0     0   \n",
       "5335              1         1            0          1               0     0   \n",
       "\n",
       "      Pool  Gym  BQ  \n",
       "5331     0    0   0  \n",
       "5332     0    0   0  \n",
       "5333     0    0   0  \n",
       "5334     0    0   0  \n",
       "5335     0    0   0  "
      ]
     },
     "execution_count": 6,
     "metadata": {},
     "output_type": "execute_result"
    }
   ],
   "source": [
    "#your code here\n",
    "lagos_houses.tail()"
   ]
  },
  {
   "cell_type": "markdown",
   "id": "113822b3",
   "metadata": {},
   "source": [
    "Check if there is missing data in the data set.\n",
    "\n",
    "`dataframe.isna().sum()`"
   ]
  },
  {
   "cell_type": "code",
   "execution_count": 7,
   "id": "1be25625",
   "metadata": {},
   "outputs": [
    {
     "data": {
      "text/plain": [
       "location          0\n",
       "bed               0\n",
       "bath              0\n",
       "toilet            0\n",
       "price             0\n",
       "Property_Type     0\n",
       "Parking_Space     0\n",
       "Security          0\n",
       "Electricity       0\n",
       "Furnished         0\n",
       "Security_Doors    0\n",
       "CCTV              0\n",
       "Pool              0\n",
       "Gym               0\n",
       "BQ                0\n",
       "dtype: int64"
      ]
     },
     "execution_count": 7,
     "metadata": {},
     "output_type": "execute_result"
    }
   ],
   "source": [
    "#your code here\n",
    "lagos_houses.isna().sum()"
   ]
  },
  {
   "cell_type": "markdown",
   "id": "80e05424",
   "metadata": {},
   "source": [
    "Use info() method to view datatypes and null counts"
   ]
  },
  {
   "cell_type": "code",
   "execution_count": 8,
   "id": "75d03c5e",
   "metadata": {},
   "outputs": [
    {
     "name": "stdout",
     "output_type": "stream",
     "text": [
      "<class 'pandas.core.frame.DataFrame'>\n",
      "RangeIndex: 5336 entries, 0 to 5335\n",
      "Data columns (total 15 columns):\n",
      " #   Column          Non-Null Count  Dtype \n",
      "---  ------          --------------  ----- \n",
      " 0   location        5336 non-null   object\n",
      " 1   bed             5336 non-null   int64 \n",
      " 2   bath            5336 non-null   int64 \n",
      " 3   toilet          5336 non-null   int64 \n",
      " 4   price           5336 non-null   int64 \n",
      " 5   Property_Type   5336 non-null   object\n",
      " 6   Parking_Space   5336 non-null   int64 \n",
      " 7   Security        5336 non-null   int64 \n",
      " 8   Electricity     5336 non-null   int64 \n",
      " 9   Furnished       5336 non-null   int64 \n",
      " 10  Security_Doors  5336 non-null   int64 \n",
      " 11  CCTV            5336 non-null   int64 \n",
      " 12  Pool            5336 non-null   int64 \n",
      " 13  Gym             5336 non-null   int64 \n",
      " 14  BQ              5336 non-null   int64 \n",
      "dtypes: int64(13), object(2)\n",
      "memory usage: 625.4+ KB\n"
     ]
    }
   ],
   "source": [
    "#Use info() method to view datatypes and null counts\n",
    "lagos_houses.info()"
   ]
  },
  {
   "attachments": {
    "image.png": {
     "image/png": "[encoded data removed]"
    }
   },
   "cell_type": "markdown",
   "id": "c90adcc1",
   "metadata": {},
   "source": [
    "How many listings are there per location?\n",
    "\n",
    "On the location column, use the method `value_counts()` to aggregate the count of listings per location.\n",
    "\n",
    "Your code will look like this:\n",
    "```\n",
    "dataframe.column.value_counts()\n",
    "```\n",
    "\n",
    "Your result will look like this:\n",
    "\n",
    "![image.png](attachment:image.png)\n",
    "\n",
    "> **Make sure to edit the code to refer to your own variable names and column names**"
   ]
  },
  {
   "cell_type": "code",
   "execution_count": 9,
   "id": "68b92264",
   "metadata": {},
   "outputs": [
    {
     "data": {
      "text/plain": [
       "yaba             1460\n",
       "ajah              900\n",
       "surulere          728\n",
       "gbagada           692\n",
       "ikorodu           578\n",
       "lekki phase 1     521\n",
       "ikeja             457\n",
       "Name: location, dtype: int64"
      ]
     },
     "execution_count": 9,
     "metadata": {},
     "output_type": "execute_result"
    }
   ],
   "source": [
    "#how many listings per location\n",
    "#your code here\n",
    "lagos_houses.location.value_counts()"
   ]
  },
  {
   "attachments": {
    "image.png": {
     "image/png": "[encoded data removed]"
    }
   },
   "cell_type": "markdown",
   "id": "b79c9ee8",
   "metadata": {},
   "source": [
    "Use a bar plot to represent the count of listings per location.\n",
    "\n",
    "Add `.plot.bar()` after your value_counts() code. Your code will look like this:\n",
    "    \n",
    "```\n",
    "dataframe.column.value_counts().plot.bar()\n",
    "```\n",
    "\n",
    "Your bar chart will look like this:\n",
    "\n",
    "![image.png](attachment:image.png)"
   ]
  },
  {
   "cell_type": "code",
   "execution_count": 10,
   "id": "d81d8753",
   "metadata": {},
   "outputs": [
    {
     "data": {
      "text/plain": [
       "<AxesSubplot:>"
      ]
     },
     "execution_count": 10,
     "metadata": {},
     "output_type": "execute_result"
    },
    {
     "data": {
      "image/png": "[encoded data removed]",
      "text/plain": [
       "<Figure size 432x288 with 1 Axes>"
      ]
     },
     "metadata": {
      "needs_background": "light"
     },
     "output_type": "display_data"
    }
   ],
   "source": [
    "#plot location counts\n",
    "#your code here:\n",
    "lagos_houses.location.value_counts().plot.bar()"
   ]
  },
  {
   "cell_type": "markdown",
   "id": "2b06967c",
   "metadata": {},
   "source": [
    "We can create summary statistics per location. At a glance we can see:\n",
    "\n",
    "* counts\n",
    "* mean\n",
    "* minimum value\n",
    "* standard deviation\n",
    "* 25th percentile\n",
    "* median (50th percentile)\n",
    "* 75th percentile\n",
    "* maximum value\n",
    "\n",
    "The `describe()` method is used to view summary statistics. Run the code cell below to see it"
   ]
  },
  {
   "cell_type": "code",
   "execution_count": 11,
   "id": "01a5a9cc",
   "metadata": {},
   "outputs": [
    {
     "data": {
      "text/html": [
       "<div>\n",
       "<style scoped>\n",
       "    .dataframe tbody tr th:only-of-type {\n",
       "        vertical-align: middle;\n",
       "    }\n",
       "\n",
       "    .dataframe tbody tr th {\n",
       "        vertical-align: top;\n",
       "    }\n",
       "\n",
       "    .dataframe thead th {\n",
       "        text-align: right;\n",
       "    }\n",
       "</style>\n",
       "<table border=\"1\" class=\"dataframe\">\n",
       "  <thead>\n",
       "    <tr style=\"text-align: right;\">\n",
       "      <th></th>\n",
       "      <th>count</th>\n",
       "      <th>mean</th>\n",
       "      <th>std</th>\n",
       "      <th>min</th>\n",
       "      <th>25%</th>\n",
       "      <th>50%</th>\n",
       "      <th>75%</th>\n",
       "      <th>max</th>\n",
       "    </tr>\n",
       "    <tr>\n",
       "      <th>location</th>\n",
       "      <th></th>\n",
       "      <th></th>\n",
       "      <th></th>\n",
       "      <th></th>\n",
       "      <th></th>\n",
       "      <th></th>\n",
       "      <th></th>\n",
       "      <th></th>\n",
       "    </tr>\n",
       "  </thead>\n",
       "  <tbody>\n",
       "    <tr>\n",
       "      <th>ajah</th>\n",
       "      <td>900.0</td>\n",
       "      <td>6.933356e+05</td>\n",
       "      <td>475287.367417</td>\n",
       "      <td>120000.0</td>\n",
       "      <td>400000.0</td>\n",
       "      <td>500000.0</td>\n",
       "      <td>800000.0</td>\n",
       "      <td>2400000.0</td>\n",
       "    </tr>\n",
       "    <tr>\n",
       "      <th>gbagada</th>\n",
       "      <td>692.0</td>\n",
       "      <td>7.422907e+05</td>\n",
       "      <td>451011.360609</td>\n",
       "      <td>150.0</td>\n",
       "      <td>400000.0</td>\n",
       "      <td>600000.0</td>\n",
       "      <td>900000.0</td>\n",
       "      <td>2300000.0</td>\n",
       "    </tr>\n",
       "    <tr>\n",
       "      <th>ikeja</th>\n",
       "      <td>457.0</td>\n",
       "      <td>7.727002e+05</td>\n",
       "      <td>506704.228604</td>\n",
       "      <td>4000.0</td>\n",
       "      <td>450000.0</td>\n",
       "      <td>600000.0</td>\n",
       "      <td>850000.0</td>\n",
       "      <td>2300000.0</td>\n",
       "    </tr>\n",
       "    <tr>\n",
       "      <th>ikorodu</th>\n",
       "      <td>578.0</td>\n",
       "      <td>1.550952e+05</td>\n",
       "      <td>138067.196400</td>\n",
       "      <td>16000.0</td>\n",
       "      <td>100000.0</td>\n",
       "      <td>100000.0</td>\n",
       "      <td>160000.0</td>\n",
       "      <td>1500000.0</td>\n",
       "    </tr>\n",
       "    <tr>\n",
       "      <th>lekki phase 1</th>\n",
       "      <td>521.0</td>\n",
       "      <td>1.211013e+06</td>\n",
       "      <td>489304.233081</td>\n",
       "      <td>3000.0</td>\n",
       "      <td>800000.0</td>\n",
       "      <td>1300000.0</td>\n",
       "      <td>1500000.0</td>\n",
       "      <td>2450000.0</td>\n",
       "    </tr>\n",
       "    <tr>\n",
       "      <th>surulere</th>\n",
       "      <td>728.0</td>\n",
       "      <td>5.891896e+05</td>\n",
       "      <td>335065.381403</td>\n",
       "      <td>130000.0</td>\n",
       "      <td>350000.0</td>\n",
       "      <td>500000.0</td>\n",
       "      <td>700000.0</td>\n",
       "      <td>2300000.0</td>\n",
       "    </tr>\n",
       "    <tr>\n",
       "      <th>yaba</th>\n",
       "      <td>1460.0</td>\n",
       "      <td>5.509869e+05</td>\n",
       "      <td>331439.330901</td>\n",
       "      <td>250.0</td>\n",
       "      <td>350000.0</td>\n",
       "      <td>450000.0</td>\n",
       "      <td>650000.0</td>\n",
       "      <td>2000000.0</td>\n",
       "    </tr>\n",
       "  </tbody>\n",
       "</table>\n",
       "</div>"
      ],
      "text/plain": [
       "                count          mean            std       min       25%  \\\n",
       "location                                                                 \n",
       "ajah            900.0  6.933356e+05  475287.367417  120000.0  400000.0   \n",
       "gbagada         692.0  7.422907e+05  451011.360609     150.0  400000.0   \n",
       "ikeja           457.0  7.727002e+05  506704.228604    4000.0  450000.0   \n",
       "ikorodu         578.0  1.550952e+05  138067.196400   16000.0  100000.0   \n",
       "lekki phase 1   521.0  1.211013e+06  489304.233081    3000.0  800000.0   \n",
       "surulere        728.0  5.891896e+05  335065.381403  130000.0  350000.0   \n",
       "yaba           1460.0  5.509869e+05  331439.330901     250.0  350000.0   \n",
       "\n",
       "                     50%        75%        max  \n",
       "location                                        \n",
       "ajah            500000.0   800000.0  2400000.0  \n",
       "gbagada         600000.0   900000.0  2300000.0  \n",
       "ikeja           600000.0   850000.0  2300000.0  \n",
       "ikorodu         100000.0   160000.0  1500000.0  \n",
       "lekki phase 1  1300000.0  1500000.0  2450000.0  \n",
       "surulere        500000.0   700000.0  2300000.0  \n",
       "yaba            450000.0   650000.0  2000000.0  "
      ]
     },
     "execution_count": 11,
     "metadata": {},
     "output_type": "execute_result"
    }
   ],
   "source": [
    "#summary statistics per location\n",
    "lagos_houses.groupby('location').price.describe()"
   ]
  },
  {
   "cell_type": "markdown",
   "id": "cfe1326a",
   "metadata": {},
   "source": [
    "Are your numbers showing in scientific notation and you don't like it? :) \n",
    "\n",
    "add `.astype(int)` after `describe()` to have it show integers in full form instead.\n",
    "\n",
    "Rerun the cell after you've done this and check the difference."
   ]
  },
  {
   "cell_type": "markdown",
   "id": "cec52fe0",
   "metadata": {},
   "source": [
    "Now, let's create a few pretty visuals with the **seaborn** and **matplotlib** libraries"
   ]
  },
  {
   "cell_type": "code",
   "execution_count": 13,
   "id": "7aaea778",
   "metadata": {},
   "outputs": [
    {
     "data": {
      "text/plain": [
       "<AxesSubplot:xlabel='location', ylabel='price'>"
      ]
     },
     "execution_count": 13,
     "metadata": {},
     "output_type": "execute_result"
    },
    {
     "data": {
      "image/png": "[encoded data removed]",
      "text/plain": [
       "<Figure size 432x288 with 1 Axes>"
      ]
     },
     "metadata": {
      "needs_background": "light"
     },
     "output_type": "display_data"
    }
   ],
   "source": [
    "#import both visualizations packages\n",
    "import seaborn as sns\n",
    "import matplotlib.pyplot as plt\n",
    "sns.boxplot(x ='location', y ='price',data= lagos_houses)"
   ]
  },
  {
   "attachments": {
    "image.png": {
     "image/png": "[encoded data removed]"
    }
   },
   "cell_type": "markdown",
   "id": "8d0db61d",
   "metadata": {},
   "source": [
    "Let's create a boxplot. Remember to use documentation to view parameters you can pass into any function you are calling.\n",
    "\n",
    "For instance, if you use **SHIFT+TAB** to pop out documentation for the boxplot, you'll have something that looks like this:\n",
    "\n",
    "![image.png](attachment:image.png)\n",
    "\n",
    "Notice the parameters `x`, `y` and `data`.\n",
    "\n",
    "* Assign your dataframe 'lagos_houses' to the `data` parameter\n",
    "* then assign 'location' to the `x` parameter \n",
    "* Assign 'price' to the `y` parameter\n",
    "\n",
    "Your code should look like this\n",
    "\n",
    "`sns.boxplot(x=column_for_x, y=column_for_y, data=dataframe_name)`"
   ]
  },
  {
   "cell_type": "code",
   "execution_count": null,
   "id": "19ef1577",
   "metadata": {
    "scrolled": false
   },
   "outputs": [],
   "source": [
    "#view distribution of prices by location\n",
    "#your code here\n",
    "\n",
    "\n",
    "plt.show()"
   ]
  },
  {
   "cell_type": "markdown",
   "id": "55da8af9",
   "metadata": {},
   "source": [
    "* What location has the most expensive houses?\n",
    "* What location has the least expensive houses?"
   ]
  },
  {
   "cell_type": "code",
   "execution_count": null,
   "id": "a82bc1e7",
   "metadata": {},
   "outputs": [],
   "source": [
    "#Your answers here\n",
    "\n",
    "#1. lekki\n",
    "#2.Ikorodu"
   ]
  },
  {
   "cell_type": "code",
   "execution_count": null,
   "id": "e9dbfca4",
   "metadata": {},
   "outputs": [],
   "source": [
    "# what can we get from looking at a pairplot\n",
    "sns.pairplot(lagos_houses)"
   ]
  },
  {
   "cell_type": "markdown",
   "id": "d1a84814",
   "metadata": {},
   "source": [
    "### Let's make it a bit complex\n",
    "\n",
    "The cells below contain visualization code with more complexity. For learning purposes, I want you to see a few more possibilities and notice the kinds of questions you can use these charts to answer."
   ]
  },
  {
   "cell_type": "code",
   "execution_count": null,
   "id": "2a1cd9d8",
   "metadata": {},
   "outputs": [],
   "source": [
    "#create a pivot comparing prices of different property types at various locations\n",
    "#use the unstack() method after a groupby()\n",
    "pivot = lagos_houses.groupby(['location','Property_Type']).price.mean().astype(int).unstack('Property_Type')\n",
    "#display the pivot\n",
    "pivot"
   ]
  },
  {
   "cell_type": "code",
   "execution_count": 15,
   "id": "0adfc6d3",
   "metadata": {},
   "outputs": [
    {
     "data": {
      "text/html": [
       "<div>\n",
       "<style scoped>\n",
       "    .dataframe tbody tr th:only-of-type {\n",
       "        vertical-align: middle;\n",
       "    }\n",
       "\n",
       "    .dataframe tbody tr th {\n",
       "        vertical-align: top;\n",
       "    }\n",
       "\n",
       "    .dataframe thead th {\n",
       "        text-align: right;\n",
       "    }\n",
       "</style>\n",
       "<table border=\"1\" class=\"dataframe\">\n",
       "  <thead>\n",
       "    <tr style=\"text-align: right;\">\n",
       "      <th>Property_Type</th>\n",
       "      <th>Blocks of flats</th>\n",
       "      <th>Detached bungalow</th>\n",
       "      <th>Detached duplex</th>\n",
       "      <th>Flat / apartment</th>\n",
       "      <th>Massionette house</th>\n",
       "      <th>Mini flat</th>\n",
       "      <th>Penthouse flat</th>\n",
       "      <th>Self contain</th>\n",
       "      <th>Semi detached bungalow</th>\n",
       "      <th>Semi detached duplex</th>\n",
       "      <th>Terraced duplex</th>\n",
       "    </tr>\n",
       "    <tr>\n",
       "      <th>location</th>\n",
       "      <th></th>\n",
       "      <th></th>\n",
       "      <th></th>\n",
       "      <th></th>\n",
       "      <th></th>\n",
       "      <th></th>\n",
       "      <th></th>\n",
       "      <th></th>\n",
       "      <th></th>\n",
       "      <th></th>\n",
       "      <th></th>\n",
       "    </tr>\n",
       "  </thead>\n",
       "  <tbody>\n",
       "    <tr>\n",
       "      <th>ajah</th>\n",
       "      <td>970000.0</td>\n",
       "      <td>1380000.0</td>\n",
       "      <td>1789724.0</td>\n",
       "      <td>847303.0</td>\n",
       "      <td>NaN</td>\n",
       "      <td>539420.0</td>\n",
       "      <td>1000000.0</td>\n",
       "      <td>389790.0</td>\n",
       "      <td>1200000.0</td>\n",
       "      <td>1721276.0</td>\n",
       "      <td>1566071.0</td>\n",
       "    </tr>\n",
       "    <tr>\n",
       "      <th>gbagada</th>\n",
       "      <td>1341666.0</td>\n",
       "      <td>1000000.0</td>\n",
       "      <td>1350000.0</td>\n",
       "      <td>1172016.0</td>\n",
       "      <td>NaN</td>\n",
       "      <td>530697.0</td>\n",
       "      <td>1300000.0</td>\n",
       "      <td>506001.0</td>\n",
       "      <td>NaN</td>\n",
       "      <td>1800000.0</td>\n",
       "      <td>1850000.0</td>\n",
       "    </tr>\n",
       "    <tr>\n",
       "      <th>ikeja</th>\n",
       "      <td>1600000.0</td>\n",
       "      <td>1500000.0</td>\n",
       "      <td>1613000.0</td>\n",
       "      <td>1303877.0</td>\n",
       "      <td>NaN</td>\n",
       "      <td>706898.0</td>\n",
       "      <td>NaN</td>\n",
       "      <td>425571.0</td>\n",
       "      <td>NaN</td>\n",
       "      <td>1710000.0</td>\n",
       "      <td>1800000.0</td>\n",
       "    </tr>\n",
       "    <tr>\n",
       "      <th>ikorodu</th>\n",
       "      <td>NaN</td>\n",
       "      <td>450000.0</td>\n",
       "      <td>NaN</td>\n",
       "      <td>385000.0</td>\n",
       "      <td>NaN</td>\n",
       "      <td>152435.0</td>\n",
       "      <td>NaN</td>\n",
       "      <td>115308.0</td>\n",
       "      <td>NaN</td>\n",
       "      <td>1000000.0</td>\n",
       "      <td>NaN</td>\n",
       "    </tr>\n",
       "    <tr>\n",
       "      <th>lekki phase 1</th>\n",
       "      <td>NaN</td>\n",
       "      <td>400000.0</td>\n",
       "      <td>1125000.0</td>\n",
       "      <td>1527777.0</td>\n",
       "      <td>2200000.0</td>\n",
       "      <td>1415410.0</td>\n",
       "      <td>1600000.0</td>\n",
       "      <td>765628.0</td>\n",
       "      <td>NaN</td>\n",
       "      <td>1900000.0</td>\n",
       "      <td>1600000.0</td>\n",
       "    </tr>\n",
       "    <tr>\n",
       "      <th>surulere</th>\n",
       "      <td>925000.0</td>\n",
       "      <td>1625000.0</td>\n",
       "      <td>1533333.0</td>\n",
       "      <td>885616.0</td>\n",
       "      <td>NaN</td>\n",
       "      <td>509954.0</td>\n",
       "      <td>850000.0</td>\n",
       "      <td>590357.0</td>\n",
       "      <td>NaN</td>\n",
       "      <td>2166666.0</td>\n",
       "      <td>NaN</td>\n",
       "    </tr>\n",
       "    <tr>\n",
       "      <th>yaba</th>\n",
       "      <td>968181.0</td>\n",
       "      <td>NaN</td>\n",
       "      <td>1828571.0</td>\n",
       "      <td>915625.0</td>\n",
       "      <td>NaN</td>\n",
       "      <td>465798.0</td>\n",
       "      <td>1150000.0</td>\n",
       "      <td>461830.0</td>\n",
       "      <td>NaN</td>\n",
       "      <td>2000000.0</td>\n",
       "      <td>NaN</td>\n",
       "    </tr>\n",
       "  </tbody>\n",
       "</table>\n",
       "</div>"
      ],
      "text/plain": [
       "Property_Type  Blocks of flats  Detached bungalow  Detached duplex  \\\n",
       "location                                                             \n",
       "ajah                  970000.0          1380000.0        1789724.0   \n",
       "gbagada              1341666.0          1000000.0        1350000.0   \n",
       "ikeja                1600000.0          1500000.0        1613000.0   \n",
       "ikorodu                    NaN           450000.0              NaN   \n",
       "lekki phase 1              NaN           400000.0        1125000.0   \n",
       "surulere              925000.0          1625000.0        1533333.0   \n",
       "yaba                  968181.0                NaN        1828571.0   \n",
       "\n",
       "Property_Type  Flat / apartment  Massionette house  Mini flat  Penthouse flat  \\\n",
       "location                                                                        \n",
       "ajah                   847303.0                NaN   539420.0       1000000.0   \n",
       "gbagada               1172016.0                NaN   530697.0       1300000.0   \n",
       "ikeja                 1303877.0                NaN   706898.0             NaN   \n",
       "ikorodu                385000.0                NaN   152435.0             NaN   \n",
       "lekki phase 1         1527777.0          2200000.0  1415410.0       1600000.0   \n",
       "surulere               885616.0                NaN   509954.0        850000.0   \n",
       "yaba                   915625.0                NaN   465798.0       1150000.0   \n",
       "\n",
       "Property_Type  Self contain  Semi detached bungalow  Semi detached duplex  \\\n",
       "location                                                                    \n",
       "ajah               389790.0               1200000.0             1721276.0   \n",
       "gbagada            506001.0                     NaN             1800000.0   \n",
       "ikeja              425571.0                     NaN             1710000.0   \n",
       "ikorodu            115308.0                     NaN             1000000.0   \n",
       "lekki phase 1      765628.0                     NaN             1900000.0   \n",
       "surulere           590357.0                     NaN             2166666.0   \n",
       "yaba               461830.0                     NaN             2000000.0   \n",
       "\n",
       "Property_Type  Terraced duplex  \n",
       "location                        \n",
       "ajah                 1566071.0  \n",
       "gbagada              1850000.0  \n",
       "ikeja                1800000.0  \n",
       "ikorodu                    NaN  \n",
       "lekki phase 1        1600000.0  \n",
       "surulere                   NaN  \n",
       "yaba                       NaN  "
      ]
     },
     "execution_count": 15,
     "metadata": {},
     "output_type": "execute_result"
    }
   ],
   "source": [
    "pivot = lagos_houses.groupby(['location','Property_Type']).price.mean().astype(int).unstack('Property_Type')\n",
    "pivot"
   ]
  },
  {
   "cell_type": "code",
   "execution_count": null,
   "id": "f7d8ee86",
   "metadata": {},
   "outputs": [],
   "source": [
    "#plot the pivot table\n",
    "\n",
    "pivot.plot.bar(figsize=(15,5))#we use figsize parameter to set the height and width of the chart\n",
    "plt.ticklabel_format(style='plain',axis='y') #write out the prices on y axis in full not scientific notation\n",
    "\n",
    "plt.show()"
   ]
  },
  {
   "cell_type": "code",
   "execution_count": 17,
   "id": "c2362848",
   "metadata": {},
   "outputs": [
    {
     "data": {
      "text/plain": [
       "<matplotlib.legend.Legend at 0x15846f9af70>"
      ]
     },
     "execution_count": 17,
     "metadata": {},
     "output_type": "execute_result"
    },
    {
     "data": {
      "image/png": "[encoded data removed]",
      "text/plain": [
       "<Figure size 1080x360 with 1 Axes>"
      ]
     },
     "metadata": {
      "needs_background": "light"
     },
     "output_type": "display_data"
    }
   ],
   "source": [
    "pivot.plot.bar(figsize=(15,5))\n",
    "# to shift legend\n",
    "plt.legend(loc=\"center left\",bbox_to_anchor=(1.0,0.5))"
   ]
  },
  {
   "cell_type": "code",
   "execution_count": null,
   "id": "6298bb58",
   "metadata": {},
   "outputs": [],
   "source": [
    "fig, ax = plt.subplots(7,figsize=(8,20)) #set up multiple plots on the same canvas\n",
    "\n",
    "\n",
    "ax[0] = sns.boxplot(y='Property_Type',x='price',data=lagos_houses[lagos_houses.location=='yaba'], ax=ax[0])\n",
    "ax[0].ticklabel_format(style='plain',axis='x') #write out numbers in full instead of scientific notation\n",
    "ax[0].set_title('Yaba')\n",
    "\n",
    "ax[1] = sns.boxplot(y='Property_Type',x='price',data=lagos_houses[lagos_houses.location=='ajah'], ax=ax[1])\n",
    "ax[1].set_title('Ajah')\n",
    "\n",
    "ax[2] = sns.boxplot(y='Property_Type',x='price',data=lagos_houses[lagos_houses.location=='surulere'], ax=ax[2])\n",
    "ax[2].set_title('Surulere')\n",
    "\n",
    "ax[3] = sns.boxplot(y='Property_Type',x='price',data=lagos_houses[lagos_houses.location=='gbagada'], ax=ax[3])\n",
    "ax[3].set_title('Gbagada')\n",
    "\n",
    "ax[4] = sns.boxplot(y='Property_Type',x='price',data=lagos_houses[lagos_houses.location=='ikeja'], ax=ax[4])\n",
    "ax[4].set_title('Ikeja')\n",
    "\n",
    "ax[5] = sns.boxplot(y='Property_Type',x='price',data=lagos_houses[lagos_houses.location=='lekki phase 1'], ax=ax[5])\n",
    "ax[5].set_title('Lekki Phase 1')\n",
    "\n",
    "ax[6] = sns.boxplot(y='Property_Type',x='price',data=lagos_houses[lagos_houses.location=='ikorodu'], ax=ax[6])\n",
    "ax[6].set_title('Ikorodu')\n",
    "\n",
    "plt.tight_layout() #prevent overlapping charts"
   ]
  },
  {
   "cell_type": "markdown",
   "id": "b8fce900",
   "metadata": {},
   "source": [
    "### Can you keep going?"
   ]
  },
  {
   "cell_type": "code",
   "execution_count": null,
   "id": "669a9480",
   "metadata": {},
   "outputs": [],
   "source": []
  }
 ],
 "metadata": {
  "kernelspec": {
   "display_name": "Python 3",
   "language": "python",
   "name": "python3"
  },
  "language_info": {
   "codemirror_mode": {
    "name": "ipython",
    "version": 3
   },
   "file_extension": ".py",
   "mimetype": "text/x-python",
   "name": "python",
   "nbconvert_exporter": "python",
   "pygments_lexer": "ipython3",
   "version": "3.8.8"
  }
 },
 "nbformat": 4,
 "nbformat_minor": 5
}
