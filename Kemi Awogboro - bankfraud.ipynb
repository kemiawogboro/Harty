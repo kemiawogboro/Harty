{
 "cells": [
  {
   "cell_type": "markdown",
   "id": "c3bd565c",
   "metadata": {},
   "source": [
    "# Project Title (ML Project: Predict Online Payment Fraud)\n",
    "\n",
    "* We want to predict payment Transaction that are fradulent\n",
    "* We would perform Exploratory Data Analysis on the Online Data Fraud csv file to gain insight\n",
    "* We would perform Feature engineering on the data\n",
    "* We would encode categorical variables, explore correlation\n",
    "* We would conduct univariate and multivariate analysis on the data\n",
    "* We would train and test supervised learning model\n",
    "* We would create 4 different ML algorithms such as Decision Tree, Random Forest, Logistic Regression, KNN\n",
    "* We would evaluate the model using accuracy, precision and recall\n",
    "* We would display the confusion matric to reveal the classsification report"
   ]
  },
  {
   "cell_type": "code",
   "execution_count": 6,
   "id": "d8aa5eda",
   "metadata": {},
   "outputs": [],
   "source": [
    "\n",
    "#import pandas and numpy for data manipulation\n",
    "import pandas as pd\n",
    "import numpy as np\n",
    "\n",
    "#import pyplot and seaborn for visualization\n",
    "import matplotlib.pyplot as plt\n",
    "%matplotlib inline\n",
    "import seaborn as sns\n",
    "#import other libraries...."
   ]
  },
  {
   "cell_type": "markdown",
   "id": "d6f64705",
   "metadata": {},
   "source": [
    "# Data Inspection\n",
    "\n",
    "* Load the data set\n",
    "* Within a markdown cell, give a description of the dataset:\n",
    "    * what is the source of the data? paymentfraud.csv\n",
    "    * how many rows and columns? 1048575 rows , 10 columns\n",
    "    * does it have missing values? there are no columns with missing values\n",
    "    * any other significant details code data.info() provides details of the data types of each column"
   ]
  },
  {
   "cell_type": "code",
   "execution_count": 4,
   "id": "88acc8af",
   "metadata": {},
   "outputs": [
    {
     "data": {
      "text/html": [
       "<div>\n",
       "<style scoped>\n",
       "    .dataframe tbody tr th:only-of-type {\n",
       "        vertical-align: middle;\n",
       "    }\n",
       "\n",
       "    .dataframe tbody tr th {\n",
       "        vertical-align: top;\n",
       "    }\n",
       "\n",
       "    .dataframe thead th {\n",
       "        text-align: right;\n",
       "    }\n",
       "</style>\n",
       "<table border=\"1\" class=\"dataframe\">\n",
       "  <thead>\n",
       "    <tr style=\"text-align: right;\">\n",
       "      <th></th>\n",
       "      <th>step</th>\n",
       "      <th>type</th>\n",
       "      <th>amount</th>\n",
       "      <th>nameOrig</th>\n",
       "      <th>oldbalanceOrg</th>\n",
       "      <th>newbalanceOrig</th>\n",
       "      <th>nameDest</th>\n",
       "      <th>oldbalanceDest</th>\n",
       "      <th>newbalanceDest</th>\n",
       "      <th>isFraud</th>\n",
       "    </tr>\n",
       "  </thead>\n",
       "  <tbody>\n",
       "    <tr>\n",
       "      <th>0</th>\n",
       "      <td>1</td>\n",
       "      <td>PAYMENT</td>\n",
       "      <td>9839.64</td>\n",
       "      <td>C1231006815</td>\n",
       "      <td>170136.0</td>\n",
       "      <td>160296.36</td>\n",
       "      <td>M1979787155</td>\n",
       "      <td>0.0</td>\n",
       "      <td>0.0</td>\n",
       "      <td>0</td>\n",
       "    </tr>\n",
       "    <tr>\n",
       "      <th>1</th>\n",
       "      <td>1</td>\n",
       "      <td>PAYMENT</td>\n",
       "      <td>1864.28</td>\n",
       "      <td>C1666544295</td>\n",
       "      <td>21249.0</td>\n",
       "      <td>19384.72</td>\n",
       "      <td>M2044282225</td>\n",
       "      <td>0.0</td>\n",
       "      <td>0.0</td>\n",
       "      <td>0</td>\n",
       "    </tr>\n",
       "    <tr>\n",
       "      <th>2</th>\n",
       "      <td>1</td>\n",
       "      <td>TRANSFER</td>\n",
       "      <td>181.00</td>\n",
       "      <td>C1305486145</td>\n",
       "      <td>181.0</td>\n",
       "      <td>0.00</td>\n",
       "      <td>C553264065</td>\n",
       "      <td>0.0</td>\n",
       "      <td>0.0</td>\n",
       "      <td>1</td>\n",
       "    </tr>\n",
       "    <tr>\n",
       "      <th>3</th>\n",
       "      <td>1</td>\n",
       "      <td>CASH_OUT</td>\n",
       "      <td>181.00</td>\n",
       "      <td>C840083671</td>\n",
       "      <td>181.0</td>\n",
       "      <td>0.00</td>\n",
       "      <td>C38997010</td>\n",
       "      <td>21182.0</td>\n",
       "      <td>0.0</td>\n",
       "      <td>1</td>\n",
       "    </tr>\n",
       "    <tr>\n",
       "      <th>4</th>\n",
       "      <td>1</td>\n",
       "      <td>PAYMENT</td>\n",
       "      <td>11668.14</td>\n",
       "      <td>C2048537720</td>\n",
       "      <td>41554.0</td>\n",
       "      <td>29885.86</td>\n",
       "      <td>M1230701703</td>\n",
       "      <td>0.0</td>\n",
       "      <td>0.0</td>\n",
       "      <td>0</td>\n",
       "    </tr>\n",
       "  </tbody>\n",
       "</table>\n",
       "</div>"
      ],
      "text/plain": [
       "   step      type    amount     nameOrig  oldbalanceOrg  newbalanceOrig  \\\n",
       "0     1   PAYMENT   9839.64  C1231006815       170136.0       160296.36   \n",
       "1     1   PAYMENT   1864.28  C1666544295        21249.0        19384.72   \n",
       "2     1  TRANSFER    181.00  C1305486145          181.0            0.00   \n",
       "3     1  CASH_OUT    181.00   C840083671          181.0            0.00   \n",
       "4     1   PAYMENT  11668.14  C2048537720        41554.0        29885.86   \n",
       "\n",
       "      nameDest  oldbalanceDest  newbalanceDest  isFraud  \n",
       "0  M1979787155             0.0             0.0        0  \n",
       "1  M2044282225             0.0             0.0        0  \n",
       "2   C553264065             0.0             0.0        1  \n",
       "3    C38997010         21182.0             0.0        1  \n",
       "4  M1230701703             0.0             0.0        0  "
      ]
     },
     "execution_count": 4,
     "metadata": {},
     "output_type": "execute_result"
    }
   ],
   "source": [
    "# load the data\n",
    "#the semi-colon is specified in separator because the data file uses semi-colons for delimiters\n",
    "#data = pd.read_csv('bank.csv',sep=';', header=None)\n",
    "data = pd.read_csv('paymentfraud.csv')\n",
    "data.head()"
   ]
  },
  {
   "cell_type": "code",
   "execution_count": 7,
   "id": "a0848118",
   "metadata": {},
   "outputs": [
    {
     "data": {
      "text/plain": [
       "(1048575, 10)"
      ]
     },
     "execution_count": 7,
     "metadata": {},
     "output_type": "execute_result"
    }
   ],
   "source": [
    "#code shows number of rows and columns here we see there are 1048575 rows and 10 columns\n",
    "data.shape"
   ]
  },
  {
   "cell_type": "code",
   "execution_count": 8,
   "id": "b46e2078",
   "metadata": {},
   "outputs": [
    {
     "name": "stdout",
     "output_type": "stream",
     "text": [
      "<class 'pandas.core.frame.DataFrame'>\n",
      "RangeIndex: 1048575 entries, 0 to 1048574\n",
      "Data columns (total 10 columns):\n",
      " #   Column          Non-Null Count    Dtype  \n",
      "---  ------          --------------    -----  \n",
      " 0   step            1048575 non-null  int64  \n",
      " 1   type            1048575 non-null  object \n",
      " 2   amount          1048575 non-null  float64\n",
      " 3   nameOrig        1048575 non-null  object \n",
      " 4   oldbalanceOrg   1048575 non-null  float64\n",
      " 5   newbalanceOrig  1048575 non-null  float64\n",
      " 6   nameDest        1048575 non-null  object \n",
      " 7   oldbalanceDest  1048575 non-null  float64\n",
      " 8   newbalanceDest  1048575 non-null  float64\n",
      " 9   isFraud         1048575 non-null  int64  \n",
      "dtypes: float64(5), int64(2), object(3)\n",
      "memory usage: 80.0+ MB\n"
     ]
    }
   ],
   "source": [
    "# code shows the data type on each column\n",
    "data.info()"
   ]
  },
  {
   "cell_type": "code",
   "execution_count": 9,
   "id": "a4fd5445",
   "metadata": {},
   "outputs": [
    {
     "data": {
      "text/plain": [
       "Index(['step', 'type', 'amount', 'nameOrig', 'oldbalanceOrg', 'newbalanceOrig',\n",
       "       'nameDest', 'oldbalanceDest', 'newbalanceDest', 'isFraud'],\n",
       "      dtype='object')"
      ]
     },
     "execution_count": 9,
     "metadata": {},
     "output_type": "execute_result"
    }
   ],
   "source": [
    "#code shows names of columns\n",
    "data.columns"
   ]
  },
  {
   "cell_type": "code",
   "execution_count": 10,
   "id": "48f9455e",
   "metadata": {},
   "outputs": [
    {
     "data": {
      "text/plain": [
       "step              0\n",
       "type              0\n",
       "amount            0\n",
       "nameOrig          0\n",
       "oldbalanceOrg     0\n",
       "newbalanceOrig    0\n",
       "nameDest          0\n",
       "oldbalanceDest    0\n",
       "newbalanceDest    0\n",
       "isFraud           0\n",
       "dtype: int64"
      ]
     },
     "execution_count": 10,
     "metadata": {},
     "output_type": "execute_result"
    }
   ],
   "source": [
    "#Code shows columns with missing value , here there are no missing value in any column\n",
    "data.isna().sum()"
   ]
  },
  {
   "cell_type": "code",
   "execution_count": 11,
   "id": "07b34f9e",
   "metadata": {},
   "outputs": [
    {
     "data": {
      "text/plain": [
       "step              1048575\n",
       "type              1048575\n",
       "amount            1048575\n",
       "nameOrig          1048575\n",
       "oldbalanceOrg     1048575\n",
       "newbalanceOrig    1048575\n",
       "nameDest          1048575\n",
       "oldbalanceDest    1048575\n",
       "newbalanceDest    1048575\n",
       "isFraud           1048575\n",
       "dtype: int64"
      ]
     },
     "execution_count": 11,
     "metadata": {},
     "output_type": "execute_result"
    }
   ],
   "source": [
    "#code present the number of rows that do not contain null value or no missing data on each columns \n",
    "# from the result all columns contain no null values\n",
    "data.notna().sum()\n"
   ]
  },
  {
   "cell_type": "code",
   "execution_count": 12,
   "id": "141cbeaf",
   "metadata": {},
   "outputs": [
    {
     "data": {
      "text/html": [
       "<div>\n",
       "<style scoped>\n",
       "    .dataframe tbody tr th:only-of-type {\n",
       "        vertical-align: middle;\n",
       "    }\n",
       "\n",
       "    .dataframe tbody tr th {\n",
       "        vertical-align: top;\n",
       "    }\n",
       "\n",
       "    .dataframe thead th {\n",
       "        text-align: right;\n",
       "    }\n",
       "</style>\n",
       "<table border=\"1\" class=\"dataframe\">\n",
       "  <thead>\n",
       "    <tr style=\"text-align: right;\">\n",
       "      <th></th>\n",
       "      <th>step</th>\n",
       "      <th>amount</th>\n",
       "      <th>oldbalanceOrg</th>\n",
       "      <th>newbalanceOrig</th>\n",
       "      <th>oldbalanceDest</th>\n",
       "      <th>newbalanceDest</th>\n",
       "      <th>isFraud</th>\n",
       "    </tr>\n",
       "  </thead>\n",
       "  <tbody>\n",
       "    <tr>\n",
       "      <th>count</th>\n",
       "      <td>1.048575e+06</td>\n",
       "      <td>1.048575e+06</td>\n",
       "      <td>1.048575e+06</td>\n",
       "      <td>1.048575e+06</td>\n",
       "      <td>1.048575e+06</td>\n",
       "      <td>1.048575e+06</td>\n",
       "      <td>1.048575e+06</td>\n",
       "    </tr>\n",
       "    <tr>\n",
       "      <th>mean</th>\n",
       "      <td>2.696617e+01</td>\n",
       "      <td>1.586670e+05</td>\n",
       "      <td>8.740095e+05</td>\n",
       "      <td>8.938089e+05</td>\n",
       "      <td>9.781600e+05</td>\n",
       "      <td>1.114198e+06</td>\n",
       "      <td>1.089097e-03</td>\n",
       "    </tr>\n",
       "    <tr>\n",
       "      <th>std</th>\n",
       "      <td>1.562325e+01</td>\n",
       "      <td>2.649409e+05</td>\n",
       "      <td>2.971751e+06</td>\n",
       "      <td>3.008271e+06</td>\n",
       "      <td>2.296780e+06</td>\n",
       "      <td>2.416593e+06</td>\n",
       "      <td>3.298351e-02</td>\n",
       "    </tr>\n",
       "    <tr>\n",
       "      <th>min</th>\n",
       "      <td>1.000000e+00</td>\n",
       "      <td>1.000000e-01</td>\n",
       "      <td>0.000000e+00</td>\n",
       "      <td>0.000000e+00</td>\n",
       "      <td>0.000000e+00</td>\n",
       "      <td>0.000000e+00</td>\n",
       "      <td>0.000000e+00</td>\n",
       "    </tr>\n",
       "    <tr>\n",
       "      <th>25%</th>\n",
       "      <td>1.500000e+01</td>\n",
       "      <td>1.214907e+04</td>\n",
       "      <td>0.000000e+00</td>\n",
       "      <td>0.000000e+00</td>\n",
       "      <td>0.000000e+00</td>\n",
       "      <td>0.000000e+00</td>\n",
       "      <td>0.000000e+00</td>\n",
       "    </tr>\n",
       "    <tr>\n",
       "      <th>50%</th>\n",
       "      <td>2.000000e+01</td>\n",
       "      <td>7.634333e+04</td>\n",
       "      <td>1.600200e+04</td>\n",
       "      <td>0.000000e+00</td>\n",
       "      <td>1.263772e+05</td>\n",
       "      <td>2.182604e+05</td>\n",
       "      <td>0.000000e+00</td>\n",
       "    </tr>\n",
       "    <tr>\n",
       "      <th>75%</th>\n",
       "      <td>3.900000e+01</td>\n",
       "      <td>2.137619e+05</td>\n",
       "      <td>1.366420e+05</td>\n",
       "      <td>1.746000e+05</td>\n",
       "      <td>9.159235e+05</td>\n",
       "      <td>1.149808e+06</td>\n",
       "      <td>0.000000e+00</td>\n",
       "    </tr>\n",
       "    <tr>\n",
       "      <th>max</th>\n",
       "      <td>9.500000e+01</td>\n",
       "      <td>1.000000e+07</td>\n",
       "      <td>3.890000e+07</td>\n",
       "      <td>3.890000e+07</td>\n",
       "      <td>4.210000e+07</td>\n",
       "      <td>4.220000e+07</td>\n",
       "      <td>1.000000e+00</td>\n",
       "    </tr>\n",
       "  </tbody>\n",
       "</table>\n",
       "</div>"
      ],
      "text/plain": [
       "               step        amount  oldbalanceOrg  newbalanceOrig  \\\n",
       "count  1.048575e+06  1.048575e+06   1.048575e+06    1.048575e+06   \n",
       "mean   2.696617e+01  1.586670e+05   8.740095e+05    8.938089e+05   \n",
       "std    1.562325e+01  2.649409e+05   2.971751e+06    3.008271e+06   \n",
       "min    1.000000e+00  1.000000e-01   0.000000e+00    0.000000e+00   \n",
       "25%    1.500000e+01  1.214907e+04   0.000000e+00    0.000000e+00   \n",
       "50%    2.000000e+01  7.634333e+04   1.600200e+04    0.000000e+00   \n",
       "75%    3.900000e+01  2.137619e+05   1.366420e+05    1.746000e+05   \n",
       "max    9.500000e+01  1.000000e+07   3.890000e+07    3.890000e+07   \n",
       "\n",
       "       oldbalanceDest  newbalanceDest       isFraud  \n",
       "count    1.048575e+06    1.048575e+06  1.048575e+06  \n",
       "mean     9.781600e+05    1.114198e+06  1.089097e-03  \n",
       "std      2.296780e+06    2.416593e+06  3.298351e-02  \n",
       "min      0.000000e+00    0.000000e+00  0.000000e+00  \n",
       "25%      0.000000e+00    0.000000e+00  0.000000e+00  \n",
       "50%      1.263772e+05    2.182604e+05  0.000000e+00  \n",
       "75%      9.159235e+05    1.149808e+06  0.000000e+00  \n",
       "max      4.210000e+07    4.220000e+07  1.000000e+00  "
      ]
     },
     "execution_count": 12,
     "metadata": {},
     "output_type": "execute_result"
    }
   ],
   "source": [
    "#ode provide the statistic distribution of each column with numeric data\n",
    "data.describe()"
   ]
  },
  {
   "cell_type": "code",
   "execution_count": 13,
   "id": "330620fa",
   "metadata": {},
   "outputs": [
    {
     "data": {
      "text/plain": [
       "False    1047433\n",
       "True        1142\n",
       "Name: isFraud, dtype: int64"
      ]
     },
     "execution_count": 13,
     "metadata": {},
     "output_type": "execute_result"
    }
   ],
   "source": [
    "# code provides count of column named isFraud where the transaction is fradulent\n",
    "# in the Code below there are 1142 of rows where transaction is fraud \n",
    "datacon = data.isFraud==1\n",
    "datacon.value_counts()"
   ]
  },
  {
   "cell_type": "code",
   "execution_count": 14,
   "id": "2fd018e2",
   "metadata": {},
   "outputs": [
    {
     "data": {
      "text/html": [
       "<div>\n",
       "<style scoped>\n",
       "    .dataframe tbody tr th:only-of-type {\n",
       "        vertical-align: middle;\n",
       "    }\n",
       "\n",
       "    .dataframe tbody tr th {\n",
       "        vertical-align: top;\n",
       "    }\n",
       "\n",
       "    .dataframe thead th {\n",
       "        text-align: right;\n",
       "    }\n",
       "</style>\n",
       "<table border=\"1\" class=\"dataframe\">\n",
       "  <thead>\n",
       "    <tr style=\"text-align: right;\">\n",
       "      <th></th>\n",
       "      <th>step</th>\n",
       "      <th>amount</th>\n",
       "      <th>oldbalanceOrg</th>\n",
       "      <th>newbalanceOrig</th>\n",
       "      <th>oldbalanceDest</th>\n",
       "      <th>newbalanceDest</th>\n",
       "      <th>isFraud</th>\n",
       "    </tr>\n",
       "  </thead>\n",
       "  <tbody>\n",
       "    <tr>\n",
       "      <th>0</th>\n",
       "      <td>1</td>\n",
       "      <td>9839.64</td>\n",
       "      <td>170136.0</td>\n",
       "      <td>160296.36</td>\n",
       "      <td>0.0</td>\n",
       "      <td>0.0</td>\n",
       "      <td>0</td>\n",
       "    </tr>\n",
       "    <tr>\n",
       "      <th>1</th>\n",
       "      <td>1</td>\n",
       "      <td>1864.28</td>\n",
       "      <td>21249.0</td>\n",
       "      <td>19384.72</td>\n",
       "      <td>0.0</td>\n",
       "      <td>0.0</td>\n",
       "      <td>0</td>\n",
       "    </tr>\n",
       "    <tr>\n",
       "      <th>2</th>\n",
       "      <td>1</td>\n",
       "      <td>181.00</td>\n",
       "      <td>181.0</td>\n",
       "      <td>0.00</td>\n",
       "      <td>0.0</td>\n",
       "      <td>0.0</td>\n",
       "      <td>1</td>\n",
       "    </tr>\n",
       "    <tr>\n",
       "      <th>3</th>\n",
       "      <td>1</td>\n",
       "      <td>181.00</td>\n",
       "      <td>181.0</td>\n",
       "      <td>0.00</td>\n",
       "      <td>21182.0</td>\n",
       "      <td>0.0</td>\n",
       "      <td>1</td>\n",
       "    </tr>\n",
       "    <tr>\n",
       "      <th>4</th>\n",
       "      <td>1</td>\n",
       "      <td>11668.14</td>\n",
       "      <td>41554.0</td>\n",
       "      <td>29885.86</td>\n",
       "      <td>0.0</td>\n",
       "      <td>0.0</td>\n",
       "      <td>0</td>\n",
       "    </tr>\n",
       "  </tbody>\n",
       "</table>\n",
       "</div>"
      ],
      "text/plain": [
       "   step    amount  oldbalanceOrg  newbalanceOrig  oldbalanceDest  \\\n",
       "0     1   9839.64       170136.0       160296.36             0.0   \n",
       "1     1   1864.28        21249.0        19384.72             0.0   \n",
       "2     1    181.00          181.0            0.00             0.0   \n",
       "3     1    181.00          181.0            0.00         21182.0   \n",
       "4     1  11668.14        41554.0        29885.86             0.0   \n",
       "\n",
       "   newbalanceDest  isFraud  \n",
       "0             0.0        0  \n",
       "1             0.0        0  \n",
       "2             0.0        1  \n",
       "3             0.0        1  \n",
       "4             0.0        0  "
      ]
     },
     "execution_count": 14,
     "metadata": {},
     "output_type": "execute_result"
    }
   ],
   "source": [
    "# code creates a variable that stores only numeric data on the file \n",
    "# this is done to be able to scertain the correlation that exist between the data\n",
    "df = data[['step', 'amount', 'oldbalanceOrg', 'newbalanceOrig', 'oldbalanceDest', 'newbalanceDest', 'isFraud']]\n",
    "df.head()"
   ]
  },
  {
   "cell_type": "code",
   "execution_count": 15,
   "id": "3e1a1e88",
   "metadata": {},
   "outputs": [
    {
     "data": {
      "text/html": [
       "<div>\n",
       "<style scoped>\n",
       "    .dataframe tbody tr th:only-of-type {\n",
       "        vertical-align: middle;\n",
       "    }\n",
       "\n",
       "    .dataframe tbody tr th {\n",
       "        vertical-align: top;\n",
       "    }\n",
       "\n",
       "    .dataframe thead th {\n",
       "        text-align: right;\n",
       "    }\n",
       "</style>\n",
       "<table border=\"1\" class=\"dataframe\">\n",
       "  <thead>\n",
       "    <tr style=\"text-align: right;\">\n",
       "      <th></th>\n",
       "      <th>step</th>\n",
       "      <th>amount</th>\n",
       "      <th>oldbalanceOrg</th>\n",
       "      <th>newbalanceOrig</th>\n",
       "      <th>oldbalanceDest</th>\n",
       "      <th>newbalanceDest</th>\n",
       "      <th>isFraud</th>\n",
       "    </tr>\n",
       "  </thead>\n",
       "  <tbody>\n",
       "    <tr>\n",
       "      <th>step</th>\n",
       "      <td>1.000000</td>\n",
       "      <td>-0.025996</td>\n",
       "      <td>-0.006780</td>\n",
       "      <td>-0.007180</td>\n",
       "      <td>-0.002251</td>\n",
       "      <td>-0.019503</td>\n",
       "      <td>0.045030</td>\n",
       "    </tr>\n",
       "    <tr>\n",
       "      <th>amount</th>\n",
       "      <td>-0.025996</td>\n",
       "      <td>1.000000</td>\n",
       "      <td>0.004864</td>\n",
       "      <td>-0.001133</td>\n",
       "      <td>0.215558</td>\n",
       "      <td>0.311936</td>\n",
       "      <td>0.128862</td>\n",
       "    </tr>\n",
       "    <tr>\n",
       "      <th>oldbalanceOrg</th>\n",
       "      <td>-0.006780</td>\n",
       "      <td>0.004864</td>\n",
       "      <td>1.000000</td>\n",
       "      <td>0.999047</td>\n",
       "      <td>0.093305</td>\n",
       "      <td>0.064049</td>\n",
       "      <td>0.003829</td>\n",
       "    </tr>\n",
       "    <tr>\n",
       "      <th>newbalanceOrig</th>\n",
       "      <td>-0.007180</td>\n",
       "      <td>-0.001133</td>\n",
       "      <td>0.999047</td>\n",
       "      <td>1.000000</td>\n",
       "      <td>0.095182</td>\n",
       "      <td>0.063725</td>\n",
       "      <td>-0.009438</td>\n",
       "    </tr>\n",
       "    <tr>\n",
       "      <th>oldbalanceDest</th>\n",
       "      <td>-0.002251</td>\n",
       "      <td>0.215558</td>\n",
       "      <td>0.093305</td>\n",
       "      <td>0.095182</td>\n",
       "      <td>1.000000</td>\n",
       "      <td>0.978403</td>\n",
       "      <td>-0.007552</td>\n",
       "    </tr>\n",
       "    <tr>\n",
       "      <th>newbalanceDest</th>\n",
       "      <td>-0.019503</td>\n",
       "      <td>0.311936</td>\n",
       "      <td>0.064049</td>\n",
       "      <td>0.063725</td>\n",
       "      <td>0.978403</td>\n",
       "      <td>1.000000</td>\n",
       "      <td>-0.000495</td>\n",
       "    </tr>\n",
       "    <tr>\n",
       "      <th>isFraud</th>\n",
       "      <td>0.045030</td>\n",
       "      <td>0.128862</td>\n",
       "      <td>0.003829</td>\n",
       "      <td>-0.009438</td>\n",
       "      <td>-0.007552</td>\n",
       "      <td>-0.000495</td>\n",
       "      <td>1.000000</td>\n",
       "    </tr>\n",
       "  </tbody>\n",
       "</table>\n",
       "</div>"
      ],
      "text/plain": [
       "                    step    amount  oldbalanceOrg  newbalanceOrig  \\\n",
       "step            1.000000 -0.025996      -0.006780       -0.007180   \n",
       "amount         -0.025996  1.000000       0.004864       -0.001133   \n",
       "oldbalanceOrg  -0.006780  0.004864       1.000000        0.999047   \n",
       "newbalanceOrig -0.007180 -0.001133       0.999047        1.000000   \n",
       "oldbalanceDest -0.002251  0.215558       0.093305        0.095182   \n",
       "newbalanceDest -0.019503  0.311936       0.064049        0.063725   \n",
       "isFraud         0.045030  0.128862       0.003829       -0.009438   \n",
       "\n",
       "                oldbalanceDest  newbalanceDest   isFraud  \n",
       "step                 -0.002251       -0.019503  0.045030  \n",
       "amount                0.215558        0.311936  0.128862  \n",
       "oldbalanceOrg         0.093305        0.064049  0.003829  \n",
       "newbalanceOrig        0.095182        0.063725 -0.009438  \n",
       "oldbalanceDest        1.000000        0.978403 -0.007552  \n",
       "newbalanceDest        0.978403        1.000000 -0.000495  \n",
       "isFraud              -0.007552       -0.000495  1.000000  "
      ]
     },
     "execution_count": 15,
     "metadata": {},
     "output_type": "execute_result"
    }
   ],
   "source": [
    "#code is used to produce the correlation coefficient that exist between each feature of the data\n",
    "cor =df.corr()\n",
    "cor"
   ]
  },
  {
   "cell_type": "code",
   "execution_count": 13,
   "id": "2aee9c33",
   "metadata": {},
   "outputs": [
    {
     "data": {
      "text/plain": [
       "<AxesSubplot:>"
      ]
     },
     "execution_count": 13,
     "metadata": {},
     "output_type": "execute_result"
    },
    {
     "data": {
      "image/png": "[encoded data removed]",
      "text/plain": [
       "<Figure size 720x576 with 2 Axes>"
      ]
     },
     "metadata": {
      "needs_background": "light"
     },
     "output_type": "display_data"
    }
   ],
   "source": [
    "#create the correlation heatmap from the dataset selected to ascertain the correlation coefficient\n",
    "plt.figure(figsize=(10,8))\n",
    "sns.heatmap(data = cor, annot=True, cmap = 'rocket', center = 0, vmin =0.1, vmax = 0.95)\n",
    "# the heatmap visual display shows a correllation between \n",
    "# 1) oldbalanceorg & newbalanceOrig, 2) OldbalanceDest & newbalanceDest\n",
    "# From the visuals the lighter the color the higher the correlation and the darker the color the lower the correlation"
   ]
  },
  {
   "cell_type": "code",
   "execution_count": 16,
   "id": "bfc67aae",
   "metadata": {},
   "outputs": [
    {
     "data": {
      "text/plain": [
       "<AxesSubplot:>"
      ]
     },
     "execution_count": 16,
     "metadata": {},
     "output_type": "execute_result"
    },
    {
     "data": {
      "image/png": "[encoded data removed]",
      "text/plain": [
       "<Figure size 720x720 with 2 Axes>"
      ]
     },
     "metadata": {
      "needs_background": "light"
     },
     "output_type": "display_data"
    }
   ],
   "source": [
    "# Code creates correlation heatmap directly from the entire data(note correlation heatmap is only created using numeric data)\n",
    "# this helps us to see the relationship that exist between the features\n",
    "#import visualization libraries\n",
    "import matplotlib.pyplot as plt\n",
    "%matplotlib inline\n",
    "import seaborn as sns\n",
    "plt.figure(figsize=(10,10))\n",
    "sns.heatmap(data.corr(),annot=True)\n",
    "# the heatmap visual display shows a correllation between \n",
    "# 1) oldbalanceorg & newbalanceOrig, 2) OldbalanceDest & newbalanceDest"
   ]
  },
  {
   "cell_type": "markdown",
   "id": "a25d8faf",
   "metadata": {},
   "source": [
    "# Data Cleansing\n",
    "\n",
    "In this markdown cell, mention the data cleaning steps you will take. Some of your steps may include\n",
    "* There no missing value , nor any column data to be replaced\n",
    "* we are not Removing or deleting any records"
   ]
  },
  {
   "cell_type": "markdown",
   "id": "abc83ce7",
   "metadata": {},
   "source": [
    "# Data Visualization\n",
    "\n",
    "In this section, visualize import relationships in the data set.\n",
    "\n",
    "## Univariate Analysis\n",
    "\n",
    "Create charts where you plot only one variable (column) at a time. \n",
    "\n",
    "You can use simple charts like histograms and boxplots.\n",
    "\n",
    "> For example, use a histogram to plot fraudulent transaction distribution .\n",
    "\n",
    "> **There will be an explanation or interpretation of the chart in a markdown cell after the chart**"
   ]
  },
  {
   "cell_type": "code",
   "execution_count": 17,
   "id": "04218ad1",
   "metadata": {},
   "outputs": [
    {
     "data": {
      "text/plain": [
       "0    1047433\n",
       "1       1142\n",
       "Name: isFraud, dtype: int64"
      ]
     },
     "execution_count": 17,
     "metadata": {},
     "output_type": "execute_result"
    }
   ],
   "source": [
    "#univariate analysis cells\n",
    "# Code to show nos of Transaction that is fraud or not \n",
    "# less than 100 customers had loan in default\n",
    "\n",
    "dfe = data.isFraud.value_counts()\n",
    "#df.plot.barh()\n",
    "dfe"
   ]
  },
  {
   "cell_type": "code",
   "execution_count": 17,
   "id": "4e455dd8",
   "metadata": {},
   "outputs": [
    {
     "data": {
      "image/png": "[encoded data removed]",
      "text/plain": [
       "<Figure size 864x504 with 1 Axes>"
      ]
     },
     "metadata": {
      "needs_background": "light"
     },
     "output_type": "display_data"
    }
   ],
   "source": [
    "dfe.plot.bar(figsize=(12,7))\n",
    "plt.title('Fradulent Transaction')\n",
    "plt.show()"
   ]
  },
  {
   "cell_type": "code",
   "execution_count": null,
   "id": "4752556f",
   "metadata": {},
   "outputs": [],
   "source": [
    "# we see the number of fradulent transaction is very low compared with nos of none fradulent transaction"
   ]
  },
  {
   "cell_type": "code",
   "execution_count": 18,
   "id": "97243ce3",
   "metadata": {},
   "outputs": [
    {
     "data": {
      "text/plain": [
       "Text(0.5, 1.0, 'Types of Transaction')"
      ]
     },
     "execution_count": 18,
     "metadata": {},
     "output_type": "execute_result"
    },
    {
     "data": {
      "image/png": "[encoded data removed]",
      "text/plain": [
       "<Figure size 720x432 with 1 Axes>"
      ]
     },
     "metadata": {
      "needs_background": "light"
     },
     "output_type": "display_data"
    }
   ],
   "source": [
    "#Code shows us the types of Transaction\n",
    "tc=data['type'].value_counts()\n",
    "tc.plot.barh(figsize=(10,6))\n",
    "plt.title('Types of Transaction')"
   ]
  },
  {
   "cell_type": "code",
   "execution_count": null,
   "id": "7d71c961",
   "metadata": {},
   "outputs": [],
   "source": [
    "# From the Chart Above 'CASH OUT' is the most frequent type of transaction\n",
    "# Whilst 'DEBIT' is the lowest type of transaction\n",
    "# Customers prefare cash transaction to card transaction"
   ]
  },
  {
   "cell_type": "markdown",
   "id": "e37369fa",
   "metadata": {},
   "source": [
    "## Bivariate Analysis\n",
    "\n",
    "We create charts where I plot only two variables at a time on a chart. \n",
    "\n",
    "I use visuals like bar charts, boxplots, scatter plots and so on.\n",
    "\n",
    "> I will plot variables like steps against amount, etc\n",
    "\n",
    "> ** An explanation or interpretation of the chartwould be placed in a markdown cell after the chart**"
   ]
  },
  {
   "cell_type": "code",
   "execution_count": 19,
   "id": "7b60ec44",
   "metadata": {},
   "outputs": [
    {
     "data": {
      "image/png": "[encoded data removed]",
      "text/plain": [
       "<Figure size 864x576 with 1 Axes>"
      ]
     },
     "metadata": {
      "needs_background": "light"
     },
     "output_type": "display_data"
    }
   ],
   "source": [
    "# Code grouped isFraud by Amount\n",
    "aj = data.groupby('isFraud').amount.max()\n",
    "aj.plot.bar(figsize=(12,8))\n",
    "plt.title('Fradulent Transaction Distribution by Amount')\n",
    "plt.show()"
   ]
  },
  {
   "cell_type": "code",
   "execution_count": null,
   "id": "b5d7c781",
   "metadata": {},
   "outputs": [],
   "source": [
    "# The chart displayed above shows that \n",
    "# The amount involved in fradulent transaction is higher than the amount involved in none fradulent transaction"
   ]
  },
  {
   "cell_type": "code",
   "execution_count": 20,
   "id": "c69fc928",
   "metadata": {},
   "outputs": [
    {
     "data": {
      "image/png": "[encoded data removed]",
      "text/plain": [
       "<Figure size 864x504 with 1 Axes>"
      ]
     },
     "metadata": {
      "needs_background": "light"
     },
     "output_type": "display_data"
    }
   ],
   "source": [
    "#Code to group transaction type by their amounts\n",
    "# The code reveals Retred had the highest balance  followed by enterpreneurs and the unemployed had the lowest balance\n",
    "tya = data.groupby('type').amount.max()\n",
    "tya.plot.bar(figsize=(12,7))\n",
    "\n",
    "plt.title('Transaction type by amount')\n",
    "plt.show()"
   ]
  },
  {
   "cell_type": "code",
   "execution_count": null,
   "id": "454a7f06",
   "metadata": {},
   "outputs": [],
   "source": [
    "# From the Visual 'CASHOU' & 'TRANSFER  both have the highest Maximum transaction amount of (10M) \n",
    "# followed by 'CASHIN' wit highest hmaximum transaction amount of les than (2M)\n",
    "# The lowest maximum transaction amount is  for 'Payment' with the amount being less than a million"
   ]
  },
  {
   "cell_type": "code",
   "execution_count": 21,
   "id": "1c159add",
   "metadata": {},
   "outputs": [
    {
     "data": {
      "image/png": "[encoded data removed]",
      "text/plain": [
       "<Figure size 864x504 with 1 Axes>"
      ]
     },
     "metadata": {
      "needs_background": "light"
     },
     "output_type": "display_data"
    }
   ],
   "source": [
    "#Code to group type of transaction by which one is fradulent or not \n",
    "\n",
    "lb = data.groupby('isFraud').type.value_counts()\n",
    "lb.plot.bar(figsize=(12,7))\n",
    "\n",
    "plt.title('Fradulent Transaction  by Transaction Type')\n",
    "plt.show()"
   ]
  },
  {
   "cell_type": "code",
   "execution_count": null,
   "id": "75129ce2",
   "metadata": {},
   "outputs": [],
   "source": [
    " #The code reveals Only two types of transaction are used for fraud which are Cash_Out and TRANSFER"
   ]
  },
  {
   "cell_type": "markdown",
   "id": "9429b113",
   "metadata": {},
   "source": [
    "## Multivariate Analysis\n",
    "\n",
    "Create charts where you plot more than two variables at a time on a chart. \n",
    "\n",
    "You can use visuals like bar charts, scatter plots and so on.\n",
    "\n",
    "> Explore how to use the `hue` parameter in `seaborn` chart types\n",
    "\n",
    "> **Make sure to put an explanation or interpretation of the chart in a markdown cell after the chart**"
   ]
  },
  {
   "cell_type": "code",
   "execution_count": 22,
   "id": "717fbf61",
   "metadata": {},
   "outputs": [
    {
     "name": "stderr",
     "output_type": "stream",
     "text": [
      "C:\\ProgramData\\Anaconda3\\lib\\site-packages\\seaborn\\_decorators.py:36: FutureWarning: Pass the following variables as keyword args: x, y. From version 0.12, the only valid positional argument will be `data`, and passing other arguments without an explicit keyword will result in an error or misinterpretation.\n",
      "  warnings.warn(\n"
     ]
    },
    {
     "data": {
      "image/png": "[encoded data removed]",
      "text/plain": [
       "<Figure size 842.4x595.44 with 1 Axes>"
      ]
     },
     "metadata": {
      "needs_background": "light"
     },
     "output_type": "display_data"
    }
   ],
   "source": [
    "# in this code we created a variable using lambda function to create a distibution for the step range\n",
    "#We used the step range variable called step group , amount to test if these factors affeted if the transaction was fradulent or not\n",
    "# We discovered that the Step range of transaction  that are fraudulent  were in the step range of 50 to 80hrs and the amount \n",
    "#was between 600k and below with the highest amount of fradulent transaction  less than 12m and most likely fradulent amount was 400k and below\n",
    "step_group = data.step.map(lambda step:10*(step//10))\n",
    "sns.axes_style(style=None)\n",
    "fig, ax= plt.subplots()\n",
    "fig.set_size_inches(11.7,8.27)\n",
    "abl = sns.violinplot(step_group,'amount', hue='isFraud', data=data, split=True, inner='quartile', size=25, \n",
    "                     palette=['lightblue','red'])\n"
   ]
  },
  {
   "cell_type": "code",
   "execution_count": null,
   "id": "02d1b343",
   "metadata": {},
   "outputs": [],
   "source": [
    "# We discovered that the Step range of transaction  that are fraudulent  were in the step range of 50 to 80hrs \n",
    "# The amount was between 600k and below with the highest amount of fradulent transaction  less than 12m \n",
    "# and most likely fradulent amount was 400k and below"
   ]
  },
  {
   "cell_type": "code",
   "execution_count": 23,
   "id": "85a4200c",
   "metadata": {
    "scrolled": true
   },
   "outputs": [
    {
     "name": "stderr",
     "output_type": "stream",
     "text": [
      "C:\\ProgramData\\Anaconda3\\lib\\site-packages\\seaborn\\categorical.py:3714: UserWarning: The `factorplot` function has been renamed to `catplot`. The original name will be removed in a future release. Please update your code. Note that the default `kind` in `factorplot` (`'point'`) has changed `'strip'` in `catplot`.\n",
      "  warnings.warn(msg)\n",
      "C:\\ProgramData\\Anaconda3\\lib\\site-packages\\seaborn\\categorical.py:3720: UserWarning: The `size` parameter has been renamed to `height`; please update your code.\n",
      "  warnings.warn(msg, UserWarning)\n",
      "C:\\ProgramData\\Anaconda3\\lib\\site-packages\\seaborn\\_decorators.py:36: FutureWarning: Pass the following variables as keyword args: x, y, hue. From version 0.12, the only valid positional argument will be `data`, and passing other arguments without an explicit keyword will result in an error or misinterpretation.\n",
      "  warnings.warn(\n"
     ]
    },
    {
     "data": {
      "text/plain": [
       "<seaborn.axisgrid.FacetGrid at 0x236931e2070>"
      ]
     },
     "execution_count": 23,
     "metadata": {},
     "output_type": "execute_result"
    },
    {
     "data": {
      "image/png": "[encoded data removed]",
      "text/plain": [
       "<Figure size 908.125x864 with 1 Axes>"
      ]
     },
     "metadata": {
      "needs_background": "light"
     },
     "output_type": "display_data"
    }
   ],
   "source": [
    "# Code provides outcomes based on Amount of transaction type and whether they were fradulent or not\n",
    "sns.axes_style(style='ticks')\n",
    "k = sns.factorplot('type','amount','isFraud',data=data, kind='box', size=12)\n",
    "k.set_axis_labels('Transaction Type','Amount')"
   ]
  },
  {
   "cell_type": "code",
   "execution_count": null,
   "id": "b07673bc",
   "metadata": {},
   "outputs": [],
   "source": [
    "# We discovered that the likely type of transaction used for Fraud is CASHOUT and TRANSFER \n",
    "# The Amount was most likely from 200k and below"
   ]
  },
  {
   "cell_type": "code",
   "execution_count": null,
   "id": "091fff17",
   "metadata": {},
   "outputs": [],
   "source": []
  },
  {
   "cell_type": "markdown",
   "id": "d84168b0",
   "metadata": {},
   "source": [
    "# Summary of Findings\n",
    "\n",
    "In this markdown cell, summarize your list of findings.\n",
    "\n",
    "1. The Largest amount of Fradulent Transaction was 10m\n",
    "2. The Step range that was most likely to be involved in fradulent transaction was between 50 and 80hrs\n",
    "3. The amount that was most likely to be a fradulent transaction was fromm 200k and below\n",
    "4. The two types of transaction that was mainly used for fraud was cash out and transfer\n",
    "5. Amount involved in Fradulent transaction was Higer than a non fradulent transaction\n",
    "6. The most common type of transaction was CASHOUT so customer prefer Cash Transaction to Card Transaction"
   ]
  },
  {
   "cell_type": "code",
   "execution_count": 24,
   "id": "0cd1fdaa",
   "metadata": {},
   "outputs": [
    {
     "data": {
      "text/plain": [
       "Index(['step', 'type', 'amount', 'nameOrig', 'oldbalanceOrg', 'newbalanceOrig',\n",
       "       'nameDest', 'oldbalanceDest', 'newbalanceDest', 'isFraud'],\n",
       "      dtype='object')"
      ]
     },
     "execution_count": 24,
     "metadata": {},
     "output_type": "execute_result"
    }
   ],
   "source": [
    "dr = data.columns\n",
    "dr"
   ]
  },
  {
   "cell_type": "code",
   "execution_count": 25,
   "id": "297d6bc7",
   "metadata": {},
   "outputs": [
    {
     "name": "stdout",
     "output_type": "stream",
     "text": [
      "<class 'pandas.core.frame.DataFrame'>\n",
      "RangeIndex: 1048575 entries, 0 to 1048574\n",
      "Data columns (total 10 columns):\n",
      " #   Column          Non-Null Count    Dtype  \n",
      "---  ------          --------------    -----  \n",
      " 0   step            1048575 non-null  int64  \n",
      " 1   type            1048575 non-null  object \n",
      " 2   amount          1048575 non-null  float64\n",
      " 3   nameOrig        1048575 non-null  object \n",
      " 4   oldbalanceOrg   1048575 non-null  float64\n",
      " 5   newbalanceOrig  1048575 non-null  float64\n",
      " 6   nameDest        1048575 non-null  object \n",
      " 7   oldbalanceDest  1048575 non-null  float64\n",
      " 8   newbalanceDest  1048575 non-null  float64\n",
      " 9   isFraud         1048575 non-null  int64  \n",
      "dtypes: float64(5), int64(2), object(3)\n",
      "memory usage: 80.0+ MB\n"
     ]
    }
   ],
   "source": [
    "# code to get the data type in order to filter out the categorical data type\n",
    "data.info()"
   ]
  },
  {
   "cell_type": "markdown",
   "id": "60ffb708",
   "metadata": {},
   "source": [
    "# Modelling\n",
    "\n",
    "In this section, you will train and evaluate your models\n"
   ]
  },
  {
   "cell_type": "markdown",
   "id": "d6c97f67",
   "metadata": {},
   "source": [
    "## Select Target"
   ]
  },
  {
   "cell_type": "code",
   "execution_count": 26,
   "id": "91838b0c",
   "metadata": {},
   "outputs": [
    {
     "data": {
      "text/plain": [
       "['type', 'nameOrig', 'nameDest']"
      ]
     },
     "execution_count": 26,
     "metadata": {},
     "output_type": "execute_result"
    }
   ],
   "source": [
    "#1. select categorical variables\n",
    "categorical =['type', 'nameOrig', 'nameDest']\n",
    "categorical"
   ]
  },
  {
   "cell_type": "code",
   "execution_count": 27,
   "id": "13b36a39",
   "metadata": {},
   "outputs": [
    {
     "data": {
      "text/plain": [
       "CASH_OUT    373641\n",
       "PAYMENT     353873\n",
       "CASH_IN     227130\n",
       "TRANSFER     86753\n",
       "DEBIT         7178\n",
       "Name: type, dtype: int64"
      ]
     },
     "execution_count": 27,
     "metadata": {},
     "output_type": "execute_result"
    }
   ],
   "source": [
    "#code to identify the content on the column naMed 'type' so as to encode it\n",
    "data.type.value_counts()"
   ]
  },
  {
   "cell_type": "code",
   "execution_count": 28,
   "id": "efd5060c",
   "metadata": {},
   "outputs": [
    {
     "data": {
      "text/html": [
       "<div>\n",
       "<style scoped>\n",
       "    .dataframe tbody tr th:only-of-type {\n",
       "        vertical-align: middle;\n",
       "    }\n",
       "\n",
       "    .dataframe tbody tr th {\n",
       "        vertical-align: top;\n",
       "    }\n",
       "\n",
       "    .dataframe thead th {\n",
       "        text-align: right;\n",
       "    }\n",
       "</style>\n",
       "<table border=\"1\" class=\"dataframe\">\n",
       "  <thead>\n",
       "    <tr style=\"text-align: right;\">\n",
       "      <th></th>\n",
       "      <th>step</th>\n",
       "      <th>type</th>\n",
       "      <th>amount</th>\n",
       "      <th>nameOrig</th>\n",
       "      <th>oldbalanceOrg</th>\n",
       "      <th>newbalanceOrig</th>\n",
       "      <th>nameDest</th>\n",
       "      <th>oldbalanceDest</th>\n",
       "      <th>newbalanceDest</th>\n",
       "      <th>isFraud</th>\n",
       "    </tr>\n",
       "  </thead>\n",
       "  <tbody>\n",
       "    <tr>\n",
       "      <th>0</th>\n",
       "      <td>1</td>\n",
       "      <td>2</td>\n",
       "      <td>9839.64</td>\n",
       "      <td>C1231006815</td>\n",
       "      <td>170136.0</td>\n",
       "      <td>160296.36</td>\n",
       "      <td>M1979787155</td>\n",
       "      <td>0.0</td>\n",
       "      <td>0.0</td>\n",
       "      <td>0</td>\n",
       "    </tr>\n",
       "    <tr>\n",
       "      <th>1</th>\n",
       "      <td>1</td>\n",
       "      <td>2</td>\n",
       "      <td>1864.28</td>\n",
       "      <td>C1666544295</td>\n",
       "      <td>21249.0</td>\n",
       "      <td>19384.72</td>\n",
       "      <td>M2044282225</td>\n",
       "      <td>0.0</td>\n",
       "      <td>0.0</td>\n",
       "      <td>0</td>\n",
       "    </tr>\n",
       "    <tr>\n",
       "      <th>2</th>\n",
       "      <td>1</td>\n",
       "      <td>4</td>\n",
       "      <td>181.00</td>\n",
       "      <td>C1305486145</td>\n",
       "      <td>181.0</td>\n",
       "      <td>0.00</td>\n",
       "      <td>C553264065</td>\n",
       "      <td>0.0</td>\n",
       "      <td>0.0</td>\n",
       "      <td>1</td>\n",
       "    </tr>\n",
       "    <tr>\n",
       "      <th>3</th>\n",
       "      <td>1</td>\n",
       "      <td>1</td>\n",
       "      <td>181.00</td>\n",
       "      <td>C840083671</td>\n",
       "      <td>181.0</td>\n",
       "      <td>0.00</td>\n",
       "      <td>C38997010</td>\n",
       "      <td>21182.0</td>\n",
       "      <td>0.0</td>\n",
       "      <td>1</td>\n",
       "    </tr>\n",
       "    <tr>\n",
       "      <th>4</th>\n",
       "      <td>1</td>\n",
       "      <td>2</td>\n",
       "      <td>11668.14</td>\n",
       "      <td>C2048537720</td>\n",
       "      <td>41554.0</td>\n",
       "      <td>29885.86</td>\n",
       "      <td>M1230701703</td>\n",
       "      <td>0.0</td>\n",
       "      <td>0.0</td>\n",
       "      <td>0</td>\n",
       "    </tr>\n",
       "  </tbody>\n",
       "</table>\n",
       "</div>"
      ],
      "text/plain": [
       "   step  type    amount     nameOrig  oldbalanceOrg  newbalanceOrig  \\\n",
       "0     1     2   9839.64  C1231006815       170136.0       160296.36   \n",
       "1     1     2   1864.28  C1666544295        21249.0        19384.72   \n",
       "2     1     4    181.00  C1305486145          181.0            0.00   \n",
       "3     1     1    181.00   C840083671          181.0            0.00   \n",
       "4     1     2  11668.14  C2048537720        41554.0        29885.86   \n",
       "\n",
       "      nameDest  oldbalanceDest  newbalanceDest  isFraud  \n",
       "0  M1979787155             0.0             0.0        0  \n",
       "1  M2044282225             0.0             0.0        0  \n",
       "2   C553264065             0.0             0.0        1  \n",
       "3    C38997010         21182.0             0.0        1  \n",
       "4  M1230701703             0.0             0.0        0  "
      ]
     },
     "execution_count": 28,
     "metadata": {},
     "output_type": "execute_result"
    }
   ],
   "source": [
    "# Encode the data in the column named 'type'\n",
    "# change and replace multiple value in data set as per below\n",
    "data.replace({'CASH_OUT':1,'PAYMENT':2,'CASH_IN':3,'TRANSFER':4,'DEBIT':5 },inplace=True)\n",
    "data.head()"
   ]
  },
  {
   "cell_type": "code",
   "execution_count": 29,
   "id": "9139cb04",
   "metadata": {},
   "outputs": [
    {
     "data": {
      "text/html": [
       "<div>\n",
       "<style scoped>\n",
       "    .dataframe tbody tr th:only-of-type {\n",
       "        vertical-align: middle;\n",
       "    }\n",
       "\n",
       "    .dataframe tbody tr th {\n",
       "        vertical-align: top;\n",
       "    }\n",
       "\n",
       "    .dataframe thead th {\n",
       "        text-align: right;\n",
       "    }\n",
       "</style>\n",
       "<table border=\"1\" class=\"dataframe\">\n",
       "  <thead>\n",
       "    <tr style=\"text-align: right;\">\n",
       "      <th></th>\n",
       "      <th>nameOrig</th>\n",
       "      <th>nameDest</th>\n",
       "    </tr>\n",
       "  </thead>\n",
       "  <tbody>\n",
       "    <tr>\n",
       "      <th>0</th>\n",
       "      <td>C1231006815</td>\n",
       "      <td>M1979787155</td>\n",
       "    </tr>\n",
       "    <tr>\n",
       "      <th>1</th>\n",
       "      <td>C1666544295</td>\n",
       "      <td>M2044282225</td>\n",
       "    </tr>\n",
       "    <tr>\n",
       "      <th>2</th>\n",
       "      <td>C1305486145</td>\n",
       "      <td>C553264065</td>\n",
       "    </tr>\n",
       "    <tr>\n",
       "      <th>3</th>\n",
       "      <td>C840083671</td>\n",
       "      <td>C38997010</td>\n",
       "    </tr>\n",
       "    <tr>\n",
       "      <th>4</th>\n",
       "      <td>C2048537720</td>\n",
       "      <td>M1230701703</td>\n",
       "    </tr>\n",
       "  </tbody>\n",
       "</table>\n",
       "</div>"
      ],
      "text/plain": [
       "      nameOrig     nameDest\n",
       "0  C1231006815  M1979787155\n",
       "1  C1666544295  M2044282225\n",
       "2  C1305486145   C553264065\n",
       "3   C840083671    C38997010\n",
       "4  C2048537720  M1230701703"
      ]
     },
     "execution_count": 29,
     "metadata": {},
     "output_type": "execute_result"
    }
   ],
   "source": [
    "# create a dataframe with only categorical data only\n",
    "categoricala = data[['nameOrig', 'nameDest']]\n",
    "categoricala.head()"
   ]
  },
  {
   "cell_type": "code",
   "execution_count": 30,
   "id": "f8b1722f",
   "metadata": {},
   "outputs": [
    {
     "data": {
      "text/html": [
       "<div>\n",
       "<style scoped>\n",
       "    .dataframe tbody tr th:only-of-type {\n",
       "        vertical-align: middle;\n",
       "    }\n",
       "\n",
       "    .dataframe tbody tr th {\n",
       "        vertical-align: top;\n",
       "    }\n",
       "\n",
       "    .dataframe thead th {\n",
       "        text-align: right;\n",
       "    }\n",
       "</style>\n",
       "<table border=\"1\" class=\"dataframe\">\n",
       "  <thead>\n",
       "    <tr style=\"text-align: right;\">\n",
       "      <th></th>\n",
       "      <th>step</th>\n",
       "      <th>type</th>\n",
       "      <th>amount</th>\n",
       "      <th>oldbalanceOrg</th>\n",
       "      <th>newbalanceOrig</th>\n",
       "      <th>oldbalanceDest</th>\n",
       "      <th>newbalanceDest</th>\n",
       "      <th>isFraud</th>\n",
       "    </tr>\n",
       "  </thead>\n",
       "  <tbody>\n",
       "    <tr>\n",
       "      <th>0</th>\n",
       "      <td>1</td>\n",
       "      <td>2</td>\n",
       "      <td>9839.64</td>\n",
       "      <td>170136.0</td>\n",
       "      <td>160296.36</td>\n",
       "      <td>0.0</td>\n",
       "      <td>0.0</td>\n",
       "      <td>0</td>\n",
       "    </tr>\n",
       "    <tr>\n",
       "      <th>1</th>\n",
       "      <td>1</td>\n",
       "      <td>2</td>\n",
       "      <td>1864.28</td>\n",
       "      <td>21249.0</td>\n",
       "      <td>19384.72</td>\n",
       "      <td>0.0</td>\n",
       "      <td>0.0</td>\n",
       "      <td>0</td>\n",
       "    </tr>\n",
       "    <tr>\n",
       "      <th>2</th>\n",
       "      <td>1</td>\n",
       "      <td>4</td>\n",
       "      <td>181.00</td>\n",
       "      <td>181.0</td>\n",
       "      <td>0.00</td>\n",
       "      <td>0.0</td>\n",
       "      <td>0.0</td>\n",
       "      <td>1</td>\n",
       "    </tr>\n",
       "    <tr>\n",
       "      <th>3</th>\n",
       "      <td>1</td>\n",
       "      <td>1</td>\n",
       "      <td>181.00</td>\n",
       "      <td>181.0</td>\n",
       "      <td>0.00</td>\n",
       "      <td>21182.0</td>\n",
       "      <td>0.0</td>\n",
       "      <td>1</td>\n",
       "    </tr>\n",
       "    <tr>\n",
       "      <th>4</th>\n",
       "      <td>1</td>\n",
       "      <td>2</td>\n",
       "      <td>11668.14</td>\n",
       "      <td>41554.0</td>\n",
       "      <td>29885.86</td>\n",
       "      <td>0.0</td>\n",
       "      <td>0.0</td>\n",
       "      <td>0</td>\n",
       "    </tr>\n",
       "  </tbody>\n",
       "</table>\n",
       "</div>"
      ],
      "text/plain": [
       "   step  type    amount  oldbalanceOrg  newbalanceOrig  oldbalanceDest  \\\n",
       "0     1     2   9839.64       170136.0       160296.36             0.0   \n",
       "1     1     2   1864.28        21249.0        19384.72             0.0   \n",
       "2     1     4    181.00          181.0            0.00             0.0   \n",
       "3     1     1    181.00          181.0            0.00         21182.0   \n",
       "4     1     2  11668.14        41554.0        29885.86             0.0   \n",
       "\n",
       "   newbalanceDest  isFraud  \n",
       "0             0.0        0  \n",
       "1             0.0        0  \n",
       "2             0.0        1  \n",
       "3             0.0        1  \n",
       "4             0.0        0  "
      ]
     },
     "execution_count": 30,
     "metadata": {},
     "output_type": "execute_result"
    }
   ],
   "source": [
    "#we removed the categorical columns so we can use the rest of the data to test and train the model\n",
    "# we used the list called categoricala and delete all the selected categorical columns at once\n",
    "#Create a new variable name data2 and place the code to delete the variable called categoricala into it\n",
    "data2 = data.drop(categoricala, axis=1)\n",
    "data2\n",
    "data2.head()"
   ]
  },
  {
   "cell_type": "code",
   "execution_count": 31,
   "id": "169b39cd",
   "metadata": {},
   "outputs": [
    {
     "name": "stdout",
     "output_type": "stream",
     "text": [
      "<class 'pandas.core.frame.DataFrame'>\n",
      "RangeIndex: 1048575 entries, 0 to 1048574\n",
      "Data columns (total 8 columns):\n",
      " #   Column          Non-Null Count    Dtype  \n",
      "---  ------          --------------    -----  \n",
      " 0   step            1048575 non-null  int64  \n",
      " 1   type            1048575 non-null  int64  \n",
      " 2   amount          1048575 non-null  float64\n",
      " 3   oldbalanceOrg   1048575 non-null  float64\n",
      " 4   newbalanceOrig  1048575 non-null  float64\n",
      " 5   oldbalanceDest  1048575 non-null  float64\n",
      " 6   newbalanceDest  1048575 non-null  float64\n",
      " 7   isFraud         1048575 non-null  int64  \n",
      "dtypes: float64(5), int64(3)\n",
      "memory usage: 64.0 MB\n"
     ]
    }
   ],
   "source": [
    "data2.info()\n",
    "# we can see all the features of the dataset are now numeric and ready for modelling"
   ]
  },
  {
   "cell_type": "code",
   "execution_count": 32,
   "id": "fd8fab20",
   "metadata": {},
   "outputs": [
    {
     "data": {
      "text/plain": [
       "0    0\n",
       "1    0\n",
       "2    1\n",
       "3    1\n",
       "4    0\n",
       "Name: isFraud, dtype: int64"
      ]
     },
     "execution_count": 32,
     "metadata": {},
     "output_type": "execute_result"
    }
   ],
   "source": [
    "#We set our target which is 'isFraud' because the problem statement is to design a model to detect fradulent transaction\n",
    "#we display the first four rows\n",
    "y = data2.isFraud\n",
    "y.head()"
   ]
  },
  {
   "cell_type": "markdown",
   "id": "d9864b8b",
   "metadata": {},
   "source": [
    "## Select Features"
   ]
  },
  {
   "cell_type": "code",
   "execution_count": 33,
   "id": "f219e2d6",
   "metadata": {},
   "outputs": [
    {
     "data": {
      "text/plain": [
       "(1048575, 7)"
      ]
     },
     "execution_count": 33,
     "metadata": {},
     "output_type": "execute_result"
    }
   ],
   "source": [
    "# here we set the features by seleting the attributes to be used\n",
    "# we drop the column that contains the target\n",
    "features = data2.drop([\"isFraud\"],axis=1)\n",
    "features.shape"
   ]
  },
  {
   "cell_type": "code",
   "execution_count": 34,
   "id": "9629b9d7",
   "metadata": {},
   "outputs": [
    {
     "data": {
      "text/html": [
       "<div>\n",
       "<style scoped>\n",
       "    .dataframe tbody tr th:only-of-type {\n",
       "        vertical-align: middle;\n",
       "    }\n",
       "\n",
       "    .dataframe tbody tr th {\n",
       "        vertical-align: top;\n",
       "    }\n",
       "\n",
       "    .dataframe thead th {\n",
       "        text-align: right;\n",
       "    }\n",
       "</style>\n",
       "<table border=\"1\" class=\"dataframe\">\n",
       "  <thead>\n",
       "    <tr style=\"text-align: right;\">\n",
       "      <th></th>\n",
       "      <th>step</th>\n",
       "      <th>type</th>\n",
       "      <th>amount</th>\n",
       "      <th>oldbalanceOrg</th>\n",
       "      <th>newbalanceOrig</th>\n",
       "      <th>oldbalanceDest</th>\n",
       "      <th>newbalanceDest</th>\n",
       "    </tr>\n",
       "  </thead>\n",
       "  <tbody>\n",
       "    <tr>\n",
       "      <th>0</th>\n",
       "      <td>1</td>\n",
       "      <td>2</td>\n",
       "      <td>9839.64</td>\n",
       "      <td>170136.0</td>\n",
       "      <td>160296.36</td>\n",
       "      <td>0.0</td>\n",
       "      <td>0.0</td>\n",
       "    </tr>\n",
       "    <tr>\n",
       "      <th>1</th>\n",
       "      <td>1</td>\n",
       "      <td>2</td>\n",
       "      <td>1864.28</td>\n",
       "      <td>21249.0</td>\n",
       "      <td>19384.72</td>\n",
       "      <td>0.0</td>\n",
       "      <td>0.0</td>\n",
       "    </tr>\n",
       "    <tr>\n",
       "      <th>2</th>\n",
       "      <td>1</td>\n",
       "      <td>4</td>\n",
       "      <td>181.00</td>\n",
       "      <td>181.0</td>\n",
       "      <td>0.00</td>\n",
       "      <td>0.0</td>\n",
       "      <td>0.0</td>\n",
       "    </tr>\n",
       "    <tr>\n",
       "      <th>3</th>\n",
       "      <td>1</td>\n",
       "      <td>1</td>\n",
       "      <td>181.00</td>\n",
       "      <td>181.0</td>\n",
       "      <td>0.00</td>\n",
       "      <td>21182.0</td>\n",
       "      <td>0.0</td>\n",
       "    </tr>\n",
       "    <tr>\n",
       "      <th>4</th>\n",
       "      <td>1</td>\n",
       "      <td>2</td>\n",
       "      <td>11668.14</td>\n",
       "      <td>41554.0</td>\n",
       "      <td>29885.86</td>\n",
       "      <td>0.0</td>\n",
       "      <td>0.0</td>\n",
       "    </tr>\n",
       "  </tbody>\n",
       "</table>\n",
       "</div>"
      ],
      "text/plain": [
       "   step  type    amount  oldbalanceOrg  newbalanceOrig  oldbalanceDest  \\\n",
       "0     1     2   9839.64       170136.0       160296.36             0.0   \n",
       "1     1     2   1864.28        21249.0        19384.72             0.0   \n",
       "2     1     4    181.00          181.0            0.00             0.0   \n",
       "3     1     1    181.00          181.0            0.00         21182.0   \n",
       "4     1     2  11668.14        41554.0        29885.86             0.0   \n",
       "\n",
       "   newbalanceDest  \n",
       "0             0.0  \n",
       "1             0.0  \n",
       "2             0.0  \n",
       "3             0.0  \n",
       "4             0.0  "
      ]
     },
     "execution_count": 34,
     "metadata": {},
     "output_type": "execute_result"
    }
   ],
   "source": [
    "#we set our x the dependent variables\n",
    "#we display the first four lines\n",
    "X = features\n",
    "X.head()"
   ]
  },
  {
   "cell_type": "markdown",
   "id": "fbcbaca7",
   "metadata": {},
   "source": [
    "## Train Test Split"
   ]
  },
  {
   "cell_type": "code",
   "execution_count": 35,
   "id": "79c1c705",
   "metadata": {},
   "outputs": [],
   "source": [
    "#we import the libraries we will need\n",
    "from sklearn.model_selection import train_test_split, cross_val_score, cross_val_predict\n",
    "from sklearn.linear_model import LogisticRegression\n",
    "from sklearn.metrics import accuracy_score, classification_report\n",
    "from sklearn.tree import DecisionTreeClassifier\n",
    "from sklearn import tree\n",
    "from sklearn.neighbors import KNeighborsClassifier\n",
    "from sklearn.ensemble import RandomForestClassifier\n",
    "import seaborn as sns"
   ]
  },
  {
   "cell_type": "code",
   "execution_count": 36,
   "id": "6a343db6",
   "metadata": {},
   "outputs": [],
   "source": [
    "#split into training and validation sets using a 40% split ratio\n",
    "#X_train,X_valid,y_train,y_valid = train_test_split(X,y,test_size=0.4)\n",
    "#X_train, X_test, y_train, y_test = train_test_split(X,y,test_size=0.3,random_state=101)\n",
    "X_train,X_test,y_train,y_test = train_test_split(X,y,test_size=0.4)"
   ]
  },
  {
   "cell_type": "code",
   "execution_count": 37,
   "id": "93e55bbb",
   "metadata": {},
   "outputs": [
    {
     "name": "stdout",
     "output_type": "stream",
     "text": [
      "\n",
      "         step  type    amount  oldbalanceOrg  newbalanceOrig  oldbalanceDest  \\\n",
      "716699    37     1  80320.38            0.0             0.0       721818.70   \n",
      "941633    43     1  47701.38        20068.0             0.0      1295094.59   \n",
      "\n",
      "        newbalanceDest  \n",
      "716699       802139.07  \n",
      "941633      1884973.43  \n",
      "\n",
      "         step  type    amount  oldbalanceOrg  newbalanceOrig  oldbalanceDest  \\\n",
      "792777    40     1  60814.89            0.0            0.00       520403.88   \n",
      "50582      9     2   4928.26        21036.0        16107.74            0.00   \n",
      "\n",
      "        newbalanceDest  \n",
      "792777       581218.77  \n",
      "50582             0.00  \n",
      "\n",
      " 716699    0\n",
      "941633    0\n",
      "Name: isFraud, dtype: int64\n",
      "\n",
      " 792777    0\n",
      "50582     0\n",
      "Name: isFraud, dtype: int64\n"
     ]
    }
   ],
   "source": [
    "#we display the first four rows of oor training and test data set\n",
    "print('\\n',X_train.head(2))\n",
    "print('\\n',X_test.head(2))\n",
    "print('\\n',y_train.head(2))\n",
    "print('\\n',y_test.head(2))"
   ]
  },
  {
   "cell_type": "markdown",
   "id": "a3b2254c",
   "metadata": {},
   "source": [
    "## Import ML algorithms and initialize them"
   ]
  },
  {
   "cell_type": "code",
   "execution_count": 38,
   "id": "782d8f43",
   "metadata": {},
   "outputs": [],
   "source": [
    "# We initialize logistic regression\n",
    "#we import the library\n",
    "from sklearn.linear_model import LogisticRegression\n",
    "LR = LogisticRegression()\n"
   ]
  },
  {
   "cell_type": "markdown",
   "id": "e3bf6a9a",
   "metadata": {},
   "source": [
    "## Train and Test the models"
   ]
  },
  {
   "cell_type": "code",
   "execution_count": 39,
   "id": "6573f297",
   "metadata": {},
   "outputs": [
    {
     "data": {
      "text/plain": [
       "LogisticRegression()"
      ]
     },
     "execution_count": 39,
     "metadata": {},
     "output_type": "execute_result"
    }
   ],
   "source": [
    "#we fit the training data set\n",
    "LR.fit(X_train,y_train)"
   ]
  },
  {
   "cell_type": "code",
   "execution_count": 40,
   "id": "eaaedec2",
   "metadata": {},
   "outputs": [],
   "source": [
    "#we set out test data\n",
    "LR_preds = LR.predict(X_test)"
   ]
  },
  {
   "cell_type": "code",
   "execution_count": 41,
   "id": "5abd71da",
   "metadata": {},
   "outputs": [],
   "source": [
    "#we import the accuracy library to test the level of accuracy of the model\n",
    "from sklearn.metrics import accuracy_score"
   ]
  },
  {
   "cell_type": "code",
   "execution_count": 42,
   "id": "e8a5429c",
   "metadata": {},
   "outputs": [
    {
     "name": "stdout",
     "output_type": "stream",
     "text": [
      "0.9990105619531269\n"
     ]
    }
   ],
   "source": [
    "#we print out the accuracy score\n",
    "print(accuracy_score(LR_preds,y_test))"
   ]
  },
  {
   "cell_type": "code",
   "execution_count": 43,
   "id": "522edb24",
   "metadata": {},
   "outputs": [
    {
     "name": "stdout",
     "output_type": "stream",
     "text": [
      "              precision    recall  f1-score   support\n",
      "\n",
      "           0       1.00      1.00      1.00    419135\n",
      "           1       0.37      0.58      0.45       295\n",
      "\n",
      "    accuracy                           1.00    419430\n",
      "   macro avg       0.68      0.79      0.72    419430\n",
      "weighted avg       1.00      1.00      1.00    419430\n",
      "\n"
     ]
    }
   ],
   "source": [
    "#we import the classification library to view the recall and precision value\n",
    "from sklearn.metrics import classification_report\n",
    "#print classification report\n",
    "print(classification_report(LR_preds, y_test))"
   ]
  },
  {
   "cell_type": "code",
   "execution_count": 44,
   "id": "ecd145aa",
   "metadata": {},
   "outputs": [],
   "source": [
    "#we import the confusion matrix library to view the performance of the classification algorithm\n",
    "from sklearn.metrics import confusion_matrix, ConfusionMatrixDisplay\n",
    "import matplotlib.pyplot as plt\n",
    "import seaborn as sns"
   ]
  },
  {
   "cell_type": "code",
   "execution_count": 45,
   "id": "7f6c489c",
   "metadata": {},
   "outputs": [
    {
     "data": {
      "image/png": "[encoded data removed]",
      "text/plain": [
       "<Figure size 576x432 with 2 Axes>"
      ]
     },
     "metadata": {
      "needs_background": "light"
     },
     "output_type": "display_data"
    }
   ],
   "source": [
    "cmLR = confusion_matrix(y_test, LR_preds)\n",
    "plt.figure(figsize=(8, 6))\n",
    "sns.heatmap(cmLR,\n",
    "cmap='coolwarm',\n",
    "linecolor='white',\n",
    "linewidths=1,\n",
    "annot=True,\n",
    "fmt='d')\n",
    "plt.title('Confusion Matrix: LR')\n",
    "plt.ylabel('True Y')\n",
    "plt.xlabel('Predicted Y')\n",
    "plt.show()"
   ]
  },
  {
   "cell_type": "markdown",
   "id": "9af87147",
   "metadata": {},
   "source": [
    "## Interpret Results\n",
    "\n",
    "Interpret the results by assessing accuracy score, precision score and recall score"
   ]
  },
  {
   "cell_type": "markdown",
   "id": "793caaa0",
   "metadata": {},
   "source": [
    "The model results is explained below from the confusion matrix \n",
    "* Where 0 = Non Fradulent Transaction and 1 = Fradulent Transaction\n",
    "* The true positives = 418847 model correctly predicts non Fradulent Transaction\n",
    "* False Positives =122 model incorrectly predicts the non Fradulent Transaction \n",
    "* False Negative = 300 model incorrectly predicts Fradulent Transaction\n",
    "* True Negatives = 161 model correctly predicts Fradulent Transaction\n",
    "* The model predicted that 418847+ 122= 418969/419430 (99.89%) transaction  were not Fradulent Transaction  \n",
    "* when there was actually 418847+300 = 419147/419430 (99.93%) transaction were not fradulent transaction\n",
    "* our model has accuracy of 418847+161 =419008/419430 (99.89%)  Formula:TP+TN/Total Prediction\n",
    "* The recall of the model is equal to 418847/(418847+161)=418847/419008 (99.96%) Formula: TP/TP+FN\n"
   ]
  },
  {
   "cell_type": "code",
   "execution_count": 46,
   "id": "cd40a71d",
   "metadata": {},
   "outputs": [],
   "source": [
    "# We initialize k neighbors\n",
    "#we import the library \n",
    "from sklearn.neighbors import KNeighborsClassifier"
   ]
  },
  {
   "cell_type": "code",
   "execution_count": 47,
   "id": "82dba5fc",
   "metadata": {},
   "outputs": [],
   "source": [
    "#k_model = KNeighborsClassifier()\n",
    "KN = KNeighborsClassifier()"
   ]
  },
  {
   "cell_type": "code",
   "execution_count": 48,
   "id": "42d0ea40",
   "metadata": {},
   "outputs": [
    {
     "data": {
      "text/plain": [
       "KNeighborsClassifier()"
      ]
     },
     "execution_count": 48,
     "metadata": {},
     "output_type": "execute_result"
    }
   ],
   "source": [
    "KN.fit(X_train,y_train)\n"
   ]
  },
  {
   "cell_type": "code",
   "execution_count": 49,
   "id": "ecc097d5",
   "metadata": {},
   "outputs": [],
   "source": [
    "k_preds=KN.predict(X_test)"
   ]
  },
  {
   "cell_type": "code",
   "execution_count": 50,
   "id": "ba45da93",
   "metadata": {},
   "outputs": [],
   "source": [
    "from sklearn.metrics import accuracy_score"
   ]
  },
  {
   "cell_type": "code",
   "execution_count": null,
   "id": "55705b42",
   "metadata": {},
   "outputs": [],
   "source": [
    "print(accuracy_score(k_preds,y_test))"
   ]
  },
  {
   "cell_type": "code",
   "execution_count": null,
   "id": "c778eb20",
   "metadata": {},
   "outputs": [],
   "source": [
    "from sklearn.metrics import classification_report"
   ]
  },
  {
   "cell_type": "code",
   "execution_count": 51,
   "id": "d7964565",
   "metadata": {},
   "outputs": [
    {
     "name": "stdout",
     "output_type": "stream",
     "text": [
      "              precision    recall  f1-score   support\n",
      "\n",
      "           0       1.00      1.00      1.00    418970\n",
      "           1       0.78      0.56      0.65       460\n",
      "\n",
      "    accuracy                           1.00    419430\n",
      "   macro avg       0.89      0.78      0.83    419430\n",
      "weighted avg       1.00      1.00      1.00    419430\n",
      "\n"
     ]
    }
   ],
   "source": [
    "print(classification_report(y_test, k_preds))"
   ]
  },
  {
   "cell_type": "code",
   "execution_count": 52,
   "id": "47085836",
   "metadata": {},
   "outputs": [
    {
     "data": {
      "image/png": "[encoded data removed]",
      "text/plain": [
       "<Figure size 576x432 with 2 Axes>"
      ]
     },
     "metadata": {
      "needs_background": "light"
     },
     "output_type": "display_data"
    }
   ],
   "source": [
    "cm_ = confusion_matrix(y_test, k_preds)\n",
    "plt.figure(figsize=(8, 6))\n",
    "sns.heatmap(cm_,\n",
    "cmap='Blues',\n",
    "linecolor='grey',\n",
    "linewidths=1,\n",
    "annot=True,\n",
    "fmt='d')\n",
    "plt.title('Confusion Matrix: KN')\n",
    "plt.ylabel('True Label')\n",
    "plt.xlabel('Predicted Label')\n",
    "plt.show()"
   ]
  },
  {
   "cell_type": "markdown",
   "id": "0c30e914",
   "metadata": {},
   "source": [
    "## Interpret Results\n",
    "\n",
    "Interpret the results by assessing accuracy score, precision score and recall score"
   ]
  },
  {
   "cell_type": "markdown",
   "id": "85c3026a",
   "metadata": {},
   "source": [
    "The model results is explained below from the confusion matrix \n",
    "* Where 0 = Non Fradulent Transaction and 1 = Fradulent Transaction\n",
    "* The true positives = 418901 model correctly predicts non Fradulent Transaction\n",
    "* False Positives =68 model incorrectly predicts the non Fradulent Transaction \n",
    "* False Negative = 215 model incorrectly predicts Fradulent Transaction\n",
    "* True Negatives = 246 model correctly predicts Fradulent Transaction\n",
    "* The model predicted that 418901+ 68= 418969/419430 (99.89%) transaction  were not Fradulent Transaction  \n",
    "* when there was actually 418901+215 = 419116/419430 (99.92%) transaction were not fradulent transaction\n",
    "* our model has accuracy of 418901+246 =419147/419430 (99.93%) Formula:TP+TN/Total Prediction\n",
    "* The recall of the model is equal to 418901/(418901+246)=418901/419147 (99.94%) formula: TP/TP+FN\n"
   ]
  },
  {
   "cell_type": "code",
   "execution_count": 55,
   "id": "070d7547",
   "metadata": {},
   "outputs": [],
   "source": [
    "#TODO: initialize decision tree\n",
    "from sklearn.tree import DecisionTreeClassifier\n",
    "DC = DecisionTreeClassifier()\n"
   ]
  },
  {
   "cell_type": "code",
   "execution_count": 56,
   "id": "58a31264",
   "metadata": {},
   "outputs": [
    {
     "data": {
      "text/plain": [
       "DecisionTreeClassifier()"
      ]
     },
     "execution_count": 56,
     "metadata": {},
     "output_type": "execute_result"
    }
   ],
   "source": [
    "DC.fit(X_train,y_train)"
   ]
  },
  {
   "cell_type": "code",
   "execution_count": 57,
   "id": "91ac0d56",
   "metadata": {},
   "outputs": [],
   "source": [
    "DC_preds2 = DC.predict(X_test)"
   ]
  },
  {
   "cell_type": "code",
   "execution_count": 58,
   "id": "be187ad5",
   "metadata": {},
   "outputs": [
    {
     "name": "stdout",
     "output_type": "stream",
     "text": [
      "Actual Y: [0, 0, 1, 1, 0]\n",
      "Predicted Y: [0 0 0 0 0]\n"
     ]
    }
   ],
   "source": [
    "print('Actual Y:', y.head().tolist())\n",
    "print('Predicted Y:', DC_preds2[:5])"
   ]
  },
  {
   "cell_type": "code",
   "execution_count": 59,
   "id": "66b407fd",
   "metadata": {},
   "outputs": [
    {
     "name": "stdout",
     "output_type": "stream",
     "text": [
      "0.999601840593186\n"
     ]
    }
   ],
   "source": [
    "print(accuracy_score(DC_preds2,y_test))"
   ]
  },
  {
   "cell_type": "code",
   "execution_count": 60,
   "id": "f2c41fa6",
   "metadata": {},
   "outputs": [
    {
     "name": "stdout",
     "output_type": "stream",
     "text": [
      "              precision    recall  f1-score   support\n",
      "\n",
      "           0       1.00      1.00      1.00    418970\n",
      "           1       0.83      0.80      0.81       460\n",
      "\n",
      "    accuracy                           1.00    419430\n",
      "   macro avg       0.92      0.90      0.91    419430\n",
      "weighted avg       1.00      1.00      1.00    419430\n",
      "\n"
     ]
    }
   ],
   "source": [
    "print(classification_report(y_test, DC_preds2))"
   ]
  },
  {
   "cell_type": "code",
   "execution_count": 61,
   "id": "78e89db8",
   "metadata": {},
   "outputs": [
    {
     "data": {
      "image/png": "[encoded data removed]",
      "text/plain": [
       "<Figure size 576x432 with 2 Axes>"
      ]
     },
     "metadata": {
      "needs_background": "light"
     },
     "output_type": "display_data"
    }
   ],
   "source": [
    "cmDC = confusion_matrix(y_test, DC_preds2)\n",
    "plt.figure(figsize=(8, 6))\n",
    "sns.heatmap(cmDC,\n",
    "cmap='Greens_r',\n",
    "linecolor='grey',\n",
    "linewidths=1,\n",
    "annot=True,\n",
    "fmt='d')\n",
    "plt.title('Confusion Matrix: DC')\n",
    "plt.ylabel('True Y')\n",
    "plt.xlabel('Predicted Y')\n",
    "plt.show()"
   ]
  },
  {
   "cell_type": "markdown",
   "id": "de9ea4ae",
   "metadata": {},
   "source": [
    "## Interpret Results\n",
    "\n",
    "Interpret the results by assessing accuracy score, precision score and recall score"
   ]
  },
  {
   "cell_type": "markdown",
   "id": "7d7bc687",
   "metadata": {},
   "source": [
    "The model results is explained below from the confusion matrix \n",
    "* Where 0 = Non Fradulent Transaction and 1 = Fradulent Transaction\n",
    "* The true positives = 418888 model correctly predicts non Fradulent Transaction\n",
    "* False Positives =81 model incorrectly predicts the non Fradulent Transaction \n",
    "* False Negative = 93 model incorrectly predicts Fradulent Transaction\n",
    "* True Negatives = 368 model correctly predicts Fradulent Transaction\n",
    "* The model predicted that 418888+81 = 418969/419430 (99.89%) transaction  were not Fradulent Transaction  \n",
    "* when there was actually 418888+93 = 418981/419430 (99.89%) transaction were not fradulent transaction\n",
    "* our model has accuracy of 418888+363 =419251/419430 (99.95%) Formula: TP+TN/Total Prediction\n",
    "* The recall of the model is equal to 418888/(418888+93)=418888/418981 (99.98%) formula: TP/TP+FN\n"
   ]
  },
  {
   "cell_type": "code",
   "execution_count": 62,
   "id": "c20028da",
   "metadata": {},
   "outputs": [
    {
     "data": {
      "text/plain": [
       "RandomForestClassifier()"
      ]
     },
     "execution_count": 62,
     "metadata": {},
     "output_type": "execute_result"
    }
   ],
   "source": [
    "#TODO: initialize random forest\n",
    "from sklearn.ensemble import RandomForestClassifier \n",
    "RF = RandomForestClassifier()\n",
    "RF"
   ]
  },
  {
   "cell_type": "code",
   "execution_count": 67,
   "id": "93c88d9c",
   "metadata": {},
   "outputs": [
    {
     "data": {
      "text/plain": [
       "RandomForestClassifier()"
      ]
     },
     "execution_count": 67,
     "metadata": {},
     "output_type": "execute_result"
    }
   ],
   "source": [
    "RF.fit(X_train, y_train)"
   ]
  },
  {
   "cell_type": "code",
   "execution_count": 68,
   "id": "545f755b",
   "metadata": {},
   "outputs": [],
   "source": [
    "RF_preds = RF.predict(X_test)"
   ]
  },
  {
   "cell_type": "code",
   "execution_count": 69,
   "id": "a6906b97",
   "metadata": {},
   "outputs": [
    {
     "name": "stdout",
     "output_type": "stream",
     "text": [
      "0.9997591970054598\n"
     ]
    }
   ],
   "source": [
    "print(accuracy_score(RF_preds,y_test))"
   ]
  },
  {
   "cell_type": "code",
   "execution_count": 70,
   "id": "9ff588bf",
   "metadata": {},
   "outputs": [
    {
     "name": "stdout",
     "output_type": "stream",
     "text": [
      "              precision    recall  f1-score   support\n",
      "\n",
      "           0       1.00      1.00      1.00    419061\n",
      "           1       0.79      0.99      0.88       369\n",
      "\n",
      "    accuracy                           1.00    419430\n",
      "   macro avg       0.90      0.99      0.94    419430\n",
      "weighted avg       1.00      1.00      1.00    419430\n",
      "\n"
     ]
    }
   ],
   "source": [
    "print(classification_report(RF_preds,y_test))"
   ]
  },
  {
   "cell_type": "code",
   "execution_count": 71,
   "id": "78c4a633",
   "metadata": {},
   "outputs": [
    {
     "data": {
      "image/png": "[encoded data removed]",
      "text/plain": [
       "<Figure size 576x432 with 2 Axes>"
      ]
     },
     "metadata": {
      "needs_background": "light"
     },
     "output_type": "display_data"
    }
   ],
   "source": [
    "cmRF = confusion_matrix(y_test, RF_preds)\n",
    "plt.figure(figsize=(8, 6))\n",
    "sns.heatmap(cmRF,\n",
    "cmap='OrRd_r',\n",
    "linecolor='brown',\n",
    "linewidths=1,\n",
    "annot=True,\n",
    "fmt='d')\n",
    "plt.title('Confusion Matrix: RF')\n",
    "plt.ylabel('True Y')\n",
    "plt.xlabel('Predicted Y')\n",
    "plt.show()"
   ]
  },
  {
   "cell_type": "markdown",
   "id": "a637c529",
   "metadata": {},
   "source": [
    "## Interpret Results\n",
    "\n",
    "Interpret the results by assessing accuracy score, precision score and recall score"
   ]
  },
  {
   "cell_type": "markdown",
   "id": "3b713f04",
   "metadata": {},
   "source": [
    "The model results is explained below from the confusion matrix \n",
    "* Where 0 = Non Fradulent Transaction and 1 = Fradulent Transaction\n",
    "* The true positives = 418965 model correctly predicts non Fradulent Transaction\n",
    "* False Positives =94 model incorrectly predicts the non Fradulent Transaction \n",
    "* False Negative = 4 model incorrectly predicts Fradulent Transaction\n",
    "* True Negatives = 367 model correctly predicts Fradulent Transaction\n",
    "* The model predicted that 418965+4 = 418969/419430 (99.89%) transaction  were not Fradulent Transaction  \n",
    "* when there was actually 418965+93 = 419058/419430 (99.91%) transaction were not fradulent transaction\n",
    "* our model has accuracy of 418965+367 =419332/419430 (99.97%) Formula: TP+TN/Total Prediction\n",
    "* The recall of the model is equal to 418965/(418965+4)=418965/418969 (99.99%) formula: TP/TP+FN\n"
   ]
  },
  {
   "cell_type": "code",
   "execution_count": 72,
   "id": "68d347e9",
   "metadata": {},
   "outputs": [
    {
     "data": {
      "text/plain": [
       "[LogisticRegression(),\n",
       " KNeighborsClassifier(),\n",
       " DecisionTreeClassifier(),\n",
       " RandomForestClassifier()]"
      ]
     },
     "execution_count": 72,
     "metadata": {},
     "output_type": "execute_result"
    }
   ],
   "source": [
    "#create list of your model names\n",
    "models = [LR,KN,DC,RF]\n",
    "models"
   ]
  },
  {
   "cell_type": "code",
   "execution_count": 75,
   "id": "7bac991d",
   "metadata": {},
   "outputs": [],
   "source": [
    "#create function to train a model and evaluate accuracy\n",
    "def trainer(model,X_train,y_train,X_test,y_test):\n",
    "    #fit your model\n",
    "    model.fit(X_train,y_train)\n",
    "    #predict on the fitted model\n",
    "    prediction = model.predict(X_test)\n",
    "    #print evaluation metric\n",
    "    print('\\nFor {}, Accuracy score is {} \\n'.format(model.__class__.__name__,accuracy_score(prediction,y_test)))\n",
    "    #print(classification_report(prediction,y_valid)) #use this later\n",
    "    "
   ]
  },
  {
   "cell_type": "code",
   "execution_count": 76,
   "id": "a73ffcac",
   "metadata": {},
   "outputs": [
    {
     "name": "stdout",
     "output_type": "stream",
     "text": [
      "\n",
      "For LogisticRegression, Accuracy score is 0.9990105619531269 \n",
      "\n",
      "\n",
      "For KNeighborsClassifier, Accuracy score is 0.9993443482821925 \n",
      "\n",
      "\n",
      "For DecisionTreeClassifier, Accuracy score is 0.9995994564051213 \n",
      "\n",
      "\n",
      "For RandomForestClassifier, Accuracy score is 0.999756812817395 \n",
      "\n"
     ]
    }
   ],
   "source": [
    "#loop through each model, training in the process\n",
    "for model in models:\n",
    "    trainer(model,X_train,y_train,X_test,y_test)"
   ]
  },
  {
   "cell_type": "code",
   "execution_count": 79,
   "id": "c8108682",
   "metadata": {},
   "outputs": [],
   "source": [
    "#create function to train a model and evaluate accuracy\n",
    "def trainer(models,X_train,y_train,X_test,y_test):\n",
    "    #fit your model\n",
    "    models.fit(X_train,y_train)\n",
    "    #predict on the fitted model\n",
    "    prediction = models.predict(X_test)\n",
    "    #print evaluation metric\n",
    "    print('\\nFor {}, classification_report is {} \\n'.format(models.__class__.__name__,classification_report(prediction,y_test)))\n",
    "    #print(classification_report(prediction,y_valid)) #use this later\n",
    "    "
   ]
  },
  {
   "cell_type": "code",
   "execution_count": 81,
   "id": "da582a7f",
   "metadata": {
    "scrolled": true
   },
   "outputs": [
    {
     "name": "stdout",
     "output_type": "stream",
     "text": [
      "\n",
      "For LogisticRegression, classification_report is               precision    recall  f1-score   support\n",
      "\n",
      "           0       1.00      1.00      1.00    419135\n",
      "           1       0.37      0.58      0.45       295\n",
      "\n",
      "    accuracy                           1.00    419430\n",
      "   macro avg       0.68      0.79      0.72    419430\n",
      "weighted avg       1.00      1.00      1.00    419430\n",
      " \n",
      "\n",
      "\n",
      "For KNeighborsClassifier, classification_report is               precision    recall  f1-score   support\n",
      "\n",
      "           0       1.00      1.00      1.00    419103\n",
      "           1       0.56      0.78      0.65       327\n",
      "\n",
      "    accuracy                           1.00    419430\n",
      "   macro avg       0.78      0.89      0.83    419430\n",
      "weighted avg       1.00      1.00      1.00    419430\n",
      " \n",
      "\n",
      "\n",
      "For DecisionTreeClassifier, classification_report is               precision    recall  f1-score   support\n",
      "\n",
      "           0       1.00      1.00      1.00    418979\n",
      "           1       0.81      0.82      0.81       451\n",
      "\n",
      "    accuracy                           1.00    419430\n",
      "   macro avg       0.90      0.91      0.91    419430\n",
      "weighted avg       1.00      1.00      1.00    419430\n",
      " \n",
      "\n",
      "\n",
      "For RandomForestClassifier, classification_report is               precision    recall  f1-score   support\n",
      "\n",
      "           0       1.00      1.00      1.00    419066\n",
      "           1       0.78      0.99      0.87       364\n",
      "\n",
      "    accuracy                           1.00    419430\n",
      "   macro avg       0.89      0.99      0.94    419430\n",
      "weighted avg       1.00      1.00      1.00    419430\n",
      " \n",
      "\n"
     ]
    }
   ],
   "source": [
    "#loop through each model, training in the process\n",
    "for model in models:\n",
    "    trainer(model,X_train,y_train,X_test,y_test)"
   ]
  },
  {
   "cell_type": "code",
   "execution_count": null,
   "id": "2a1011c2",
   "metadata": {},
   "outputs": [],
   "source": [
    "#get feature importances\n",
    "RF_importances = pd.DataFrame(data = RF.feature_importances_,index = X_test.columns, columns=['Importance'])\n",
    "\n",
    "#plot top 10 feature importances, sorted\n",
    "RF_importances[:10].sort_values(by='Importance').plot.barh(figsize=(10, 7))\n",
    "\n",
    "plt.title('Feature importances for random forest')\n",
    "plt.show()\n",
    "#plt.figure(figsize=(25, 20))"
   ]
  },
  {
   "cell_type": "code",
   "execution_count": null,
   "id": "69e2cf95",
   "metadata": {},
   "outputs": [],
   "source": [
    "#get these top 10 importances\n",
    "RF_importances[:10].sort_values(by='Importance').index.values"
   ]
  },
  {
   "cell_type": "code",
   "execution_count": null,
   "id": "7ea6cda9",
   "metadata": {},
   "outputs": [],
   "source": [
    "# evaluate your models using k-fold cross-validation\n",
    "from numpy import mean\n",
    "from numpy import std\n",
    "from sklearn.model_selection import KFold\n",
    "from sklearn.model_selection import cross_val_score, cross_val_predict\n",
    "from sklearn.linear_model import LogisticRegression\n",
    "\n",
    "# prepare the cross-validation procedure\n",
    "cv = KFold(n_splits=10, random_state=1, shuffle=True)"
   ]
  },
  {
   "cell_type": "code",
   "execution_count": null,
   "id": "e5b163e2",
   "metadata": {},
   "outputs": [],
   "source": [
    "#create function to train a model with cross validations and evaluate accuracy\n",
    "def trainer_with_cv(model,X,y):\n",
    "    '''Cross validation function. Expects a model,'''\n",
    "    # evaluate model\n",
    "    scores = cross_val_score(model, X, y, scoring='accuracy', cv=cv, n_jobs=-1)\n",
    "    # report performance\n",
    "    print('Accuracy: %.3f' % (mean(scores)))"
   ]
  },
  {
   "cell_type": "code",
   "execution_count": null,
   "id": "536eb349",
   "metadata": {},
   "outputs": [],
   "source": [
    "#train and predict, looping through the list of models\n",
    "for model in models:\n",
    "    trainer_with_cv(model,X_train,y_train)"
   ]
  },
  {
   "cell_type": "code",
   "execution_count": null,
   "id": "2aad31d8",
   "metadata": {},
   "outputs": [],
   "source": []
  },
  {
   "cell_type": "code",
   "execution_count": null,
   "id": "87d865ee",
   "metadata": {},
   "outputs": [],
   "source": []
  },
  {
   "cell_type": "markdown",
   "id": "bffecdf6",
   "metadata": {},
   "source": [
    "## Summary\n",
    "\n",
    "What model should be deployed to production?\n",
    "Any other comments?"
   ]
  },
  {
   "cell_type": "code",
   "execution_count": null,
   "id": "0a4636c7",
   "metadata": {},
   "outputs": [],
   "source": [
    "RandomForestClassifier"
   ]
  },
  {
   "cell_type": "code",
   "execution_count": null,
   "id": "5e7ae4bc",
   "metadata": {},
   "outputs": [],
   "source": []
  }
 ],
 "metadata": {
  "kernelspec": {
   "display_name": "Python 3",
   "language": "python",
   "name": "python3"
  },
  "language_info": {
   "codemirror_mode": {
    "name": "ipython",
    "version": 3
   },
   "file_extension": ".py",
   "mimetype": "text/x-python",
   "name": "python",
   "nbconvert_exporter": "python",
   "pygments_lexer": "ipython3",
   "version": "3.8.8"
  }
 },
 "nbformat": 4,
 "nbformat_minor": 5
}
