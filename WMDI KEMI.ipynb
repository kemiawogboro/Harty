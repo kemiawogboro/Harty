{
 "cells": [
  {
   "cell_type": "code",
   "execution_count": 1,
   "id": "0bfc8228",
   "metadata": {},
   "outputs": [
    {
     "data": {
      "text/plain": [
       "int"
      ]
     },
     "execution_count": 1,
     "metadata": {},
     "output_type": "execute_result"
    }
   ],
   "source": [
    "type(5000)"
   ]
  },
  {
   "cell_type": "code",
   "execution_count": 2,
   "id": "cd01a2fd",
   "metadata": {},
   "outputs": [
    {
     "data": {
      "text/plain": [
       "20000"
      ]
     },
     "execution_count": 2,
     "metadata": {},
     "output_type": "execute_result"
    }
   ],
   "source": [
    "5000*4"
   ]
  },
  {
   "cell_type": "code",
   "execution_count": 3,
   "id": "5681a1d6",
   "metadata": {},
   "outputs": [
    {
     "data": {
      "text/plain": [
       "10.5"
      ]
     },
     "execution_count": 3,
     "metadata": {},
     "output_type": "execute_result"
    }
   ],
   "source": [
    "10.5"
   ]
  },
  {
   "cell_type": "code",
   "execution_count": 4,
   "id": "054b824f",
   "metadata": {},
   "outputs": [
    {
     "data": {
      "text/plain": [
       "float"
      ]
     },
     "execution_count": 4,
     "metadata": {},
     "output_type": "execute_result"
    }
   ],
   "source": [
    "type(10.5)"
   ]
  },
  {
   "cell_type": "code",
   "execution_count": 5,
   "id": "512b1a54",
   "metadata": {},
   "outputs": [
    {
     "data": {
      "text/plain": [
       "4"
      ]
     },
     "execution_count": 5,
     "metadata": {},
     "output_type": "execute_result"
    }
   ],
   "source": [
    "2+2"
   ]
  },
  {
   "cell_type": "code",
   "execution_count": 6,
   "id": "53b501e3",
   "metadata": {},
   "outputs": [
    {
     "data": {
      "text/plain": [
       "16"
      ]
     },
     "execution_count": 6,
     "metadata": {},
     "output_type": "execute_result"
    }
   ],
   "source": [
    "4*4"
   ]
  },
  {
   "cell_type": "code",
   "execution_count": 7,
   "id": "fb875446",
   "metadata": {},
   "outputs": [
    {
     "data": {
      "text/plain": [
       "5.333333333333333"
      ]
     },
     "execution_count": 7,
     "metadata": {},
     "output_type": "execute_result"
    }
   ],
   "source": [
    "16/3"
   ]
  },
  {
   "cell_type": "code",
   "execution_count": 8,
   "id": "e5ad4d0f",
   "metadata": {},
   "outputs": [
    {
     "data": {
      "text/plain": [
       "33"
      ]
     },
     "execution_count": 8,
     "metadata": {},
     "output_type": "execute_result"
    }
   ],
   "source": [
    "100//3"
   ]
  },
  {
   "cell_type": "code",
   "execution_count": 9,
   "id": "1c896bf8",
   "metadata": {},
   "outputs": [
    {
     "data": {
      "text/plain": [
       "1"
      ]
     },
     "execution_count": 9,
     "metadata": {},
     "output_type": "execute_result"
    }
   ],
   "source": [
    "100%9"
   ]
  },
  {
   "cell_type": "code",
   "execution_count": null,
   "id": "aec56f1c",
   "metadata": {},
   "outputs": [],
   "source": []
  },
  {
   "cell_type": "code",
   "execution_count": 10,
   "id": "1087049a",
   "metadata": {},
   "outputs": [
    {
     "data": {
      "text/plain": [
       "62"
      ]
     },
     "execution_count": 10,
     "metadata": {},
     "output_type": "execute_result"
    }
   ],
   "source": [
    "2500//40"
   ]
  },
  {
   "cell_type": "code",
   "execution_count": 11,
   "id": "278c72eb",
   "metadata": {},
   "outputs": [
    {
     "data": {
      "text/plain": [
       "20"
      ]
     },
     "execution_count": 11,
     "metadata": {},
     "output_type": "execute_result"
    }
   ],
   "source": [
    "2500%40"
   ]
  },
  {
   "cell_type": "code",
   "execution_count": 12,
   "id": "1e995e5c",
   "metadata": {},
   "outputs": [
    {
     "data": {
      "text/plain": [
       "16"
      ]
     },
     "execution_count": 12,
     "metadata": {},
     "output_type": "execute_result"
    }
   ],
   "source": [
    "# double star means raised to power\n",
    "2**4"
   ]
  },
  {
   "cell_type": "code",
   "execution_count": 13,
   "id": "f3d7172a",
   "metadata": {},
   "outputs": [
    {
     "data": {
      "text/plain": [
       "2.8"
      ]
     },
     "execution_count": 13,
     "metadata": {},
     "output_type": "execute_result"
    }
   ],
   "source": [
    "1+3/10*6"
   ]
  },
  {
   "cell_type": "code",
   "execution_count": 14,
   "id": "1417d630",
   "metadata": {},
   "outputs": [
    {
     "data": {
      "text/plain": [
       "0.06666666666666667"
      ]
     },
     "execution_count": 14,
     "metadata": {},
     "output_type": "execute_result"
    }
   ],
   "source": [
    "(1+3)/(10*6)"
   ]
  },
  {
   "cell_type": "code",
   "execution_count": 15,
   "id": "fd385738",
   "metadata": {},
   "outputs": [
    {
     "data": {
      "text/plain": [
       "2.4000000000000004"
      ]
     },
     "execution_count": 15,
     "metadata": {},
     "output_type": "execute_result"
    }
   ],
   "source": [
    "(1+3)/10*6"
   ]
  },
  {
   "cell_type": "code",
   "execution_count": 16,
   "id": "86417465",
   "metadata": {},
   "outputs": [],
   "source": [
    "income=2000"
   ]
  },
  {
   "cell_type": "code",
   "execution_count": 17,
   "id": "3e01b72f",
   "metadata": {},
   "outputs": [
    {
     "data": {
      "text/plain": [
       "2000"
      ]
     },
     "execution_count": 17,
     "metadata": {},
     "output_type": "execute_result"
    }
   ],
   "source": [
    "income"
   ]
  },
  {
   "cell_type": "code",
   "execution_count": 18,
   "id": "a0e2594d",
   "metadata": {},
   "outputs": [
    {
     "data": {
      "text/plain": [
       "4000"
      ]
     },
     "execution_count": 18,
     "metadata": {},
     "output_type": "execute_result"
    }
   ],
   "source": [
    "income*2"
   ]
  },
  {
   "cell_type": "code",
   "execution_count": 19,
   "id": "c0f80ff9",
   "metadata": {},
   "outputs": [
    {
     "data": {
      "text/plain": [
       "4000000"
      ]
     },
     "execution_count": 19,
     "metadata": {},
     "output_type": "execute_result"
    }
   ],
   "source": [
    "income**2"
   ]
  },
  {
   "cell_type": "code",
   "execution_count": 20,
   "id": "0f438fbe",
   "metadata": {},
   "outputs": [
    {
     "data": {
      "text/plain": [
       "20.0"
      ]
     },
     "execution_count": 20,
     "metadata": {},
     "output_type": "execute_result"
    }
   ],
   "source": [
    "efe = income/100\n",
    "efe"
   ]
  },
  {
   "cell_type": "code",
   "execution_count": 21,
   "id": "cc5090ee",
   "metadata": {},
   "outputs": [],
   "source": [
    "messi =5000"
   ]
  },
  {
   "cell_type": "code",
   "execution_count": 22,
   "id": "8084ebe0",
   "metadata": {},
   "outputs": [
    {
     "data": {
      "text/plain": [
       "2500.0"
      ]
     },
     "execution_count": 22,
     "metadata": {},
     "output_type": "execute_result"
    }
   ],
   "source": [
    "ronaldo = messi /2\n",
    "ronaldo"
   ]
  },
  {
   "cell_type": "code",
   "execution_count": 26,
   "id": "4329561d",
   "metadata": {},
   "outputs": [
    {
     "data": {
      "text/plain": [
       "65"
      ]
     },
     "execution_count": 26,
     "metadata": {},
     "output_type": "execute_result"
    }
   ],
   "source": [
    "f_test = 10\n",
    "s_test = 20\n",
    "attdce = 5\n",
    "exam = 30\n",
    "tscore = f_test+s_test+attdce+exam\n",
    "tscore"
   ]
  },
  {
   "cell_type": "code",
   "execution_count": 27,
   "id": "7f77f77e",
   "metadata": {},
   "outputs": [
    {
     "name": "stdout",
     "output_type": "stream",
     "text": [
      "What is your first test score?15.2\n",
      "What is your second test score?12.5\n",
      "What is your attendance score?4\n",
      "What is your exam score?10.4\n"
     ]
    },
    {
     "data": {
      "text/plain": [
       "42.1"
      ]
     },
     "execution_count": 27,
     "metadata": {},
     "output_type": "execute_result"
    }
   ],
   "source": [
    "f_test = float(input(\"What is your first test score?\"))\n",
    "s_test = float(input(\"What is your second test score?\"))\n",
    "attdce = float(input(\"What is your attendance score?\"))\n",
    "exam = float(input(\"What is your exam score?\"))\n",
    "tscore = f_test+s_test+attdce+exam\n",
    "tscore"
   ]
  },
  {
   "cell_type": "code",
   "execution_count": 28,
   "id": "a3104f64",
   "metadata": {},
   "outputs": [
    {
     "data": {
      "text/plain": [
       "'Efemena'"
      ]
     },
     "execution_count": 28,
     "metadata": {},
     "output_type": "execute_result"
    }
   ],
   "source": [
    "f_name =\"Efemena\"\n",
    "f_name"
   ]
  },
  {
   "cell_type": "code",
   "execution_count": 32,
   "id": "02233338",
   "metadata": {},
   "outputs": [
    {
     "data": {
      "text/plain": [
       "'ifeoma Ikpro'"
      ]
     },
     "execution_count": 32,
     "metadata": {},
     "output_type": "execute_result"
    }
   ],
   "source": [
    "first_name =\"ifeoma\"\n",
    "last_name = \"Ikpro\"\n",
    "full_name = first_name+  \" \"  + last_name\n",
    "full_name"
   ]
  },
  {
   "cell_type": "code",
   "execution_count": 7,
   "id": "5270eea0",
   "metadata": {},
   "outputs": [
    {
     "name": "stdout",
     "output_type": "stream",
     "text": [
      "What is your First Name?tola\n",
      "What is your last Name?sheba\n"
     ]
    },
    {
     "data": {
      "text/plain": [
       "'tola sheba'"
      ]
     },
     "execution_count": 7,
     "metadata": {},
     "output_type": "execute_result"
    }
   ],
   "source": [
    "#full name generator\n",
    "first_name = str(input(\"What is your First Name?\"))\n",
    "last_name = str(input(\"What is your last Name?\"))\n",
    "full_name = first_name+  \" \"  + last_name\n",
    "full_name"
   ]
  },
  {
   "cell_type": "code",
   "execution_count": 2,
   "id": "9974625a",
   "metadata": {},
   "outputs": [],
   "source": [
    "#Indexing and Slicing"
   ]
  },
  {
   "cell_type": "code",
   "execution_count": 3,
   "id": "828fbdc3",
   "metadata": {},
   "outputs": [
    {
     "data": {
      "text/plain": [
       "'Baba Suwe'"
      ]
     },
     "execution_count": 3,
     "metadata": {},
     "output_type": "execute_result"
    }
   ],
   "source": [
    "full_name"
   ]
  },
  {
   "cell_type": "code",
   "execution_count": 4,
   "id": "bd2b2668",
   "metadata": {},
   "outputs": [
    {
     "data": {
      "text/plain": [
       "'S'"
      ]
     },
     "execution_count": 4,
     "metadata": {},
     "output_type": "execute_result"
    }
   ],
   "source": [
    "full_name[5]"
   ]
  },
  {
   "cell_type": "code",
   "execution_count": 5,
   "id": "415ae651",
   "metadata": {},
   "outputs": [],
   "source": [
    "#SLICING-[START:STOP: STEP]"
   ]
  },
  {
   "cell_type": "code",
   "execution_count": 9,
   "id": "5d5d868d",
   "metadata": {},
   "outputs": [
    {
     "data": {
      "text/plain": [
       "'tola'"
      ]
     },
     "execution_count": 9,
     "metadata": {},
     "output_type": "execute_result"
    }
   ],
   "source": [
    "full_name[0:4]"
   ]
  },
  {
   "cell_type": "code",
   "execution_count": 8,
   "id": "58f210e7",
   "metadata": {},
   "outputs": [
    {
     "data": {
      "text/plain": [
       "'sheba'"
      ]
     },
     "execution_count": 8,
     "metadata": {},
     "output_type": "execute_result"
    }
   ],
   "source": [
    "full_name[5:]"
   ]
  },
  {
   "cell_type": "code",
   "execution_count": 10,
   "id": "08ee70ab",
   "metadata": {},
   "outputs": [],
   "source": [
    "num =\"123456789\""
   ]
  },
  {
   "cell_type": "code",
   "execution_count": 12,
   "id": "32bc3a73",
   "metadata": {},
   "outputs": [
    {
     "data": {
      "text/plain": [
       "'12345'"
      ]
     },
     "execution_count": 12,
     "metadata": {},
     "output_type": "execute_result"
    }
   ],
   "source": [
    "num[0:5]"
   ]
  },
  {
   "cell_type": "code",
   "execution_count": 13,
   "id": "d633f9ba",
   "metadata": {},
   "outputs": [
    {
     "data": {
      "text/plain": [
       "'6789'"
      ]
     },
     "execution_count": 13,
     "metadata": {},
     "output_type": "execute_result"
    }
   ],
   "source": [
    "num[5:]"
   ]
  },
  {
   "cell_type": "code",
   "execution_count": 14,
   "id": "ad531ca0",
   "metadata": {},
   "outputs": [
    {
     "data": {
      "text/plain": [
       "'8'"
      ]
     },
     "execution_count": 14,
     "metadata": {},
     "output_type": "execute_result"
    }
   ],
   "source": [
    "#Negative Indexing\n",
    "num[-2]"
   ]
  },
  {
   "cell_type": "code",
   "execution_count": 15,
   "id": "da196ded",
   "metadata": {},
   "outputs": [
    {
     "data": {
      "text/plain": [
       "'9'"
      ]
     },
     "execution_count": 15,
     "metadata": {},
     "output_type": "execute_result"
    }
   ],
   "source": [
    "num[-1]"
   ]
  },
  {
   "cell_type": "code",
   "execution_count": 16,
   "id": "a0069513",
   "metadata": {},
   "outputs": [
    {
     "data": {
      "text/plain": [
       "'2468'"
      ]
     },
     "execution_count": 16,
     "metadata": {},
     "output_type": "execute_result"
    }
   ],
   "source": [
    "#example of STEP(Here it jumps twice)\n",
    "#This can be used to generate odd numbers\n",
    "num[1::2]"
   ]
  },
  {
   "cell_type": "code",
   "execution_count": 17,
   "id": "c5ff1ede",
   "metadata": {},
   "outputs": [
    {
     "data": {
      "text/plain": [
       "'13579'"
      ]
     },
     "execution_count": 17,
     "metadata": {},
     "output_type": "execute_result"
    }
   ],
   "source": [
    "num[0::2]"
   ]
  },
  {
   "cell_type": "code",
   "execution_count": 20,
   "id": "fc5f5d9d",
   "metadata": {},
   "outputs": [
    {
     "data": {
      "text/plain": [
       "'13579'"
      ]
     },
     "execution_count": 20,
     "metadata": {},
     "output_type": "execute_result"
    }
   ],
   "source": [
    "# This can be used to generate even numbers\n",
    "num[0::2]"
   ]
  },
  {
   "cell_type": "code",
   "execution_count": 21,
   "id": "992fb411",
   "metadata": {},
   "outputs": [],
   "source": [
    "#Print Formatting\n",
    "# . Format method\n",
    "# placeholder\n",
    "# f.strings"
   ]
  },
  {
   "cell_type": "code",
   "execution_count": 22,
   "id": "e7c82f49",
   "metadata": {},
   "outputs": [
    {
     "name": "stdout",
     "output_type": "stream",
     "text": [
      "my name is Steven and I am years old\n"
     ]
    }
   ],
   "source": [
    "# .format method\n",
    "name= \"Steven\"\n",
    "age = \"40\"\n",
    "\n",
    "print(\"my name is {} and I am years old\".format(name,age))"
   ]
  },
  {
   "cell_type": "code",
   "execution_count": 24,
   "id": "4fcdfd91",
   "metadata": {},
   "outputs": [
    {
     "name": "stdout",
     "output_type": "stream",
     "text": [
      "What is your nameJames Anthony\n",
      "How old are you45\n",
      "my name is James Anthony and I am 45 years old\n"
     ]
    }
   ],
   "source": [
    "# Placeholder Example\n",
    "name= input(\"What is your name\")\n",
    "age = int(input(\"How old are you\"))\n",
    "\n",
    "print(\"my name is %s and I am %s years old\"%(name,age))"
   ]
  },
  {
   "cell_type": "code",
   "execution_count": 28,
   "id": "88b44018",
   "metadata": {},
   "outputs": [
    {
     "name": "stdout",
     "output_type": "stream",
     "text": [
      "What is your name Davis Jones\n",
      "How old are you44\n",
      "my name is  Davis Jones and I am 44 years old\n"
     ]
    }
   ],
   "source": [
    "# f.strings\n",
    "name= input(\"What is your name\")\n",
    "age = int(input(\"How old are you\"))\n",
    "\n",
    "print(f\"my name is {name} and I am {age} years old\")"
   ]
  },
  {
   "cell_type": "code",
   "execution_count": 29,
   "id": "6d886c31",
   "metadata": {},
   "outputs": [],
   "source": [
    "# List \n",
    "# An ordered sequesnce of item is called a list\n",
    "# The list is the data type that is highly used data type in Python\n",
    "# Contains versatile data"
   ]
  },
  {
   "cell_type": "code",
   "execution_count": 30,
   "id": "5a6acf22",
   "metadata": {},
   "outputs": [],
   "source": [
    "names = [\"Efemena\", \"10Alytics\", \"Ibrahim\", \"Ayo\", \"Jefferson\"]"
   ]
  },
  {
   "cell_type": "code",
   "execution_count": 31,
   "id": "6435e6a6",
   "metadata": {},
   "outputs": [
    {
     "data": {
      "text/plain": [
       "['Efemena', '10Alytics', 'Ibrahim', 'Ayo', 'Jefferson']"
      ]
     },
     "execution_count": 31,
     "metadata": {},
     "output_type": "execute_result"
    }
   ],
   "source": [
    "names"
   ]
  },
  {
   "cell_type": "code",
   "execution_count": 32,
   "id": "c8a58adf",
   "metadata": {},
   "outputs": [
    {
     "data": {
      "text/plain": [
       "list"
      ]
     },
     "execution_count": 32,
     "metadata": {},
     "output_type": "execute_result"
    }
   ],
   "source": [
    "type(names)"
   ]
  },
  {
   "cell_type": "code",
   "execution_count": 34,
   "id": "ab07f781",
   "metadata": {},
   "outputs": [],
   "source": [
    "my_details=[1,2,3,\"ok\",\"Dayo\", 2,8]"
   ]
  },
  {
   "cell_type": "code",
   "execution_count": 35,
   "id": "ce6235f2",
   "metadata": {},
   "outputs": [
    {
     "data": {
      "text/plain": [
       "[1, 2, 3, 'ok', 'Dayo', 2, 8]"
      ]
     },
     "execution_count": 35,
     "metadata": {},
     "output_type": "execute_result"
    }
   ],
   "source": [
    "my_details"
   ]
  },
  {
   "cell_type": "code",
   "execution_count": 36,
   "id": "87136758",
   "metadata": {},
   "outputs": [
    {
     "data": {
      "text/plain": [
       "list"
      ]
     },
     "execution_count": 36,
     "metadata": {},
     "output_type": "execute_result"
    }
   ],
   "source": [
    "type(my_details)"
   ]
  },
  {
   "cell_type": "code",
   "execution_count": 37,
   "id": "5f0ed556",
   "metadata": {},
   "outputs": [],
   "source": [
    "# Indexing and Slicing \n",
    "# position(0,          1,           2,        3,      4)\n",
    "names = [\"Efemena\", \"10Alytics\", \"Ibrahim\", \"Ayo\", \"Jefferson\"]"
   ]
  },
  {
   "cell_type": "code",
   "execution_count": 39,
   "id": "1d8bf771",
   "metadata": {},
   "outputs": [
    {
     "data": {
      "text/plain": [
       "'Efemena'"
      ]
     },
     "execution_count": 39,
     "metadata": {},
     "output_type": "execute_result"
    }
   ],
   "source": [
    "# Example of sequence\n",
    "names[0]"
   ]
  },
  {
   "cell_type": "code",
   "execution_count": 40,
   "id": "7a2daf9b",
   "metadata": {},
   "outputs": [
    {
     "data": {
      "text/plain": [
       "'Jefferson'"
      ]
     },
     "execution_count": 40,
     "metadata": {},
     "output_type": "execute_result"
    }
   ],
   "source": [
    "names[4]"
   ]
  },
  {
   "cell_type": "code",
   "execution_count": 41,
   "id": "9e2f2989",
   "metadata": {},
   "outputs": [
    {
     "data": {
      "text/plain": [
       "['Efemena', '10Alytics', 'Ibrahim', 'Ayo']"
      ]
     },
     "execution_count": 41,
     "metadata": {},
     "output_type": "execute_result"
    }
   ],
   "source": [
    "# example of stop\n",
    "names[0:4]"
   ]
  },
  {
   "cell_type": "code",
   "execution_count": 42,
   "id": "94f7c3cd",
   "metadata": {},
   "outputs": [
    {
     "data": {
      "text/plain": [
       "['10Alytics', 'Ibrahim']"
      ]
     },
     "execution_count": 42,
     "metadata": {},
     "output_type": "execute_result"
    }
   ],
   "source": [
    "names[1:3]"
   ]
  },
  {
   "cell_type": "code",
   "execution_count": 43,
   "id": "ef87dd2c",
   "metadata": {},
   "outputs": [
    {
     "data": {
      "text/plain": [
       "['10Alytics', 'Jefferson']"
      ]
     },
     "execution_count": 43,
     "metadata": {},
     "output_type": "execute_result"
    }
   ],
   "source": [
    "# Example of STEP\n",
    "names[1::3]"
   ]
  },
  {
   "cell_type": "code",
   "execution_count": 44,
   "id": "053df7f5",
   "metadata": {},
   "outputs": [
    {
     "data": {
      "text/plain": [
       "['Efemena', '10Alytics', 'Ibrahim', 'Ayo', 'Jefferson']"
      ]
     },
     "execution_count": 44,
     "metadata": {},
     "output_type": "execute_result"
    }
   ],
   "source": [
    "names"
   ]
  },
  {
   "cell_type": "code",
   "execution_count": 45,
   "id": "fbc5ca14",
   "metadata": {},
   "outputs": [],
   "source": [
    "# To add aname to a list\n",
    "names.append(\"ubong\")"
   ]
  },
  {
   "cell_type": "code",
   "execution_count": 46,
   "id": "2fd52879",
   "metadata": {},
   "outputs": [
    {
     "data": {
      "text/plain": [
       "['Efemena', '10Alytics', 'Ibrahim', 'Ayo', 'Jefferson', 'ubong']"
      ]
     },
     "execution_count": 46,
     "metadata": {},
     "output_type": "execute_result"
    }
   ],
   "source": [
    "names"
   ]
  },
  {
   "cell_type": "code",
   "execution_count": 47,
   "id": "85348e17",
   "metadata": {},
   "outputs": [
    {
     "data": {
      "text/plain": [
       "['Efemena', '10Alytics', 'Ibrahim', 'Ayo', 'Jefferson', 'ubong', 'Ademola']"
      ]
     },
     "execution_count": 47,
     "metadata": {},
     "output_type": "execute_result"
    }
   ],
   "source": [
    "names.append(\"Ademola\")\n",
    "names"
   ]
  },
  {
   "cell_type": "code",
   "execution_count": 48,
   "id": "ee0e0718",
   "metadata": {},
   "outputs": [
    {
     "data": {
      "text/plain": [
       "['Efemena', '10Alytics', 'Ibrahim', 'Ayo', 'Jefferson', 'ubong']"
      ]
     },
     "execution_count": 48,
     "metadata": {},
     "output_type": "execute_result"
    }
   ],
   "source": [
    "#To remove from the list the last data added to the list\n",
    "names.pop()\n",
    "names"
   ]
  },
  {
   "cell_type": "code",
   "execution_count": 49,
   "id": "8300d6ea",
   "metadata": {},
   "outputs": [
    {
     "data": {
      "text/plain": [
       "['ubong', 'Jefferson', 'Ayo', 'Ibrahim', '10Alytics', 'Efemena']"
      ]
     },
     "execution_count": 49,
     "metadata": {},
     "output_type": "execute_result"
    }
   ],
   "source": [
    "# To Transform the list upside down\n",
    "names.reverse()\n",
    "names\n",
    "# From below we see the position of the data has changed,, the 1st is now last"
   ]
  },
  {
   "cell_type": "code",
   "execution_count": 1,
   "id": "77ca3bca",
   "metadata": {},
   "outputs": [],
   "source": [
    "#Dictionaries\n",
    "# Dictionary is a type of python data type in which collections is unordered,\n",
    "# and values are in pairs called key-value pairs"
   ]
  },
  {
   "cell_type": "code",
   "execution_count": 2,
   "id": "b8f784f5",
   "metadata": {},
   "outputs": [
    {
     "data": {
      "text/plain": [
       "{'key1': 'value1', 'key2': 'value2'}"
      ]
     },
     "execution_count": 2,
     "metadata": {},
     "output_type": "execute_result"
    }
   ],
   "source": [
    "my_dict = {\"key1\":\"value1\", \"key2\":\"value2\"}\n",
    "my_dict"
   ]
  },
  {
   "cell_type": "code",
   "execution_count": 3,
   "id": "14f2af23",
   "metadata": {},
   "outputs": [
    {
     "data": {
      "text/plain": [
       "dict_keys(['key1', 'key2'])"
      ]
     },
     "execution_count": 3,
     "metadata": {},
     "output_type": "execute_result"
    }
   ],
   "source": [
    "# This code below give all the keys available\n",
    "my_dict.keys()"
   ]
  },
  {
   "cell_type": "code",
   "execution_count": 4,
   "id": "47b1832d",
   "metadata": {},
   "outputs": [
    {
     "data": {
      "text/plain": [
       "dict_values(['value1', 'value2'])"
      ]
     },
     "execution_count": 4,
     "metadata": {},
     "output_type": "execute_result"
    }
   ],
   "source": [
    "# This code below gives all the values available\n",
    "my_dict.values()"
   ]
  },
  {
   "cell_type": "code",
   "execution_count": 5,
   "id": "14bf59f7",
   "metadata": {},
   "outputs": [
    {
     "data": {
      "text/plain": [
       "'value1'"
      ]
     },
     "execution_count": 5,
     "metadata": {},
     "output_type": "execute_result"
    }
   ],
   "source": [
    "my_dict[\"key1\"]"
   ]
  },
  {
   "cell_type": "code",
   "execution_count": 7,
   "id": "d874dd2a",
   "metadata": {},
   "outputs": [
    {
     "data": {
      "text/plain": [
       "{'name': 'Tolani Johnson',\n",
       " 'Age': 27,\n",
       " 'Address': '16 Abule egba Akowonjo,Lagos',\n",
       " 'Phone Nos': 48761508}"
      ]
     },
     "execution_count": 7,
     "metadata": {},
     "output_type": "execute_result"
    }
   ],
   "source": [
    "bio_data ={\"name\":\"Tolani Johnson\", \"Age\":27, \"Address\":\"16 Abule egba Akowonjo,Lagos\", \"Phone Nos\" : 48761508}\n",
    "bio_data"
   ]
  },
  {
   "cell_type": "code",
   "execution_count": 8,
   "id": "d0ea0308",
   "metadata": {},
   "outputs": [
    {
     "data": {
      "text/plain": [
       "'Tolani Johnson'"
      ]
     },
     "execution_count": 8,
     "metadata": {},
     "output_type": "execute_result"
    }
   ],
   "source": [
    "bio_data[\"name\"]"
   ]
  },
  {
   "cell_type": "code",
   "execution_count": 10,
   "id": "56cfd5b9",
   "metadata": {},
   "outputs": [
    {
     "data": {
      "text/plain": [
       "'16 Abule egba Akowonjo,Lagos'"
      ]
     },
     "execution_count": 10,
     "metadata": {},
     "output_type": "execute_result"
    }
   ],
   "source": [
    "bio_data[\"Address\"]"
   ]
  },
  {
   "cell_type": "code",
   "execution_count": 13,
   "id": "b5e40eb8",
   "metadata": {},
   "outputs": [
    {
     "data": {
      "text/plain": [
       "{'name': 'Tolani Johnson',\n",
       " 'Age': 27,\n",
       " 'Address': '16 Abule egba Akowonjo,Lagos',\n",
       " 'Phone Nos': 48761508,\n",
       " 'colour': 'Black',\n",
       " 'colour of Eyes': 'Black'}"
      ]
     },
     "execution_count": 13,
     "metadata": {},
     "output_type": "execute_result"
    }
   ],
   "source": [
    "# to add data to the dictionary follow the code below\n",
    "bio_data[\"colour\"]=\"Black\"\n",
    "bio_data[\"colour of Eyes\"] =\"Black\"\n",
    "bio_data"
   ]
  },
  {
   "cell_type": "code",
   "execution_count": 15,
   "id": "c3f38b7a",
   "metadata": {},
   "outputs": [
    {
     "data": {
      "text/plain": [
       "{'name': 'Tolani Johnson',\n",
       " 'Age': 27,\n",
       " 'Address': '16 Abule egba Akowonjo,Lagos',\n",
       " 'Phone Nos': 48761508,\n",
       " 'colour': 'Black',\n",
       " 'colour of Eyes': 'Black',\n",
       " 'product': ['Car Insurance', 'Life Insurance', 'Home Insurance'],\n",
       " 'children': ['john', 'jeffrey', 'jane'],\n",
       " 'spouse': 'Steve Johnson'}"
      ]
     },
     "execution_count": 15,
     "metadata": {},
     "output_type": "execute_result"
    }
   ],
   "source": [
    "# code to add a value in a list format to an existing Dictionary\n",
    "bio_data[\"product\"]=[\"Car Insurance\", \"Life Insurance\", \"Home Insurance\"]\n",
    "bio_data[\"children\"]= [\"john\",\"jeffrey\", \"jane\"]\n",
    "bio_data[\"spouse\"]=\"Steve Johnson\"\n",
    "bio_data"
   ]
  },
  {
   "cell_type": "code",
   "execution_count": 16,
   "id": "0adc2662",
   "metadata": {},
   "outputs": [
    {
     "data": {
      "text/plain": [
       "['john', 'jeffrey', 'jane']"
      ]
     },
     "execution_count": 16,
     "metadata": {},
     "output_type": "execute_result"
    }
   ],
   "source": [
    "bio_data[\"children\"]"
   ]
  },
  {
   "cell_type": "code",
   "execution_count": 18,
   "id": "67d1dab9",
   "metadata": {},
   "outputs": [
    {
     "data": {
      "text/plain": [
       "'Home Insurance'"
      ]
     },
     "execution_count": 18,
     "metadata": {},
     "output_type": "execute_result"
    }
   ],
   "source": [
    "bio_data[\"product\"][2]"
   ]
  },
  {
   "cell_type": "code",
   "execution_count": 19,
   "id": "b64b7c93",
   "metadata": {},
   "outputs": [],
   "source": [
    "#Tuple\n",
    "# A tuple is a sequense pf items that are in order\n",
    "# and it is not possible to modify the Tuples"
   ]
  },
  {
   "cell_type": "code",
   "execution_count": 21,
   "id": "1194dfde",
   "metadata": {},
   "outputs": [
    {
     "data": {
      "text/plain": [
       "[12, 14, 16, 78, 90, 35]"
      ]
     },
     "execution_count": 21,
     "metadata": {},
     "output_type": "execute_result"
    }
   ],
   "source": [
    "age =[12,14,16,78,90,35]\n",
    "age"
   ]
  },
  {
   "cell_type": "code",
   "execution_count": 22,
   "id": "30640ff4",
   "metadata": {},
   "outputs": [
    {
     "data": {
      "text/plain": [
       "[24, 14, 16, 78, 90, 35]"
      ]
     },
     "execution_count": 22,
     "metadata": {},
     "output_type": "execute_result"
    }
   ],
   "source": [
    "# code below changes the data in index position of a type list 0 to 24\n",
    "age[0]=24\n",
    "age"
   ]
  },
  {
   "cell_type": "code",
   "execution_count": 23,
   "id": "d88ddbe5",
   "metadata": {},
   "outputs": [
    {
     "data": {
      "text/plain": [
       "[24, 14, 16, 78, 90, 95]"
      ]
     },
     "execution_count": 23,
     "metadata": {},
     "output_type": "execute_result"
    }
   ],
   "source": [
    "# Code changes the data in the last position of the type list to 95\n",
    "age[-1] = 95\n",
    "age"
   ]
  },
  {
   "cell_type": "code",
   "execution_count": 25,
   "id": "98b1bdd3",
   "metadata": {},
   "outputs": [
    {
     "data": {
      "text/plain": [
       "(1, 2, 3, 4, 5, 'Tonto', 'Artist')"
      ]
     },
     "execution_count": 25,
     "metadata": {},
     "output_type": "execute_result"
    }
   ],
   "source": [
    "# Code below is assigning data to a variable type tuple\n",
    "tup=(1,2,3,4,5,\"Tonto\", \"Artist\")\n",
    "tup"
   ]
  },
  {
   "cell_type": "code",
   "execution_count": 26,
   "id": "08d93538",
   "metadata": {},
   "outputs": [
    {
     "data": {
      "text/plain": [
       "1"
      ]
     },
     "execution_count": 26,
     "metadata": {},
     "output_type": "execute_result"
    }
   ],
   "source": [
    "# code below is calling the data in position 0 of the tuple\n",
    "tup[0]"
   ]
  },
  {
   "cell_type": "code",
   "execution_count": 28,
   "id": "eac7e898",
   "metadata": {},
   "outputs": [
    {
     "data": {
      "text/plain": [
       "4"
      ]
     },
     "execution_count": 28,
     "metadata": {},
     "output_type": "execute_result"
    }
   ],
   "source": [
    "tup[3]"
   ]
  },
  {
   "cell_type": "code",
   "execution_count": 30,
   "id": "2ca2c31e",
   "metadata": {},
   "outputs": [
    {
     "data": {
      "text/plain": [
       "7"
      ]
     },
     "execution_count": 30,
     "metadata": {},
     "output_type": "execute_result"
    }
   ],
   "source": [
    "len(tup)\n"
   ]
  },
  {
   "cell_type": "code",
   "execution_count": 31,
   "id": "d346214b",
   "metadata": {},
   "outputs": [],
   "source": [
    "#Set\n",
    "#The collection of unique items that are not in order is called set"
   ]
  },
  {
   "cell_type": "code",
   "execution_count": 32,
   "id": "d3f7f4cb",
   "metadata": {},
   "outputs": [],
   "source": [
    "# Code below assigns data to the set\n",
    "num={1,2,3,4,4,4,4,4,5,5,5,5,6,6,6,7,7,8,8,8,9,9,0}"
   ]
  },
  {
   "cell_type": "code",
   "execution_count": 33,
   "id": "ac65bd99",
   "metadata": {},
   "outputs": [
    {
     "data": {
      "text/plain": [
       "{0, 1, 2, 3, 4, 5, 6, 7, 8, 9}"
      ]
     },
     "execution_count": 33,
     "metadata": {},
     "output_type": "execute_result"
    }
   ],
   "source": [
    "num"
   ]
  },
  {
   "cell_type": "code",
   "execution_count": 34,
   "id": "36287838",
   "metadata": {},
   "outputs": [],
   "source": [
    "names=[\"Adeiza\", \"Habibat\",\"Suleiman\",\"Efemena\", \"Analytics\", \"Adeiza\", \"Efemena\"]"
   ]
  },
  {
   "cell_type": "code",
   "execution_count": 35,
   "id": "98a23c34",
   "metadata": {},
   "outputs": [
    {
     "data": {
      "text/plain": [
       "{'Adeiza', 'Analytics', 'Efemena', 'Habibat', 'Suleiman'}"
      ]
     },
     "execution_count": 35,
     "metadata": {},
     "output_type": "execute_result"
    }
   ],
   "source": [
    "# Code below helps us to identify/ call unique names\n",
    "# whilst ignoring the duplicate\n",
    "u_names= set(names)\n",
    "u_names"
   ]
  },
  {
   "cell_type": "code",
   "execution_count": 36,
   "id": "592bb4a6",
   "metadata": {},
   "outputs": [
    {
     "data": {
      "text/plain": [
       "{'Adeiza', 'Adeoye', 'Analytics', 'Efemena', 'Habibat', 'Suleiman'}"
      ]
     },
     "execution_count": 36,
     "metadata": {},
     "output_type": "execute_result"
    }
   ],
   "source": [
    "#Code below helps to add a unique name to the set\n",
    "u_names.add(\"Adeoye\")\n",
    "u_names"
   ]
  },
  {
   "cell_type": "code",
   "execution_count": 37,
   "id": "6033cf61",
   "metadata": {},
   "outputs": [],
   "source": [
    "# Booleans\n",
    "#True or False"
   ]
  },
  {
   "cell_type": "code",
   "execution_count": 38,
   "id": "933bcea6",
   "metadata": {},
   "outputs": [
    {
     "data": {
      "text/plain": [
       "True"
      ]
     },
     "execution_count": 38,
     "metadata": {},
     "output_type": "execute_result"
    }
   ],
   "source": [
    "#Code below is telling us the two values are the same\n",
    "1==1"
   ]
  },
  {
   "cell_type": "code",
   "execution_count": 39,
   "id": "75e3af7d",
   "metadata": {},
   "outputs": [
    {
     "data": {
      "text/plain": [
       "bool"
      ]
     },
     "execution_count": 39,
     "metadata": {},
     "output_type": "execute_result"
    }
   ],
   "source": [
    "# code below is asking us what type is the data\n",
    "type (1==1)\n"
   ]
  },
  {
   "cell_type": "code",
   "execution_count": 40,
   "id": "e28548bf",
   "metadata": {},
   "outputs": [
    {
     "data": {
      "text/plain": [
       "False"
      ]
     },
     "execution_count": 40,
     "metadata": {},
     "output_type": "execute_result"
    }
   ],
   "source": [
    "# Code below is comparing these data set to one another\n",
    "# note it returns False because eventhough its the same word its case sentive\n",
    "\"Efemena\" == \"efemena\""
   ]
  },
  {
   "cell_type": "code",
   "execution_count": 41,
   "id": "824dfe8e",
   "metadata": {},
   "outputs": [
    {
     "data": {
      "text/plain": [
       "bool"
      ]
     },
     "execution_count": 41,
     "metadata": {},
     "output_type": "execute_result"
    }
   ],
   "source": [
    "#code below is asking us what data type is variable a\n",
    "a= 100>2000\n",
    "type(a)"
   ]
  },
  {
   "cell_type": "code",
   "execution_count": null,
   "id": "5703fe4a",
   "metadata": {},
   "outputs": [],
   "source": []
  }
 ],
 "metadata": {
  "kernelspec": {
   "display_name": "Python 3",
   "language": "python",
   "name": "python3"
  },
  "language_info": {
   "codemirror_mode": {
    "name": "ipython",
    "version": 3
   },
   "file_extension": ".py",
   "mimetype": "text/x-python",
   "name": "python",
   "nbconvert_exporter": "python",
   "pygments_lexer": "ipython3",
   "version": "3.8.8"
  }
 },
 "nbformat": 4,
 "nbformat_minor": 5
}
