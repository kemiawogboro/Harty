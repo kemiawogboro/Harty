{
 "cells": [
  {
   "cell_type": "code",
   "execution_count": 10,
   "id": "bccee95c",
   "metadata": {},
   "outputs": [],
   "source": [
    "#import libraries\n",
    "import cv2"
   ]
  },
  {
   "cell_type": "code",
   "execution_count": 11,
   "id": "bb9606d6",
   "metadata": {},
   "outputs": [],
   "source": [
    "#step 1: identify your webcam\n",
    "#1 is for external webcam while 0 IS FOR LOCAL WEBCAM\n",
    "webcam =cv2.VideoCapture(0)"
   ]
  },
  {
   "cell_type": "code",
   "execution_count": 12,
   "id": "0274d511",
   "metadata": {},
   "outputs": [],
   "source": [
    "#Step: Leverage Haarcascade\n",
    "face_cascade = cv2.CascadeClassifier(cv2.data.haarcascades +'haarcascade_frontalface_default.xml')\n",
    "eye_cascade = cv2.CascadeClassifier(cv2.data.haarcascades +'haarcascade_eye.xml')"
   ]
  },
  {
   "cell_type": "code",
   "execution_count": 13,
   "id": "600a1e5b",
   "metadata": {},
   "outputs": [],
   "source": [
    "#step 4 create a function that will detect faces and draw a box around tthe facde\n",
    "def detect(gray, frame):\n",
    "    faces =face_cascade.detectMultiScale(gray, 1.3,5)    \n",
    "    for(x,y,w,h) in faces:\n",
    "        cv2.rectangle(frame, (x,y),(x+w, y+h), (255,255,6),5)\n",
    "        roi_gray =gray[y:y+h, x:x+w]\n",
    "        roi_color= frame[y:y+h, x:x+w]\n",
    "        \n",
    "        #Eye Detecetion\n",
    "        eyes =eye_cascade.detectMultiScale(gray, 1.1,3)\n",
    "        for(ex,ey,ew,eh) in eyes:\n",
    "            cv2.rectangle(roi_color, (ex,ey),(ex+ew, ey+eh), (6,255,255),4)\n",
    "    return frame"
   ]
  },
  {
   "cell_type": "code",
   "execution_count": 14,
   "id": "3b4a448f",
   "metadata": {},
   "outputs": [],
   "source": [
    "#step 2: switch on camera\n",
    "while True:\n",
    "    _, frame = webcam.read()\n",
    "    gray = cv2.cvtColor(frame, cv2.COLOR_BGR2GRAY)\n",
    "    display = detect(gray, frame)\n",
    "\n",
    "    cv2.imshow(\"10Alytics Facial Detection\", frame)\n",
    "    if cv2.waitKey(0) & 0xff == ord('q'):\n",
    "        break\n",
    "webcam.release()\n",
    "cv2.destroyAllWindows()"
   ]
  },
  {
   "cell_type": "code",
   "execution_count": null,
   "id": "cfed5a93",
   "metadata": {},
   "outputs": [],
   "source": []
  }
 ],
 "metadata": {
  "kernelspec": {
   "display_name": "Python 3",
   "language": "python",
   "name": "python3"
  },
  "language_info": {
   "codemirror_mode": {
    "name": "ipython",
    "version": 3
   },
   "file_extension": ".py",
   "mimetype": "text/x-python",
   "name": "python",
   "nbconvert_exporter": "python",
   "pygments_lexer": "ipython3",
   "version": "3.8.8"
  }
 },
 "nbformat": 4,
 "nbformat_minor": 5
}
