{
 "cells": [
  {
   "cell_type": "code",
   "execution_count": 1,
   "id": "3ae20c01",
   "metadata": {},
   "outputs": [],
   "source": [
    "#import the libaries to work with\n",
    "import pandas as pd"
   ]
  },
  {
   "cell_type": "code",
   "execution_count": 4,
   "id": "a993aa69",
   "metadata": {},
   "outputs": [],
   "source": [
    "#import visualization libraries\n",
    "import matplotlib.pyplot as plt\n",
    "%matplotlib inline\n",
    "import seaborn as sns"
   ]
  },
  {
   "cell_type": "code",
   "execution_count": 9,
   "id": "b769ef84",
   "metadata": {},
   "outputs": [
    {
     "data": {
      "text/html": [
       "<div>\n",
       "<style scoped>\n",
       "    .dataframe tbody tr th:only-of-type {\n",
       "        vertical-align: middle;\n",
       "    }\n",
       "\n",
       "    .dataframe tbody tr th {\n",
       "        vertical-align: top;\n",
       "    }\n",
       "\n",
       "    .dataframe thead th {\n",
       "        text-align: right;\n",
       "    }\n",
       "</style>\n",
       "<table border=\"1\" class=\"dataframe\">\n",
       "  <thead>\n",
       "    <tr style=\"text-align: right;\">\n",
       "      <th></th>\n",
       "      <th>bedrooms</th>\n",
       "      <th>bathrooms</th>\n",
       "      <th>toilets</th>\n",
       "      <th>parking_space</th>\n",
       "      <th>title</th>\n",
       "      <th>town</th>\n",
       "      <th>state</th>\n",
       "      <th>price</th>\n",
       "    </tr>\n",
       "  </thead>\n",
       "  <tbody>\n",
       "    <tr>\n",
       "      <th>0</th>\n",
       "      <td>6.0</td>\n",
       "      <td>5.0</td>\n",
       "      <td>5.0</td>\n",
       "      <td>4.0</td>\n",
       "      <td>Detached Duplex</td>\n",
       "      <td>Mabushi</td>\n",
       "      <td>Abuja</td>\n",
       "      <td>450000000.0</td>\n",
       "    </tr>\n",
       "    <tr>\n",
       "      <th>1</th>\n",
       "      <td>4.0</td>\n",
       "      <td>5.0</td>\n",
       "      <td>5.0</td>\n",
       "      <td>4.0</td>\n",
       "      <td>Terraced Duplexes</td>\n",
       "      <td>Katampe</td>\n",
       "      <td>Abuja</td>\n",
       "      <td>800000000.0</td>\n",
       "    </tr>\n",
       "    <tr>\n",
       "      <th>2</th>\n",
       "      <td>4.0</td>\n",
       "      <td>5.0</td>\n",
       "      <td>5.0</td>\n",
       "      <td>4.0</td>\n",
       "      <td>Detached Duplex</td>\n",
       "      <td>Lekki</td>\n",
       "      <td>Lagos</td>\n",
       "      <td>120000000.0</td>\n",
       "    </tr>\n",
       "    <tr>\n",
       "      <th>3</th>\n",
       "      <td>4.0</td>\n",
       "      <td>4.0</td>\n",
       "      <td>5.0</td>\n",
       "      <td>6.0</td>\n",
       "      <td>Detached Duplex</td>\n",
       "      <td>Ajah</td>\n",
       "      <td>Lagos</td>\n",
       "      <td>40000000.0</td>\n",
       "    </tr>\n",
       "    <tr>\n",
       "      <th>4</th>\n",
       "      <td>4.0</td>\n",
       "      <td>4.0</td>\n",
       "      <td>5.0</td>\n",
       "      <td>2.0</td>\n",
       "      <td>Semi Detached Duplex</td>\n",
       "      <td>Lekki</td>\n",
       "      <td>Lagos</td>\n",
       "      <td>75000000.0</td>\n",
       "    </tr>\n",
       "  </tbody>\n",
       "</table>\n",
       "</div>"
      ],
      "text/plain": [
       "   bedrooms  bathrooms  toilets  parking_space                 title     town  \\\n",
       "0       6.0        5.0      5.0            4.0       Detached Duplex  Mabushi   \n",
       "1       4.0        5.0      5.0            4.0     Terraced Duplexes  Katampe   \n",
       "2       4.0        5.0      5.0            4.0       Detached Duplex    Lekki   \n",
       "3       4.0        4.0      5.0            6.0       Detached Duplex     Ajah   \n",
       "4       4.0        4.0      5.0            2.0  Semi Detached Duplex    Lekki   \n",
       "\n",
       "   state        price  \n",
       "0  Abuja  450000000.0  \n",
       "1  Abuja  800000000.0  \n",
       "2  Lagos  120000000.0  \n",
       "3  Lagos   40000000.0  \n",
       "4  Lagos   75000000.0  "
      ]
     },
     "execution_count": 9,
     "metadata": {},
     "output_type": "execute_result"
    }
   ],
   "source": [
    "#load the data set\n",
    "\n",
    "#data = pd.read_excel('nigeria_houses_data.xlsx', index_col=0, sheet_name='nigeria_houses_data')\n",
    "\n",
    "#The file below was saved  as a csv file because data as csv's loading time is faster\n",
    "# nigerhouse.head() provides us the details of the heading within the file\n",
    "import pandas as pd\n",
    "nigerhouse = pd.read_csv('nigeria_houses_data.csv',encoding='unicode-escape')\n",
    "nigerhouse.head()"
   ]
  },
  {
   "cell_type": "code",
   "execution_count": 10,
   "id": "12ba50b7",
   "metadata": {},
   "outputs": [
    {
     "data": {
      "text/plain": [
       "(24326, 8)"
      ]
     },
     "execution_count": 10,
     "metadata": {},
     "output_type": "execute_result"
    }
   ],
   "source": [
    "# Understanding the data\n",
    "#view the shape of the data \n",
    "#nigerhouse.shape tells you the number of 24326 rows and 8 columns contained in the dataframe\n",
    "nigerhouse.shape"
   ]
  },
  {
   "cell_type": "code",
   "execution_count": 11,
   "id": "d3d42f8d",
   "metadata": {},
   "outputs": [
    {
     "data": {
      "text/html": [
       "<div>\n",
       "<style scoped>\n",
       "    .dataframe tbody tr th:only-of-type {\n",
       "        vertical-align: middle;\n",
       "    }\n",
       "\n",
       "    .dataframe tbody tr th {\n",
       "        vertical-align: top;\n",
       "    }\n",
       "\n",
       "    .dataframe thead th {\n",
       "        text-align: right;\n",
       "    }\n",
       "</style>\n",
       "<table border=\"1\" class=\"dataframe\">\n",
       "  <thead>\n",
       "    <tr style=\"text-align: right;\">\n",
       "      <th></th>\n",
       "      <th>bedrooms</th>\n",
       "      <th>bathrooms</th>\n",
       "      <th>toilets</th>\n",
       "      <th>parking_space</th>\n",
       "      <th>title</th>\n",
       "      <th>town</th>\n",
       "      <th>state</th>\n",
       "      <th>price</th>\n",
       "    </tr>\n",
       "  </thead>\n",
       "  <tbody>\n",
       "    <tr>\n",
       "      <th>24321</th>\n",
       "      <td>2.0</td>\n",
       "      <td>2.0</td>\n",
       "      <td>2.0</td>\n",
       "      <td>4.0</td>\n",
       "      <td>Block of Flats</td>\n",
       "      <td>Kabusa</td>\n",
       "      <td>Abuja</td>\n",
       "      <td>15000000.0</td>\n",
       "    </tr>\n",
       "    <tr>\n",
       "      <th>24322</th>\n",
       "      <td>4.0</td>\n",
       "      <td>5.0</td>\n",
       "      <td>5.0</td>\n",
       "      <td>4.0</td>\n",
       "      <td>Block of Flats</td>\n",
       "      <td>Ado-Odo/Ota</td>\n",
       "      <td>Ogun</td>\n",
       "      <td>25000000.0</td>\n",
       "    </tr>\n",
       "    <tr>\n",
       "      <th>24323</th>\n",
       "      <td>4.0</td>\n",
       "      <td>5.0</td>\n",
       "      <td>5.0</td>\n",
       "      <td>4.0</td>\n",
       "      <td>Detached Duplex</td>\n",
       "      <td>Lekki</td>\n",
       "      <td>Lagos</td>\n",
       "      <td>68000000.0</td>\n",
       "    </tr>\n",
       "    <tr>\n",
       "      <th>24324</th>\n",
       "      <td>3.0</td>\n",
       "      <td>4.0</td>\n",
       "      <td>4.0</td>\n",
       "      <td>3.0</td>\n",
       "      <td>Block of Flats</td>\n",
       "      <td>Victoria Island (VI)</td>\n",
       "      <td>Lagos</td>\n",
       "      <td>78000000.0</td>\n",
       "    </tr>\n",
       "    <tr>\n",
       "      <th>24325</th>\n",
       "      <td>4.0</td>\n",
       "      <td>5.0</td>\n",
       "      <td>5.0</td>\n",
       "      <td>4.0</td>\n",
       "      <td>Detached Duplex</td>\n",
       "      <td>Lekki</td>\n",
       "      <td>Lagos</td>\n",
       "      <td>65000000.0</td>\n",
       "    </tr>\n",
       "  </tbody>\n",
       "</table>\n",
       "</div>"
      ],
      "text/plain": [
       "       bedrooms  bathrooms  toilets  parking_space            title  \\\n",
       "24321       2.0        2.0      2.0            4.0   Block of Flats   \n",
       "24322       4.0        5.0      5.0            4.0   Block of Flats   \n",
       "24323       4.0        5.0      5.0            4.0  Detached Duplex   \n",
       "24324       3.0        4.0      4.0            3.0   Block of Flats   \n",
       "24325       4.0        5.0      5.0            4.0  Detached Duplex   \n",
       "\n",
       "                       town  state       price  \n",
       "24321                Kabusa  Abuja  15000000.0  \n",
       "24322           Ado-Odo/Ota   Ogun  25000000.0  \n",
       "24323                 Lekki  Lagos  68000000.0  \n",
       "24324  Victoria Island (VI)  Lagos  78000000.0  \n",
       "24325                 Lekki  Lagos  65000000.0  "
      ]
     },
     "execution_count": 11,
     "metadata": {},
     "output_type": "execute_result"
    }
   ],
   "source": [
    "#helps to output the last last column and last five rows within the data file\n",
    "nigerhouse.tail()"
   ]
  },
  {
   "cell_type": "code",
   "execution_count": 13,
   "id": "fcf47241",
   "metadata": {},
   "outputs": [
    {
     "name": "stdout",
     "output_type": "stream",
     "text": [
      "<class 'pandas.core.frame.DataFrame'>\n",
      "RangeIndex: 24326 entries, 0 to 24325\n",
      "Data columns (total 8 columns):\n",
      " #   Column         Non-Null Count  Dtype  \n",
      "---  ------         --------------  -----  \n",
      " 0   bedrooms       24326 non-null  float64\n",
      " 1   bathrooms      24326 non-null  float64\n",
      " 2   toilets        24326 non-null  float64\n",
      " 3   parking_space  24326 non-null  float64\n",
      " 4   title          24326 non-null  object \n",
      " 5   town           24326 non-null  object \n",
      " 6   state          24326 non-null  object \n",
      " 7   price          24326 non-null  float64\n",
      "dtypes: float64(5), object(3)\n",
      "memory usage: 1.5+ MB\n"
     ]
    }
   ],
   "source": [
    "# this code provides info details of the type of data located within each column named below as well as the summary \n",
    "nigerhouse.info()"
   ]
  },
  {
   "cell_type": "code",
   "execution_count": 14,
   "id": "8017d236",
   "metadata": {},
   "outputs": [
    {
     "data": {
      "text/plain": [
       "bedrooms         float64\n",
       "bathrooms        float64\n",
       "toilets          float64\n",
       "parking_space    float64\n",
       "title             object\n",
       "town              object\n",
       "state             object\n",
       "price            float64\n",
       "dtype: object"
      ]
     },
     "execution_count": 14,
     "metadata": {},
     "output_type": "execute_result"
    }
   ],
   "source": [
    "#this code allows us to view data types of each column using dtypes attribute\n",
    "nigerhouse.dtypes"
   ]
  },
  {
   "cell_type": "code",
   "execution_count": 15,
   "id": "264d64fb",
   "metadata": {},
   "outputs": [
    {
     "data": {
      "text/plain": [
       "Index(['bedrooms', 'bathrooms', 'toilets', 'parking_space', 'title', 'town',\n",
       "       'state', 'price'],\n",
       "      dtype='object')"
      ]
     },
     "execution_count": 15,
     "metadata": {},
     "output_type": "execute_result"
    }
   ],
   "source": [
    "#The code allows us to view the column names by accessing the columns attribute\n",
    "nigerhouse.columns"
   ]
  },
  {
   "cell_type": "code",
   "execution_count": 16,
   "id": "a00d0bd0",
   "metadata": {},
   "outputs": [
    {
     "data": {
      "text/plain": [
       "['BEDROOMS',\n",
       " 'BATHROOMS',\n",
       " 'TOILETS',\n",
       " 'PARKING_SPACE',\n",
       " 'TITLE',\n",
       " 'TOWN',\n",
       " 'STATE',\n",
       " 'PRICE']"
      ]
     },
     "execution_count": 16,
     "metadata": {},
     "output_type": "execute_result"
    }
   ],
   "source": [
    "#the code below called list comprehension converts columns headings to upper case\n",
    "[x.upper() for x in nigerhouse.columns]"
   ]
  },
  {
   "cell_type": "code",
   "execution_count": 17,
   "id": "1c7a4288",
   "metadata": {},
   "outputs": [
    {
     "name": "stdout",
     "output_type": "stream",
     "text": [
      "bedrooms\n",
      "bathrooms\n",
      "toilets\n",
      "parking_space\n",
      "title\n",
      "town\n",
      "state\n",
      "price\n"
     ]
    }
   ],
   "source": [
    "#This code loops through each column name and prints out the name of each column\n",
    "#Your code here\n",
    "for a in nigerhouse.columns:\n",
    "    print(a)"
   ]
  },
  {
   "cell_type": "code",
   "execution_count": 19,
   "id": "84b074ea",
   "metadata": {},
   "outputs": [
    {
     "data": {
      "text/html": [
       "<div>\n",
       "<style scoped>\n",
       "    .dataframe tbody tr th:only-of-type {\n",
       "        vertical-align: middle;\n",
       "    }\n",
       "\n",
       "    .dataframe tbody tr th {\n",
       "        vertical-align: top;\n",
       "    }\n",
       "\n",
       "    .dataframe thead th {\n",
       "        text-align: right;\n",
       "    }\n",
       "</style>\n",
       "<table border=\"1\" class=\"dataframe\">\n",
       "  <thead>\n",
       "    <tr style=\"text-align: right;\">\n",
       "      <th></th>\n",
       "      <th>bedrooms</th>\n",
       "      <th>bathrooms</th>\n",
       "      <th>toilets</th>\n",
       "      <th>parking_space</th>\n",
       "      <th>price</th>\n",
       "    </tr>\n",
       "  </thead>\n",
       "  <tbody>\n",
       "    <tr>\n",
       "      <th>count</th>\n",
       "      <td>24326.000000</td>\n",
       "      <td>24326.000000</td>\n",
       "      <td>24326.000000</td>\n",
       "      <td>24326.000000</td>\n",
       "      <td>2.432600e+04</td>\n",
       "    </tr>\n",
       "    <tr>\n",
       "      <th>mean</th>\n",
       "      <td>4.338814</td>\n",
       "      <td>4.600798</td>\n",
       "      <td>5.176355</td>\n",
       "      <td>4.041725</td>\n",
       "      <td>3.013802e+08</td>\n",
       "    </tr>\n",
       "    <tr>\n",
       "      <th>std</th>\n",
       "      <td>1.138497</td>\n",
       "      <td>1.163161</td>\n",
       "      <td>1.226253</td>\n",
       "      <td>1.399936</td>\n",
       "      <td>1.220403e+10</td>\n",
       "    </tr>\n",
       "    <tr>\n",
       "      <th>min</th>\n",
       "      <td>1.000000</td>\n",
       "      <td>1.000000</td>\n",
       "      <td>1.000000</td>\n",
       "      <td>1.000000</td>\n",
       "      <td>9.000000e+04</td>\n",
       "    </tr>\n",
       "    <tr>\n",
       "      <th>25%</th>\n",
       "      <td>4.000000</td>\n",
       "      <td>4.000000</td>\n",
       "      <td>5.000000</td>\n",
       "      <td>4.000000</td>\n",
       "      <td>5.200000e+07</td>\n",
       "    </tr>\n",
       "    <tr>\n",
       "      <th>50%</th>\n",
       "      <td>4.000000</td>\n",
       "      <td>5.000000</td>\n",
       "      <td>5.000000</td>\n",
       "      <td>4.000000</td>\n",
       "      <td>8.500000e+07</td>\n",
       "    </tr>\n",
       "    <tr>\n",
       "      <th>75%</th>\n",
       "      <td>5.000000</td>\n",
       "      <td>5.000000</td>\n",
       "      <td>6.000000</td>\n",
       "      <td>4.000000</td>\n",
       "      <td>1.600000e+08</td>\n",
       "    </tr>\n",
       "    <tr>\n",
       "      <th>max</th>\n",
       "      <td>9.000000</td>\n",
       "      <td>9.000000</td>\n",
       "      <td>9.000000</td>\n",
       "      <td>9.000000</td>\n",
       "      <td>1.800000e+12</td>\n",
       "    </tr>\n",
       "  </tbody>\n",
       "</table>\n",
       "</div>"
      ],
      "text/plain": [
       "           bedrooms     bathrooms       toilets  parking_space         price\n",
       "count  24326.000000  24326.000000  24326.000000   24326.000000  2.432600e+04\n",
       "mean       4.338814      4.600798      5.176355       4.041725  3.013802e+08\n",
       "std        1.138497      1.163161      1.226253       1.399936  1.220403e+10\n",
       "min        1.000000      1.000000      1.000000       1.000000  9.000000e+04\n",
       "25%        4.000000      4.000000      5.000000       4.000000  5.200000e+07\n",
       "50%        4.000000      5.000000      5.000000       4.000000  8.500000e+07\n",
       "75%        5.000000      5.000000      6.000000       4.000000  1.600000e+08\n",
       "max        9.000000      9.000000      9.000000       9.000000  1.800000e+12"
      ]
     },
     "execution_count": 19,
     "metadata": {},
     "output_type": "execute_result"
    }
   ],
   "source": [
    "#The code below gives summary statistics with describe() method using data types that are floats\n",
    "nigerhouse.describe()"
   ]
  },
  {
   "cell_type": "code",
   "execution_count": 20,
   "id": "6101eb44",
   "metadata": {},
   "outputs": [
    {
     "data": {
      "text/plain": [
       "bedrooms         0\n",
       "bathrooms        0\n",
       "toilets          0\n",
       "parking_space    0\n",
       "title            0\n",
       "town             0\n",
       "state            0\n",
       "price            0\n",
       "dtype: int64"
      ]
     },
     "execution_count": 20,
     "metadata": {},
     "output_type": "execute_result"
    }
   ],
   "source": [
    "# Data Cleaning and Manipulation\n",
    "#We use the code below to check for missing data using isna().sum()\n",
    "# The result here is there no mising detail details on any row\n",
    "nigerhouse.isna().sum()"
   ]
  },
  {
   "cell_type": "code",
   "execution_count": 27,
   "id": "d5851e1b",
   "metadata": {},
   "outputs": [
    {
     "data": {
      "text/plain": [
       "array(['Detached Duplex', 'Terraced Duplexes', 'Semi Detached Duplex',\n",
       "       'Detached Bungalow', 'Block of Flats', 'Semi Detached Bungalow',\n",
       "       'Terraced Bungalow'], dtype=object)"
      ]
     },
     "execution_count": 27,
     "metadata": {},
     "output_type": "execute_result"
    }
   ],
   "source": [
    "#The code tells us the unique value of Title which descibes the type of house on the list\n",
    "nigerhouse.title.unique()"
   ]
  },
  {
   "cell_type": "code",
   "execution_count": 41,
   "id": "c77fc121",
   "metadata": {},
   "outputs": [
    {
     "data": {
      "text/plain": [
       "25"
      ]
     },
     "execution_count": 41,
     "metadata": {},
     "output_type": "execute_result"
    }
   ],
   "source": [
    "#The code tells us the unique value of State it tells us the names of state the houses on the list are located\n",
    "nigerhouse.state.unique()\n",
    "len(nigerhouse.state.unique())"
   ]
  },
  {
   "cell_type": "code",
   "execution_count": 29,
   "id": "4fd859e6",
   "metadata": {},
   "outputs": [
    {
     "data": {
      "text/plain": [
       "array(['Mabushi', 'Katampe', 'Lekki', 'Ajah', 'Epe', 'Lokogoma District',\n",
       "       'Oredo', 'Victoria Island (VI)', 'Mowe Ofada', 'Ikeja', 'Ikoyi',\n",
       "       'Magodo', 'Kaura', 'Galadimawa', 'Gwarinpa', 'Abeokuta North',\n",
       "       'Lugbe District', 'Ibeju Lekki', 'Yaba', 'Sango Ota',\n",
       "       'Ifako-Ijaiye', 'Agege', 'Ikorodu', 'Jahi', 'Ibadan', 'Orozo',\n",
       "       'Ifo', 'Owerri North', 'Guzape District', 'Idu Industrial',\n",
       "       'Owerri Municipal', 'Isheri North', 'Utako', 'Port Harcourt',\n",
       "       'Kuje', 'Isheri', 'Life Camp', 'Ipaja', 'Ado-Odo/Ota', 'Dape',\n",
       "       'Mushin', 'Ejigbo', 'Isolo', 'Ojodu', 'Gaduwa', 'Enugu', 'Dakwo',\n",
       "       'Asokoro District', 'Alimosho', 'Sagamu', 'Chikun', 'Egbeda',\n",
       "       'Wuye', 'Kubwa', 'Shomolu', 'Ogudu', 'Owerri West', 'Ibafo',\n",
       "       'Surulere', 'Obio-Akpor', 'Ayobo', 'Apo', 'Mowe Town',\n",
       "       'Ibadan South-West', 'Wuse 2', 'Durumi', 'Simawa', 'Arepo',\n",
       "       'Ikotun', 'Oluyole', 'Maitama District', 'Maryland', 'Ido',\n",
       "       'Karsana', 'Wuse', 'Ilorin West', 'Kurudu', 'Karmo',\n",
       "       'Abeokuta South', 'KM 46', 'Gbagada', 'Idimu', 'Kaduna South',\n",
       "       'Magboro', 'Gudu', 'Kukwaba', 'Mbora (Nbora)', 'Obafemi Owode',\n",
       "       'Jabi', 'Karu', 'Ojo', 'Garki', 'Aba', 'Ogijo', 'Asaba', 'Uyo',\n",
       "       'Kosofe', 'Oyigbo', 'Karshi', 'Osogbo', 'Kado', 'Ilupeju',\n",
       "       'Afijio', 'Ketu', 'Ado-Ekiti', 'Ibadan North', 'Egor', 'Nyanya',\n",
       "       'Ibarapa North', 'Kyami', 'Ojota', 'Dutse', 'Nasarawa', 'Calabar',\n",
       "       'Kaduna North', 'Eleme', 'Kafe', 'Oshodi', 'Dakibiyu',\n",
       "       'Amuwo Odofin', 'Ijede', 'Bwari', 'Dekina', 'Jos South',\n",
       "       'Agbara-Igbesa', 'Ijaiye', 'Kagini', 'Ohaji/Egbema', 'Mpape',\n",
       "       'Apapa', 'Lagos Island', 'Gwagwalada', 'Ijoko', 'Diplomatic Zones',\n",
       "       'Akure', 'Ethiope West', 'Badagry', 'Kano', 'Ede South',\n",
       "       'Ilorin South', 'Oke-Aro', 'Oke-Odo', 'Ikot Ekpene', 'Kusada',\n",
       "       'Akinyele', 'Kabusa', 'Dei-Dei', 'Eket', 'Egbe', 'Udu',\n",
       "       'Ibadan North-East', 'Danja', 'Yewa South', 'Warri', 'Duboyi',\n",
       "       'Jikwoyi', 'Oyo West', 'Agbara', 'Ovia North-East', 'Yenagoa',\n",
       "       'Central Business District', 'Guzamala', 'Lokoja', 'Jos North',\n",
       "       'Orile', 'Wumba', 'Ibadan North-West', 'Eko Atlantic City',\n",
       "       'Imota', 'Ikwerre', 'Keffi', 'Ilorin East', 'Uvwie', 'Umuahia',\n",
       "       'Ijesha', 'Okene', 'Aniocha South', 'Ijebu Ode', 'Okpe',\n",
       "       'Ughelli South', 'Ewekoro', 'Nassarawa', 'Mararaba', 'Uhunmwonde',\n",
       "       'Ughelli North', 'Ibeju', 'Abraka', 'Paikoro', 'Ikpoba Okha'],\n",
       "      dtype=object)"
      ]
     },
     "execution_count": 29,
     "metadata": {},
     "output_type": "execute_result"
    }
   ],
   "source": [
    "#The code tells us the unique value of towns it tells us the names of towns the houses on the list are located\n",
    "nigerhouse.town.unique()"
   ]
  },
  {
   "cell_type": "code",
   "execution_count": 30,
   "id": "e07579c5",
   "metadata": {},
   "outputs": [
    {
     "data": {
      "text/plain": [
       "189"
      ]
     },
     "execution_count": 30,
     "metadata": {},
     "output_type": "execute_result"
    }
   ],
   "source": [
    "len(nigerhouse.town.unique())"
   ]
  },
  {
   "cell_type": "code",
   "execution_count": 38,
   "id": "bba633b3",
   "metadata": {},
   "outputs": [
    {
     "data": {
      "text/plain": [
       "bedrooms         24326\n",
       "bathrooms        24326\n",
       "toilets          24326\n",
       "parking_space    24326\n",
       "title            24326\n",
       "town             24326\n",
       "state            24326\n",
       "price            24326\n",
       "dtype: int64"
      ]
     },
     "execution_count": 38,
     "metadata": {},
     "output_type": "execute_result"
    }
   ],
   "source": [
    "# here we have list of data that is not null(columns with no missing value in rows)\n",
    "nigerhouse.notna().sum()"
   ]
  },
  {
   "cell_type": "code",
   "execution_count": 43,
   "id": "9cc2a40d",
   "metadata": {},
   "outputs": [
    {
     "data": {
      "text/plain": [
       "0        True\n",
       "1        True\n",
       "2        True\n",
       "3        True\n",
       "4        True\n",
       "         ... \n",
       "24321    True\n",
       "24322    True\n",
       "24323    True\n",
       "24324    True\n",
       "24325    True\n",
       "Name: title, Length: 24326, dtype: bool"
      ]
     },
     "execution_count": 43,
     "metadata": {},
     "output_type": "execute_result"
    }
   ],
   "source": [
    "#what do the records with empty customer ID mean? Does it mean the sale was not recorded to a customer? \n",
    "#TODO: filter the dataframe using CustomerID.isna() as filter condition\n",
    "#nigerhouse[nigerhouse.title.notna()]\n",
    "nigerhouse.title.notna()"
   ]
  },
  {
   "cell_type": "code",
   "execution_count": 46,
   "id": "5035ee6f",
   "metadata": {},
   "outputs": [
    {
     "data": {
      "text/html": [
       "<div>\n",
       "<style scoped>\n",
       "    .dataframe tbody tr th:only-of-type {\n",
       "        vertical-align: middle;\n",
       "    }\n",
       "\n",
       "    .dataframe tbody tr th {\n",
       "        vertical-align: top;\n",
       "    }\n",
       "\n",
       "    .dataframe thead th {\n",
       "        text-align: right;\n",
       "    }\n",
       "</style>\n",
       "<table border=\"1\" class=\"dataframe\">\n",
       "  <thead>\n",
       "    <tr style=\"text-align: right;\">\n",
       "      <th></th>\n",
       "      <th>bedrooms</th>\n",
       "      <th>bathrooms</th>\n",
       "      <th>toilets</th>\n",
       "      <th>parking_space</th>\n",
       "      <th>title</th>\n",
       "      <th>town</th>\n",
       "      <th>state</th>\n",
       "      <th>price</th>\n",
       "    </tr>\n",
       "  </thead>\n",
       "  <tbody>\n",
       "    <tr>\n",
       "      <th>0</th>\n",
       "      <td>6.0</td>\n",
       "      <td>5.0</td>\n",
       "      <td>5.0</td>\n",
       "      <td>4.0</td>\n",
       "      <td>Detached Duplex</td>\n",
       "      <td>Mabushi</td>\n",
       "      <td>Abuja</td>\n",
       "      <td>450000000.0</td>\n",
       "    </tr>\n",
       "    <tr>\n",
       "      <th>1</th>\n",
       "      <td>4.0</td>\n",
       "      <td>5.0</td>\n",
       "      <td>5.0</td>\n",
       "      <td>4.0</td>\n",
       "      <td>Terraced Duplexes</td>\n",
       "      <td>Katampe</td>\n",
       "      <td>Abuja</td>\n",
       "      <td>800000000.0</td>\n",
       "    </tr>\n",
       "    <tr>\n",
       "      <th>2</th>\n",
       "      <td>4.0</td>\n",
       "      <td>5.0</td>\n",
       "      <td>5.0</td>\n",
       "      <td>4.0</td>\n",
       "      <td>Detached Duplex</td>\n",
       "      <td>Lekki</td>\n",
       "      <td>Lagos</td>\n",
       "      <td>120000000.0</td>\n",
       "    </tr>\n",
       "    <tr>\n",
       "      <th>3</th>\n",
       "      <td>4.0</td>\n",
       "      <td>4.0</td>\n",
       "      <td>5.0</td>\n",
       "      <td>6.0</td>\n",
       "      <td>Detached Duplex</td>\n",
       "      <td>Ajah</td>\n",
       "      <td>Lagos</td>\n",
       "      <td>40000000.0</td>\n",
       "    </tr>\n",
       "    <tr>\n",
       "      <th>4</th>\n",
       "      <td>4.0</td>\n",
       "      <td>4.0</td>\n",
       "      <td>5.0</td>\n",
       "      <td>2.0</td>\n",
       "      <td>Semi Detached Duplex</td>\n",
       "      <td>Lekki</td>\n",
       "      <td>Lagos</td>\n",
       "      <td>75000000.0</td>\n",
       "    </tr>\n",
       "    <tr>\n",
       "      <th>...</th>\n",
       "      <td>...</td>\n",
       "      <td>...</td>\n",
       "      <td>...</td>\n",
       "      <td>...</td>\n",
       "      <td>...</td>\n",
       "      <td>...</td>\n",
       "      <td>...</td>\n",
       "      <td>...</td>\n",
       "    </tr>\n",
       "    <tr>\n",
       "      <th>24321</th>\n",
       "      <td>2.0</td>\n",
       "      <td>2.0</td>\n",
       "      <td>2.0</td>\n",
       "      <td>4.0</td>\n",
       "      <td>Block of Flats</td>\n",
       "      <td>Kabusa</td>\n",
       "      <td>Abuja</td>\n",
       "      <td>15000000.0</td>\n",
       "    </tr>\n",
       "    <tr>\n",
       "      <th>24322</th>\n",
       "      <td>4.0</td>\n",
       "      <td>5.0</td>\n",
       "      <td>5.0</td>\n",
       "      <td>4.0</td>\n",
       "      <td>Block of Flats</td>\n",
       "      <td>Ado-Odo/Ota</td>\n",
       "      <td>Ogun</td>\n",
       "      <td>25000000.0</td>\n",
       "    </tr>\n",
       "    <tr>\n",
       "      <th>24323</th>\n",
       "      <td>4.0</td>\n",
       "      <td>5.0</td>\n",
       "      <td>5.0</td>\n",
       "      <td>4.0</td>\n",
       "      <td>Detached Duplex</td>\n",
       "      <td>Lekki</td>\n",
       "      <td>Lagos</td>\n",
       "      <td>68000000.0</td>\n",
       "    </tr>\n",
       "    <tr>\n",
       "      <th>24324</th>\n",
       "      <td>3.0</td>\n",
       "      <td>4.0</td>\n",
       "      <td>4.0</td>\n",
       "      <td>3.0</td>\n",
       "      <td>Block of Flats</td>\n",
       "      <td>Victoria Island (VI)</td>\n",
       "      <td>Lagos</td>\n",
       "      <td>78000000.0</td>\n",
       "    </tr>\n",
       "    <tr>\n",
       "      <th>24325</th>\n",
       "      <td>4.0</td>\n",
       "      <td>5.0</td>\n",
       "      <td>5.0</td>\n",
       "      <td>4.0</td>\n",
       "      <td>Detached Duplex</td>\n",
       "      <td>Lekki</td>\n",
       "      <td>Lagos</td>\n",
       "      <td>65000000.0</td>\n",
       "    </tr>\n",
       "  </tbody>\n",
       "</table>\n",
       "<p>24326 rows × 8 columns</p>\n",
       "</div>"
      ],
      "text/plain": [
       "       bedrooms  bathrooms  toilets  parking_space                 title  \\\n",
       "0           6.0        5.0      5.0            4.0       Detached Duplex   \n",
       "1           4.0        5.0      5.0            4.0     Terraced Duplexes   \n",
       "2           4.0        5.0      5.0            4.0       Detached Duplex   \n",
       "3           4.0        4.0      5.0            6.0       Detached Duplex   \n",
       "4           4.0        4.0      5.0            2.0  Semi Detached Duplex   \n",
       "...         ...        ...      ...            ...                   ...   \n",
       "24321       2.0        2.0      2.0            4.0        Block of Flats   \n",
       "24322       4.0        5.0      5.0            4.0        Block of Flats   \n",
       "24323       4.0        5.0      5.0            4.0       Detached Duplex   \n",
       "24324       3.0        4.0      4.0            3.0        Block of Flats   \n",
       "24325       4.0        5.0      5.0            4.0       Detached Duplex   \n",
       "\n",
       "                       town  state        price  \n",
       "0                   Mabushi  Abuja  450000000.0  \n",
       "1                   Katampe  Abuja  800000000.0  \n",
       "2                     Lekki  Lagos  120000000.0  \n",
       "3                      Ajah  Lagos   40000000.0  \n",
       "4                     Lekki  Lagos   75000000.0  \n",
       "...                     ...    ...          ...  \n",
       "24321                Kabusa  Abuja   15000000.0  \n",
       "24322           Ado-Odo/Ota   Ogun   25000000.0  \n",
       "24323                 Lekki  Lagos   68000000.0  \n",
       "24324  Victoria Island (VI)  Lagos   78000000.0  \n",
       "24325                 Lekki  Lagos   65000000.0  \n",
       "\n",
       "[24326 rows x 8 columns]"
      ]
     },
     "execution_count": 46,
     "metadata": {},
     "output_type": "execute_result"
    }
   ],
   "source": [
    "#In the code below we ask for records with no empty data con the Title Column It means every title on each row is Listed\n",
    "#TODO: filter the dataframe using title.notna() as filter condition\n",
    "nigerhouse[nigerhouse.title.notna()]"
   ]
  },
  {
   "cell_type": "code",
   "execution_count": 49,
   "id": "84aa6ecd",
   "metadata": {},
   "outputs": [
    {
     "data": {
      "text/plain": [
       "array(['Abuja', 'Lagos', 'Edo', 'Ogun', 'Oyo', 'Imo', 'Anambara',\n",
       "       'Rivers', 'Enugu', 'Kaduna', 'Kwara', 'Nasarawa', 'Abia', 'Delta',\n",
       "       'Akwa Ibom', 'Osun', 'Ekiti', 'Cross River', 'Kogi', 'Plateau',\n",
       "       'Kano', 'Katsina', 'Bayelsa', 'Borno', 'Niger'], dtype=object)"
      ]
     },
     "execution_count": 49,
     "metadata": {},
     "output_type": "execute_result"
    }
   ],
   "source": [
    "# The code provides me with a list of titles with no missing values and their unique state values\n",
    "nigerhouse[nigerhouse.title.notna()].state.unique()"
   ]
  },
  {
   "cell_type": "code",
   "execution_count": 50,
   "id": "c3ef4deb",
   "metadata": {},
   "outputs": [
    {
     "data": {
      "text/plain": [
       "25"
      ]
     },
     "execution_count": 50,
     "metadata": {},
     "output_type": "execute_result"
    }
   ],
   "source": [
    "#Below we rap the above code with the len() to provide us with the lenght of the Unique values of the state \n",
    "# with Titles without missing value \n",
    "len(nigerhouse[nigerhouse.title.notna()].state.unique())"
   ]
  },
  {
   "cell_type": "code",
   "execution_count": 54,
   "id": "39a2b065",
   "metadata": {},
   "outputs": [
    {
     "data": {
      "text/plain": [
       "Lekki          10895\n",
       "Ajah            2164\n",
       "Ikoyi           1547\n",
       "Ikeja            688\n",
       "Ibeju Lekki      503\n",
       "               ...  \n",
       "Ede South          1\n",
       "Orile              1\n",
       "Ikwerre            1\n",
       "Abraka             1\n",
       "Danja              1\n",
       "Name: town, Length: 189, dtype: int64"
      ]
     },
     "execution_count": 54,
     "metadata": {},
     "output_type": "execute_result"
    }
   ],
   "source": [
    "# Use value_counts() on the filtered dataframe to count Towns.\n",
    "#Your code should look like df[df.description_column_name.isna()].country_column_name.value_counts()\n",
    "nigerhouse[nigerhouse.title.notna()].town.value_counts()"
   ]
  },
  {
   "cell_type": "code",
   "execution_count": 60,
   "id": "0f68cd31",
   "metadata": {},
   "outputs": [
    {
     "data": {
      "text/plain": [
       "Lagos          18445\n",
       "Abuja           3524\n",
       "Ogun             637\n",
       "Oyo              477\n",
       "Rivers           444\n",
       "Imo              246\n",
       "Anambara         145\n",
       "Enugu            128\n",
       "Edo              100\n",
       "Delta             63\n",
       "Akwa Ibom         25\n",
       "Kaduna            23\n",
       "Osun              12\n",
       "Kwara              9\n",
       "Ekiti              9\n",
       "Nasarawa           9\n",
       "Abia               9\n",
       "Kogi               8\n",
       "Plateau            2\n",
       "Borno              2\n",
       "Bayelsa            2\n",
       "Katsina            2\n",
       "Cross River        2\n",
       "Kano               2\n",
       "Niger              1\n",
       "Name: state, dtype: int64"
      ]
     },
     "execution_count": 60,
     "metadata": {},
     "output_type": "execute_result"
    }
   ],
   "source": [
    "# Use value_counts() on the filtered dataframe to count state with titles that have no missing values.\n",
    "# Becuase there are no missing data on each column, the value_counts gives the number of houses in each state on the list\n",
    "nigerhouse[nigerhouse.title.notna()].state.value_counts() "
   ]
  },
  {
   "cell_type": "code",
   "execution_count": 64,
   "id": "2d263b44",
   "metadata": {},
   "outputs": [
    {
     "data": {
      "text/plain": [
       "Lekki          10895\n",
       "Ajah            2164\n",
       "Ikoyi           1547\n",
       "Ikeja            688\n",
       "Ibeju Lekki      503\n",
       "               ...  \n",
       "Ede South          1\n",
       "Orile              1\n",
       "Ikwerre            1\n",
       "Abraka             1\n",
       "Danja              1\n",
       "Name: town, Length: 189, dtype: int64"
      ]
     },
     "execution_count": 64,
     "metadata": {},
     "output_type": "execute_result"
    }
   ],
   "source": [
    "#What is the number of house titles and states with values located in each towns\n",
    "# Code groups info by \n",
    "nigerhouse[nigerhouse.title.notna() & nigerhouse.state.notna()].town.value_counts()"
   ]
  },
  {
   "cell_type": "code",
   "execution_count": 72,
   "id": "d9c1c3eb",
   "metadata": {},
   "outputs": [
    {
     "data": {
      "text/plain": [
       "array(['Detached Duplex', 'Terraced Duplexes', 'Semi Detached Duplex',\n",
       "       'Detached Bungalow', 'Block of Flats', 'Semi Detached Bungalow',\n",
       "       'Terraced Bungalow'], dtype=object)"
      ]
     },
     "execution_count": 72,
     "metadata": {},
     "output_type": "execute_result"
    }
   ],
   "source": [
    "nigerhouse.title.unique()\n",
    "#nigerhouse[nigerhouse.title.unique()]"
   ]
  },
  {
   "cell_type": "code",
   "execution_count": 73,
   "id": "93e6a0d4",
   "metadata": {},
   "outputs": [
    {
     "data": {
      "text/plain": [
       "bedrooms         4.338814e+00\n",
       "bathrooms        4.600798e+00\n",
       "toilets          5.176355e+00\n",
       "parking_space    4.041725e+00\n",
       "price            3.013802e+08\n",
       "dtype: float64"
      ]
     },
     "execution_count": 73,
     "metadata": {},
     "output_type": "execute_result"
    }
   ],
   "source": [
    "#let's calculate average sale value\n",
    "#create a column as unit price * quantity\n",
    "#nigerhouse['SaleValue'] = nigerhouse.price * nigerhouse.bedrooms\n",
    "nigerhouse.mean()"
   ]
  },
  {
   "cell_type": "code",
   "execution_count": 74,
   "id": "37a3802a",
   "metadata": {},
   "outputs": [
    {
     "data": {
      "text/plain": [
       "301380208.47241634"
      ]
     },
     "execution_count": 74,
     "metadata": {},
     "output_type": "execute_result"
    }
   ],
   "source": [
    "nigerhouse.price.mean()"
   ]
  },
  {
   "cell_type": "code",
   "execution_count": 77,
   "id": "bfc68201",
   "metadata": {},
   "outputs": [
    {
     "data": {
      "text/plain": [
       "1800000000000.0"
      ]
     },
     "execution_count": 77,
     "metadata": {},
     "output_type": "execute_result"
    }
   ],
   "source": [
    "nigerhouse.price.max()"
   ]
  },
  {
   "cell_type": "code",
   "execution_count": 79,
   "id": "f81d9541",
   "metadata": {},
   "outputs": [
    {
     "data": {
      "text/plain": [
       "90000.0"
      ]
     },
     "execution_count": 79,
     "metadata": {},
     "output_type": "execute_result"
    }
   ],
   "source": [
    "nigerhouse.price.min()"
   ]
  },
  {
   "cell_type": "code",
   "execution_count": 88,
   "id": "d1fce47f",
   "metadata": {},
   "outputs": [
    {
     "data": {
      "text/plain": [
       "state\n",
       "Abia           9.222222e+07\n",
       "Abuja          2.279246e+08\n",
       "Akwa Ibom      4.630000e+07\n",
       "Anambara       9.465267e+07\n",
       "Bayelsa        9.000000e+07\n",
       "Borno          1.050000e+08\n",
       "Cross River    2.500000e+07\n",
       "Delta          1.030238e+08\n",
       "Edo            4.997000e+07\n",
       "Ekiti          5.488889e+07\n",
       "Enugu          6.655977e+07\n",
       "Imo            7.472561e+07\n",
       "Kaduna         3.347826e+07\n",
       "Kano           3.000000e+07\n",
       "Katsina        1.050000e+07\n",
       "Kogi           2.725000e+07\n",
       "Kwara          2.266667e+07\n",
       "Lagos          3.457721e+08\n",
       "Nasarawa       3.566667e+07\n",
       "Niger          4.000000e+07\n",
       "Ogun           2.328168e+07\n",
       "Osun           3.690000e+07\n",
       "Oyo            4.311342e+07\n",
       "Plateau        1.375000e+07\n",
       "Rivers         1.303284e+08\n",
       "Name: price, dtype: float64"
      ]
     },
     "execution_count": 88,
     "metadata": {},
     "output_type": "execute_result"
    }
   ],
   "source": [
    "# Code below gives us the average price by state\n",
    "nigerhouse.groupby('state').price.mean()"
   ]
  },
  {
   "cell_type": "code",
   "execution_count": 89,
   "id": "67951182",
   "metadata": {},
   "outputs": [
    {
     "data": {
      "text/plain": [
       "town\n",
       "Aba               9.562500e+07\n",
       "Abeokuta North    2.880000e+07\n",
       "Abeokuta South    3.564516e+07\n",
       "Abraka            3.500000e+07\n",
       "Ado-Ekiti         5.488889e+07\n",
       "                      ...     \n",
       "Wuse 2            2.693368e+08\n",
       "Wuye              1.047586e+08\n",
       "Yaba              8.722989e+07\n",
       "Yenagoa           9.000000e+07\n",
       "Yewa South        1.500000e+06\n",
       "Name: price, Length: 189, dtype: float64"
      ]
     },
     "execution_count": 89,
     "metadata": {},
     "output_type": "execute_result"
    }
   ],
   "source": [
    "# Code below gives us the average price by town\n",
    "nigerhouse.groupby('town').price.mean()"
   ]
  },
  {
   "cell_type": "code",
   "execution_count": 104,
   "id": "438d7b5f",
   "metadata": {},
   "outputs": [
    {
     "data": {
      "text/plain": [
       "state\n",
       "Lagos        345772143\n",
       "Abuja        227924610\n",
       "Rivers       130328409\n",
       "Borno        105000000\n",
       "Delta        103023809\n",
       "Anambara      94652665\n",
       "Abia          92222222\n",
       "Bayelsa       90000000\n",
       "Imo           74725609\n",
       "Enugu         66559765\n",
       "Ekiti         54888888\n",
       "Edo           49970000\n",
       "Akwa Ibom     46300000\n",
       "Oyo           43113417\n",
       "Niger         40000000\n",
       "Osun          36900000\n",
       "Nasarawa      35666666\n",
       "Kaduna        33478260\n",
       "Kano          30000000\n",
       "Kogi          27250000\n",
       "Name: price, dtype: int32"
      ]
     },
     "execution_count": 104,
     "metadata": {},
     "output_type": "execute_result"
    }
   ],
   "source": [
    "#Price value by State in ascending order\n",
    "#nigerhouse.groupby('state').price.sum().astype(int).sort_values(ascending=False)[:10]\n",
    "nigerhouse.groupby('state').price.mean().astype(int).sort_values(ascending=False)[:20]"
   ]
  },
  {
   "cell_type": "code",
   "execution_count": 106,
   "id": "2ad9ae11",
   "metadata": {},
   "outputs": [
    {
     "data": {
      "text/plain": [
       "state\n",
       "Delta          1500000000\n",
       "Anambara       1400000000\n",
       "Abia            350000000\n",
       "Oyo             350000000\n",
       "Enugu           320000000\n",
       "Imo             300000000\n",
       "Edo             270000000\n",
       "Bayelsa         160000000\n",
       "Ogun            155000000\n",
       "Ekiti           150000000\n",
       "Akwa Ibom       140000000\n",
       "Nasarawa        135000000\n",
       "Osun            135000000\n",
       "Kaduna          130000000\n",
       "Borno           105000000\n",
       "Kogi             40000000\n",
       "Niger            40000000\n",
       "Kwara            35000000\n",
       "Kano             30000000\n",
       "Plateau          27000000\n",
       "Cross River      25000000\n",
       "Katsina          15000000\n",
       "Lagos         -2147483648\n",
       "Abuja         -2147483648\n",
       "Rivers        -2147483648\n",
       "Name: price, dtype: int32"
      ]
     },
     "execution_count": 106,
     "metadata": {},
     "output_type": "execute_result"
    }
   ],
   "source": [
    "# Maximum Price value by State in ascending order\n",
    "nigerhouse.groupby('state').price.max().astype(int).sort_values(ascending=False)"
   ]
  },
  {
   "cell_type": "code",
   "execution_count": 109,
   "id": "1b37b053",
   "metadata": {},
   "outputs": [
    {
     "data": {
      "text/plain": [
       "price\n",
       "35000000.0     9\n",
       "200000000.0    9\n",
       "105000000.0    9\n",
       "850000000.0    9\n",
       "340000000.0    9\n",
       "              ..\n",
       "770000000.0    1\n",
       "5800000.0      1\n",
       "820000000.0    1\n",
       "975000000.0    1\n",
       "6900000.0      1\n",
       "Name: bedrooms, Length: 539, dtype: int32"
      ]
     },
     "execution_count": 109,
     "metadata": {},
     "output_type": "execute_result"
    }
   ],
   "source": [
    "nigerhouse.groupby('price').bedrooms.max().astype(int).sort_values(ascending=False)"
   ]
  },
  {
   "cell_type": "code",
   "execution_count": 116,
   "id": "cea56b76",
   "metadata": {},
   "outputs": [
    {
     "data": {
      "text/plain": [
       "price\n",
       "3.500000e+11    9\n",
       "9.600000e+08    8\n",
       "1.999000e+08    8\n",
       "1.849000e+08    7\n",
       "7.000000e+08    7\n",
       "               ..\n",
       "7.700000e+08    1\n",
       "1.010000e+08    1\n",
       "8.700000e+06    1\n",
       "2.150000e+07    1\n",
       "1.450000e+09    1\n",
       "Name: bathrooms, Length: 539, dtype: int32"
      ]
     },
     "execution_count": 116,
     "metadata": {},
     "output_type": "execute_result"
    }
   ],
   "source": [
    "nigerhouse.groupby('price').bathrooms.mean().astype(int).sort_values(ascending=False)"
   ]
  },
  {
   "cell_type": "code",
   "execution_count": 78,
   "id": "bb5fa5d0",
   "metadata": {},
   "outputs": [
    {
     "data": {
      "text/html": [
       "<div>\n",
       "<style scoped>\n",
       "    .dataframe tbody tr th:only-of-type {\n",
       "        vertical-align: middle;\n",
       "    }\n",
       "\n",
       "    .dataframe tbody tr th {\n",
       "        vertical-align: top;\n",
       "    }\n",
       "\n",
       "    .dataframe thead th {\n",
       "        text-align: right;\n",
       "    }\n",
       "</style>\n",
       "<table border=\"1\" class=\"dataframe\">\n",
       "  <thead>\n",
       "    <tr style=\"text-align: right;\">\n",
       "      <th></th>\n",
       "      <th>bedrooms</th>\n",
       "      <th>bathrooms</th>\n",
       "      <th>toilets</th>\n",
       "      <th>parking_space</th>\n",
       "      <th>price</th>\n",
       "    </tr>\n",
       "  </thead>\n",
       "  <tbody>\n",
       "    <tr>\n",
       "      <th>bedrooms</th>\n",
       "      <td>1.000000</td>\n",
       "      <td>0.726557</td>\n",
       "      <td>0.610501</td>\n",
       "      <td>0.158528</td>\n",
       "      <td>0.025734</td>\n",
       "    </tr>\n",
       "    <tr>\n",
       "      <th>bathrooms</th>\n",
       "      <td>0.726557</td>\n",
       "      <td>1.000000</td>\n",
       "      <td>0.719102</td>\n",
       "      <td>0.174129</td>\n",
       "      <td>0.021965</td>\n",
       "    </tr>\n",
       "    <tr>\n",
       "      <th>toilets</th>\n",
       "      <td>0.610501</td>\n",
       "      <td>0.719102</td>\n",
       "      <td>1.000000</td>\n",
       "      <td>0.225345</td>\n",
       "      <td>0.015486</td>\n",
       "    </tr>\n",
       "    <tr>\n",
       "      <th>parking_space</th>\n",
       "      <td>0.158528</td>\n",
       "      <td>0.174129</td>\n",
       "      <td>0.225345</td>\n",
       "      <td>1.000000</td>\n",
       "      <td>0.018370</td>\n",
       "    </tr>\n",
       "    <tr>\n",
       "      <th>price</th>\n",
       "      <td>0.025734</td>\n",
       "      <td>0.021965</td>\n",
       "      <td>0.015486</td>\n",
       "      <td>0.018370</td>\n",
       "      <td>1.000000</td>\n",
       "    </tr>\n",
       "  </tbody>\n",
       "</table>\n",
       "</div>"
      ],
      "text/plain": [
       "               bedrooms  bathrooms   toilets  parking_space     price\n",
       "bedrooms       1.000000   0.726557  0.610501       0.158528  0.025734\n",
       "bathrooms      0.726557   1.000000  0.719102       0.174129  0.021965\n",
       "toilets        0.610501   0.719102  1.000000       0.225345  0.015486\n",
       "parking_space  0.158528   0.174129  0.225345       1.000000  0.018370\n",
       "price          0.025734   0.021965  0.015486       0.018370  1.000000"
      ]
     },
     "execution_count": 78,
     "metadata": {},
     "output_type": "execute_result"
    }
   ],
   "source": [
    "nigerhouse.corr()"
   ]
  },
  {
   "cell_type": "code",
   "execution_count": 117,
   "id": "aeae3042",
   "metadata": {},
   "outputs": [
    {
     "data": {
      "text/plain": [
       "<AxesSubplot:>"
      ]
     },
     "execution_count": 117,
     "metadata": {},
     "output_type": "execute_result"
    },
    {
     "data": {
      "image/png": "[encoded data removed]",
      "text/plain": [
       "<Figure size 432x288 with 2 Axes>"
      ]
     },
     "metadata": {
      "needs_background": "light"
     },
     "output_type": "display_data"
    }
   ],
   "source": [
    "# we try to see if a relationship exist between the nos of bedrooms, bathrooms, toilets, parking space, and price\n",
    "sns.heatmap(nigerhouse.corr(),annot=True)"
   ]
  },
  {
   "cell_type": "code",
   "execution_count": 119,
   "id": "27d7ccc0",
   "metadata": {},
   "outputs": [
    {
     "data": {
      "text/plain": [
       "<seaborn.axisgrid.FacetGrid at 0x1e1fac32af0>"
      ]
     },
     "execution_count": 119,
     "metadata": {},
     "output_type": "execute_result"
    },
    {
     "data": {
      "image/png": "[encoded data removed]",
      "text/plain": [
       "<Figure size 360x360 with 1 Axes>"
      ]
     },
     "metadata": {
      "needs_background": "light"
     },
     "output_type": "display_data"
    }
   ],
   "source": [
    "sns.catplot(data=nigerhouse,kind='box')"
   ]
  },
  {
   "cell_type": "code",
   "execution_count": 120,
   "id": "567a37b3",
   "metadata": {},
   "outputs": [
    {
     "data": {
      "text/plain": [
       "<AxesSubplot:ylabel='price'>"
      ]
     },
     "execution_count": 120,
     "metadata": {},
     "output_type": "execute_result"
    },
    {
     "data": {
      "image/png": "[encoded data removed]",
      "text/plain": [
       "<Figure size 432x288 with 1 Axes>"
      ]
     },
     "metadata": {
      "needs_background": "light"
     },
     "output_type": "display_data"
    }
   ],
   "source": [
    "sns.boxplot(y=nigerhouse.price)"
   ]
  },
  {
   "cell_type": "code",
   "execution_count": 151,
   "id": "d5441c9f",
   "metadata": {},
   "outputs": [
    {
     "data": {
      "text/plain": [
       "state\n",
       "Lagos       1.800000e+12\n",
       "Abuja       8.500000e+10\n",
       "Rivers      4.000000e+09\n",
       "Delta       1.500000e+09\n",
       "Anambara    1.400000e+09\n",
       "Oyo         3.500000e+08\n",
       "Abia        3.500000e+08\n",
       "Enugu       3.200000e+08\n",
       "Imo         3.000000e+08\n",
       "Edo         2.700000e+08\n",
       "Name: price, dtype: float64"
      ]
     },
     "execution_count": 151,
     "metadata": {},
     "output_type": "execute_result"
    }
   ],
   "source": [
    "#Display the top 10 Titles by price in a pie chart or bar chart\n",
    "tpm = nigerhouse.groupby('title').price.mean()\n",
    "tpma= nigerhouse.groupby('title').price.max().sort_values(ascending=False)\n",
    "spms= nigerhouse.groupby('state').price.max().sort_values(ascending=False)[:10]\n",
    "tpm\n",
    "tpma\n",
    "spms"
   ]
  },
  {
   "cell_type": "code",
   "execution_count": 140,
   "id": "d371bcc9",
   "metadata": {},
   "outputs": [
    {
     "data": {
      "text/plain": [
       "<function matplotlib.pyplot.show(close=None, block=None)>"
      ]
     },
     "execution_count": 140,
     "metadata": {},
     "output_type": "execute_result"
    },
    {
     "data": {
      "image/png": "[encoded data removed]",
      "text/plain": [
       "<Figure size 900x900 with 30 Axes>"
      ]
     },
     "metadata": {
      "needs_background": "light"
     },
     "output_type": "display_data"
    }
   ],
   "source": [
    "sns.pairplot(nigerhouse.sample(500))\n",
    "plt.show"
   ]
  },
  {
   "cell_type": "code",
   "execution_count": 149,
   "id": "f33bf9ef",
   "metadata": {},
   "outputs": [
    {
     "data": {
      "image/png": "[encoded data removed]",
      "text/plain": [
       "<Figure size 432x288 with 1 Axes>"
      ]
     },
     "metadata": {
      "needs_background": "light"
     },
     "output_type": "display_data"
    }
   ],
   "source": [
    "#plot visuals for maximum price based on title\n",
    "tpma\n",
    "plt.barh(y=tpma.index, width=tpma)\n",
    "plt.show()"
   ]
  },
  {
   "cell_type": "code",
   "execution_count": 153,
   "id": "9f363439",
   "metadata": {},
   "outputs": [
    {
     "data": {
      "image/png": "[encoded data removed]",
      "text/plain": [
       "<Figure size 432x288 with 1 Axes>"
      ]
     },
     "metadata": {
      "needs_background": "light"
     },
     "output_type": "display_data"
    }
   ],
   "source": [
    "#plots the visuals for the average price based on title\n",
    "tpm\n",
    "plt.barh(y=tpm.index, width=tpm)\n",
    "plt.show()"
   ]
  },
  {
   "cell_type": "code",
   "execution_count": 162,
   "id": "895ad95b",
   "metadata": {},
   "outputs": [
    {
     "data": {
      "image/png": "[encoded data removed]",
      "text/plain": [
       "<Figure size 720x576 with 1 Axes>"
      ]
     },
     "metadata": {},
     "output_type": "display_data"
    }
   ],
   "source": [
    "#ploting a pie chart showing the average price by title\n",
    "tpm\n",
    "plt.figure(figsize=(10,8))\n",
    "plt.pie(tpm,labels=tpm.index)\n",
    "plt.show()"
   ]
  },
  {
   "cell_type": "code",
   "execution_count": 167,
   "id": "f4ef492f",
   "metadata": {},
   "outputs": [
    {
     "data": {
      "image/png": "[encoded data removed]",
      "text/plain": [
       "<Figure size 432x288 with 1 Axes>"
      ]
     },
     "metadata": {
      "needs_background": "light"
     },
     "output_type": "display_data"
    }
   ],
   "source": [
    "#use vertical bar chart to visualize top 10 House prices by state\n",
    "plt.bar(x=spms.index[:5], height=spms[:5])\n",
    "\n",
    "plt.title('Max House Price by State')\n",
    "plt.xlabel('state')\n",
    "plt.ylabel('price')\n",
    "\n",
    "plt.show()"
   ]
  },
  {
   "cell_type": "code",
   "execution_count": 176,
   "id": "d196ba8b",
   "metadata": {},
   "outputs": [
    {
     "data": {
      "image/png": "[encoded data removed]",
      "text/plain": [
       "<Figure size 432x288 with 1 Axes>"
      ]
     },
     "metadata": {
      "needs_background": "light"
     },
     "output_type": "display_data"
    }
   ],
   "source": [
    "#Line chat showing Max Price by state\n",
    "states= ['Lagos', 'Abuja', 'Rivers', 'Delta', 'Anambara', 'Oyo', 'Abia', 'Enugu', 'Imo', 'Edo']\n",
    "max_price=[ 1800000, 85000, 4000, 1500, 1400, 350, 350, 320, 300, 270]\n",
    "\n",
    "plt.plot(states, max_price)\n",
    "plt.title('Max Price By State')\n",
    "plt.xlabel('states')\n",
    "plt.ylabel('max_price')\n",
    "plt.show()"
   ]
  },
  {
   "cell_type": "code",
   "execution_count": null,
   "id": "2230d6d5",
   "metadata": {},
   "outputs": [],
   "source": []
  },
  {
   "cell_type": "code",
   "execution_count": null,
   "id": "9bc82347",
   "metadata": {},
   "outputs": [],
   "source": []
  }
 ],
 "metadata": {
  "kernelspec": {
   "display_name": "Python 3",
   "language": "python",
   "name": "python3"
  },
  "language_info": {
   "codemirror_mode": {
    "name": "ipython",
    "version": 3
   },
   "file_extension": ".py",
   "mimetype": "text/x-python",
   "name": "python",
   "nbconvert_exporter": "python",
   "pygments_lexer": "ipython3",
   "version": "3.8.8"
  }
 },
 "nbformat": 4,
 "nbformat_minor": 5
}
